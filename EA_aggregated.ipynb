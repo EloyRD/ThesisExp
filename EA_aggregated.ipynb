{
  "metadata": {
    "language_info": {
      "mimetype": "text/x-python",
      "nbconvert_exporter": "python",
      "name": "python",
      "pygments_lexer": "ipython3",
      "version": "3.5.4",
      "file_extension": ".py",
      "codemirror_mode": {
        "version": 3,
        "name": "ipython"
      }
    },
    "kernelspec": {
      "name": "python3",
      "display_name": "Python 3",
      "language": "python"
    }
  },
  "nbformat_minor": 2,
  "nbformat": 4,
  "cells": [
    {
      "cell_type": "markdown",
      "source": "# Preliminaries",
      "metadata": {}
    },
    {
      "cell_type": "markdown",
      "source": "## Importing packages",
      "metadata": {}
    },
    {
      "cell_type": "code",
      "source": "import numpy as np\n\n%load_ext autoreload\n%autoreload 1\n%matplotlib inline\n\nimport seaborn as sns\nsns.set()\nsns.set_style('whitegrid')\nsns.set_context('notebook')\n\nfrom thesis_EAfunc import *",
      "metadata": {
        "trusted": true
      },
      "execution_count": 1,
      "outputs": []
    },
    {
      "cell_type": "markdown",
      "source": "# Define landscape",
      "metadata": {}
    },
    {
      "cell_type": "code",
      "source": "#Problem domain\nx_min = -2.5\nx_max = 2.5\ny_min = -2.5\ny_max = 2.5\n\ndomain = (x_min, x_max, y_min, y_max)\n\n#Problem definition\ndef f(x, y):\n    D = 2\n    alpha = 1/8\n    a = np.abs(x ** 2 + y ** 2 - D) ** (alpha * D)\n    b = ( 0.5 * (x ** 2 + y ** 2) + (x + y) ) / D\n        \n    return (a + b + 0.5)\n\nf(-1,-1)",
      "metadata": {
        "trusted": true
      },
      "execution_count": 2,
      "outputs": [
        {
          "execution_count": 2,
          "output_type": "execute_result",
          "data": {
            "text/plain": "0.0"
          },
          "metadata": {}
        }
      ]
    },
    {
      "cell_type": "code",
      "source": "#starting seed\nnp.random.seed(654321)\n\n#Algorithm parameters\nexp_n = 100\ngen_n = 0\npop_s = 12\nbirthcounter = 0\npar_s = 6\nprog_s = 6\nmut_p = 0.5\nmut_s = 0.5\npar_selection = 'Ranking'\ncrossover = 'None'\nmutation = 'random_co_dis'\npopulation_new='Ranking'",
      "metadata": {
        "trusted": true
      },
      "execution_count": 5,
      "outputs": []
    },
    {
      "cell_type": "code",
      "source": "fitness_res = EA_exp(exp_n, f, domain, pop_s, par_s, prog_s, mut_p, mut_s, par_selection, crossover, mutation, population_new)",
      "metadata": {
        "trusted": true
      },
      "execution_count": 6,
      "outputs": []
    },
    {
      "cell_type": "markdown",
      "source": "fitn_res_cols=['run', 'generation', 'fitness_min', 'fitness_max', 'fitness_mean']\n\nfitness_res = pd.DataFrame(columns=fitn_res_cols)\n\nfor j in range(100):\n    run_n = j\n    birthcounter = 0\n\n    population, generations, birthcounter, gen_n = EA_start(pop_s, domain, f, birthcounter)\n\n    for i in range(40):\n        birthcounter, progeny = EA_prog(population, par_s, prog_s, birthcounter, gen_n, mut_p, mut_s, domain, f, par_selection='Ranking', crossover='None', mutation='random_co_dis')\n        generations = EA_prog_to_df(generations, progeny)\n        gen_n, population, progeny = EA_new_population(population, progeny, gen_n, pop_s, f, method='Ranking')\n        generations = EA_pop_to_df(generations, population)\n\n    fitness = EA_fitn_summary(generations)\n    fitness = fitness.reset_index()\n    fitness.insert(0, 'run', run_n)\n    fitness_res = fitness_res.append(fitness, ignore_index = True)",
      "metadata": {}
    },
    {
      "cell_type": "markdown",
      "source": "# Data visualization",
      "metadata": {}
    },
    {
      "cell_type": "markdown",
      "source": "## Results visualization",
      "metadata": {}
    },
    {
      "cell_type": "code",
      "source": "fitness_res[fitness_res['generation']==40].hist(column='fitness_mean')",
      "metadata": {
        "trusted": true
      },
      "execution_count": 7,
      "outputs": [
        {
          "execution_count": 7,
          "output_type": "execute_result",
          "data": {
            "text/plain": "array([[<matplotlib.axes._subplots.AxesSubplot object at 0x7f39d74c0c18>]],\n      dtype=object)"
          },
          "metadata": {}
        },
        {
          "output_type": "display_data",
          "data": {
            "image/png": "[encoded data removed]",
            "text/plain": "<matplotlib.figure.Figure at 0x7f39d7537f60>"
          },
          "metadata": {}
        }
      ]
    },
    {
      "cell_type": "code",
      "source": "fitness_res[fitness_res['generation']==40].hist(column='fitness_std')",
      "metadata": {
        "trusted": true
      },
      "execution_count": 8,
      "outputs": [
        {
          "execution_count": 8,
          "output_type": "execute_result",
          "data": {
            "text/plain": "array([[<matplotlib.axes._subplots.AxesSubplot object at 0x7f39d7441588>]],\n      dtype=object)"
          },
          "metadata": {}
        },
        {
          "output_type": "display_data",
          "data": {
            "image/png": "[encoded data removed]",
            "text/plain": "<matplotlib.figure.Figure at 0x7f39d745a438>"
          },
          "metadata": {}
        }
      ]
    },
    {
      "cell_type": "code",
      "source": "fitness_res",
      "metadata": {
        "trusted": true
      },
      "execution_count": 9,
      "outputs": [
        {
          "execution_count": 9,
          "output_type": "execute_result",
          "data": {
            "text/plain": "      fitness_max  fitness_mean  fitness_min  fitness_std  generation   run\n0        5.389172      2.970253     1.400563     1.233395         0.0   0.0\n1        1.887536      1.246876     0.272626     0.552972         1.0   0.0\n2        1.851636      1.174357     0.272626     0.511931         2.0   0.0\n3        1.438982      0.817283     0.272626     0.466974         3.0   0.0\n4        1.318106      0.634539     0.272626     0.409184         4.0   0.0\n5        1.445583      0.585421     0.272626     0.417458         5.0   0.0\n6        1.263619      0.570257     0.272626     0.385451         6.0   0.0\n7        1.252404      0.569322     0.272626     0.383626         7.0   0.0\n8        1.053209      0.492982     0.272626     0.321447         8.0   0.0\n9        1.053209      0.492982     0.272626     0.321447         9.0   0.0\n10       1.053209      0.492982     0.272626     0.321447        10.0   0.0\n11       1.340474      0.528131     0.272626     0.392544        11.0   0.0\n12       1.252174      0.481005     0.272626     0.320636        12.0   0.0\n13       1.408197      0.494007     0.272626     0.355966        13.0   0.0\n14       1.098884      0.468230     0.272626     0.288569        14.0   0.0\n15       1.098884      0.468230     0.272626     0.288569        15.0   0.0\n16       1.098884      0.468230     0.272626     0.288569        16.0   0.0\n17       0.952664      0.404683     0.272626     0.210456        17.0   0.0\n18       0.710521      0.353321     0.272626     0.120584        18.0   0.0\n19       0.710521      0.353321     0.272626     0.120584        19.0   0.0\n20       0.710521      0.353321     0.272626     0.120584        20.0   0.0\n21       0.710521      0.353321     0.272626     0.120584        21.0   0.0\n22       1.227824      0.396429     0.272626     0.265400        22.0   0.0\n23       1.227824      0.396429     0.272626     0.265400        23.0   0.0\n24       0.420930      0.322137     0.272626     0.043664        24.0   0.0\n25       0.420930      0.322137     0.272626     0.043664        25.0   0.0\n26       0.420930      0.322137     0.272626     0.043664        26.0   0.0\n27       0.420930      0.322137     0.272626     0.043664        27.0   0.0\n28       0.420930      0.322137     0.272626     0.043664        28.0   0.0\n29       0.420930      0.322137     0.272626     0.043664        29.0   0.0\n...           ...           ...          ...          ...         ...   ...\n4070     0.616749      0.582467     0.557979     0.030262        11.0  99.0\n4071     0.616749      0.582467     0.557979     0.030262        12.0  99.0\n4072     0.616749      0.582467     0.557979     0.030262        13.0  99.0\n4073     0.616749      0.582467     0.557979     0.030262        14.0  99.0\n4074     0.616749      0.582467     0.557979     0.030262        15.0  99.0\n4075     0.616749      0.582467     0.557979     0.030262        16.0  99.0\n4076     0.616749      0.577569     0.557979     0.028936        17.0  99.0\n4077     0.616749      0.577569     0.557979     0.028936        18.0  99.0\n4078     0.616749      0.572672     0.557979     0.026580        19.0  99.0\n4079     0.616749      0.567774     0.557979     0.022876        20.0  99.0\n4080     0.616749      0.562877     0.557979     0.016965        21.0  99.0\n4081     0.557979      0.557979     0.557979     0.000000        22.0  99.0\n4082     0.557979      0.557979     0.557979     0.000000        23.0  99.0\n4083     0.557979      0.557979     0.557979     0.000000        24.0  99.0\n4084     0.557979      0.557979     0.557979     0.000000        25.0  99.0\n4085     0.557979      0.557979     0.557979     0.000000        26.0  99.0\n4086     0.557979      0.557979     0.557979     0.000000        27.0  99.0\n4087     0.557979      0.557979     0.557979     0.000000        28.0  99.0\n4088     0.557979      0.557979     0.557979     0.000000        29.0  99.0\n4089     0.557979      0.557979     0.557979     0.000000        30.0  99.0\n4090     0.557979      0.557979     0.557979     0.000000        31.0  99.0\n4091     0.557979      0.557979     0.557979     0.000000        32.0  99.0\n4092     0.557979      0.557979     0.557979     0.000000        33.0  99.0\n4093     0.557979      0.557979     0.557979     0.000000        34.0  99.0\n4094     0.557979      0.557979     0.557979     0.000000        35.0  99.0\n4095     0.557979      0.557979     0.557979     0.000000        36.0  99.0\n4096     0.557979      0.557979     0.557979     0.000000        37.0  99.0\n4097     0.557979      0.557979     0.557979     0.000000        38.0  99.0\n4098     0.557979      0.557979     0.557979     0.000000        39.0  99.0\n4099     0.557979      0.557979     0.557979     0.000000        40.0  99.0\n\n[4100 rows x 6 columns]",
            "text/html": "<div>\n<table border=\"1\" class=\"dataframe\">\n  <thead>\n    <tr style=\"text-align: right;\">\n      <th></th>\n      <th>fitness_max</th>\n      <th>fitness_mean</th>\n      <th>fitness_min</th>\n      <th>fitness_std</th>\n      <th>generation</th>\n      <th>run</th>\n    </tr>\n  </thead>\n  <tbody>\n    <tr>\n      <th>0</th>\n      <td>5.389172</td>\n      <td>2.970253</td>\n      <td>1.400563</td>\n      <td>1.233395</td>\n      <td>0.0</td>\n      <td>0.0</td>\n    </tr>\n    <tr>\n      <th>1</th>\n      <td>1.887536</td>\n      <td>1.246876</td>\n      <td>0.272626</td>\n      <td>0.552972</td>\n      <td>1.0</td>\n      <td>0.0</td>\n    </tr>\n    <tr>\n      <th>2</th>\n      <td>1.851636</td>\n      <td>1.174357</td>\n      <td>0.272626</td>\n      <td>0.511931</td>\n      <td>2.0</td>\n      <td>0.0</td>\n    </tr>\n    <tr>\n      <th>3</th>\n      <td>1.438982</td>\n      <td>0.817283</td>\n      <td>0.272626</td>\n      <td>0.466974</td>\n      <td>3.0</td>\n      <td>0.0</td>\n    </tr>\n    <tr>\n      <th>4</th>\n      <td>1.318106</td>\n      <td>0.634539</td>\n      <td>0.272626</td>\n      <td>0.409184</td>\n      <td>4.0</td>\n      <td>0.0</td>\n    </tr>\n    <tr>\n      <th>5</th>\n      <td>1.445583</td>\n      <td>0.585421</td>\n      <td>0.272626</td>\n      <td>0.417458</td>\n      <td>5.0</td>\n      <td>0.0</td>\n    </tr>\n    <tr>\n      <th>6</th>\n      <td>1.263619</td>\n      <td>0.570257</td>\n      <td>0.272626</td>\n      <td>0.385451</td>\n      <td>6.0</td>\n      <td>0.0</td>\n    </tr>\n    <tr>\n      <th>7</th>\n      <td>1.252404</td>\n      <td>0.569322</td>\n      <td>0.272626</td>\n      <td>0.383626</td>\n      <td>7.0</td>\n      <td>0.0</td>\n    </tr>\n    <tr>\n      <th>8</th>\n      <td>1.053209</td>\n      <td>0.492982</td>\n      <td>0.272626</td>\n      <td>0.321447</td>\n      <td>8.0</td>\n      <td>0.0</td>\n    </tr>\n    <tr>\n      <th>9</th>\n      <td>1.053209</td>\n      <td>0.492982</td>\n      <td>0.272626</td>\n      <td>0.321447</td>\n      <td>9.0</td>\n      <td>0.0</td>\n    </tr>\n    <tr>\n      <th>10</th>\n      <td>1.053209</td>\n      <td>0.492982</td>\n      <td>0.272626</td>\n      <td>0.321447</td>\n      <td>10.0</td>\n      <td>0.0</td>\n    </tr>\n    <tr>\n      <th>11</th>\n      <td>1.340474</td>\n      <td>0.528131</td>\n      <td>0.272626</td>\n      <td>0.392544</td>\n      <td>11.0</td>\n      <td>0.0</td>\n    </tr>\n    <tr>\n      <th>12</th>\n      <td>1.252174</td>\n      <td>0.481005</td>\n      <td>0.272626</td>\n      <td>0.320636</td>\n      <td>12.0</td>\n      <td>0.0</td>\n    </tr>\n    <tr>\n      <th>13</th>\n      <td>1.408197</td>\n      <td>0.494007</td>\n      <td>0.272626</td>\n      <td>0.355966</td>\n      <td>13.0</td>\n      <td>0.0</td>\n    </tr>\n    <tr>\n      <th>14</th>\n      <td>1.098884</td>\n      <td>0.468230</td>\n      <td>0.272626</td>\n      <td>0.288569</td>\n      <td>14.0</td>\n      <td>0.0</td>\n    </tr>\n    <tr>\n      <th>15</th>\n      <td>1.098884</td>\n      <td>0.468230</td>\n      <td>0.272626</td>\n      <td>0.288569</td>\n      <td>15.0</td>\n      <td>0.0</td>\n    </tr>\n    <tr>\n      <th>16</th>\n      <td>1.098884</td>\n      <td>0.468230</td>\n      <td>0.272626</td>\n      <td>0.288569</td>\n      <td>16.0</td>\n      <td>0.0</td>\n    </tr>\n    <tr>\n      <th>17</th>\n      <td>0.952664</td>\n      <td>0.404683</td>\n      <td>0.272626</td>\n      <td>0.210456</td>\n      <td>17.0</td>\n      <td>0.0</td>\n    </tr>\n    <tr>\n      <th>18</th>\n      <td>0.710521</td>\n      <td>0.353321</td>\n      <td>0.272626</td>\n      <td>0.120584</td>\n      <td>18.0</td>\n      <td>0.0</td>\n    </tr>\n    <tr>\n      <th>19</th>\n      <td>0.710521</td>\n      <td>0.353321</td>\n      <td>0.272626</td>\n      <td>0.120584</td>\n      <td>19.0</td>\n      <td>0.0</td>\n    </tr>\n    <tr>\n      <th>20</th>\n      <td>0.710521</td>\n      <td>0.353321</td>\n      <td>0.272626</td>\n      <td>0.120584</td>\n      <td>20.0</td>\n      <td>0.0</td>\n    </tr>\n    <tr>\n      <th>21</th>\n      <td>0.710521</td>\n      <td>0.353321</td>\n      <td>0.272626</td>\n      <td>0.120584</td>\n      <td>21.0</td>\n      <td>0.0</td>\n    </tr>\n    <tr>\n      <th>22</th>\n      <td>1.227824</td>\n      <td>0.396429</td>\n      <td>0.272626</td>\n      <td>0.265400</td>\n      <td>22.0</td>\n      <td>0.0</td>\n    </tr>\n    <tr>\n      <th>23</th>\n      <td>1.227824</td>\n      <td>0.396429</td>\n      <td>0.272626</td>\n      <td>0.265400</td>\n      <td>23.0</td>\n      <td>0.0</td>\n    </tr>\n    <tr>\n      <th>24</th>\n      <td>0.420930</td>\n      <td>0.322137</td>\n      <td>0.272626</td>\n      <td>0.043664</td>\n      <td>24.0</td>\n      <td>0.0</td>\n    </tr>\n    <tr>\n      <th>25</th>\n      <td>0.420930</td>\n      <td>0.322137</td>\n      <td>0.272626</td>\n      <td>0.043664</td>\n      <td>25.0</td>\n      <td>0.0</td>\n    </tr>\n    <tr>\n      <th>26</th>\n      <td>0.420930</td>\n      <td>0.322137</td>\n      <td>0.272626</td>\n      <td>0.043664</td>\n      <td>26.0</td>\n      <td>0.0</td>\n    </tr>\n    <tr>\n      <th>27</th>\n      <td>0.420930</td>\n      <td>0.322137</td>\n      <td>0.272626</td>\n      <td>0.043664</td>\n      <td>27.0</td>\n      <td>0.0</td>\n    </tr>\n    <tr>\n      <th>28</th>\n      <td>0.420930</td>\n      <td>0.322137</td>\n      <td>0.272626</td>\n      <td>0.043664</td>\n      <td>28.0</td>\n      <td>0.0</td>\n    </tr>\n    <tr>\n      <th>29</th>\n      <td>0.420930</td>\n      <td>0.322137</td>\n      <td>0.272626</td>\n      <td>0.043664</td>\n      <td>29.0</td>\n      <td>0.0</td>\n    </tr>\n    <tr>\n      <th>...</th>\n      <td>...</td>\n      <td>...</td>\n      <td>...</td>\n      <td>...</td>\n      <td>...</td>\n      <td>...</td>\n    </tr>\n    <tr>\n      <th>4070</th>\n      <td>0.616749</td>\n      <td>0.582467</td>\n      <td>0.557979</td>\n      <td>0.030262</td>\n      <td>11.0</td>\n      <td>99.0</td>\n    </tr>\n    <tr>\n      <th>4071</th>\n      <td>0.616749</td>\n      <td>0.582467</td>\n      <td>0.557979</td>\n      <td>0.030262</td>\n      <td>12.0</td>\n      <td>99.0</td>\n    </tr>\n    <tr>\n      <th>4072</th>\n      <td>0.616749</td>\n      <td>0.582467</td>\n      <td>0.557979</td>\n      <td>0.030262</td>\n      <td>13.0</td>\n      <td>99.0</td>\n    </tr>\n    <tr>\n      <th>4073</th>\n      <td>0.616749</td>\n      <td>0.582467</td>\n      <td>0.557979</td>\n      <td>0.030262</td>\n      <td>14.0</td>\n      <td>99.0</td>\n    </tr>\n    <tr>\n      <th>4074</th>\n      <td>0.616749</td>\n      <td>0.582467</td>\n      <td>0.557979</td>\n      <td>0.030262</td>\n      <td>15.0</td>\n      <td>99.0</td>\n    </tr>\n    <tr>\n      <th>4075</th>\n      <td>0.616749</td>\n      <td>0.582467</td>\n      <td>0.557979</td>\n      <td>0.030262</td>\n      <td>16.0</td>\n      <td>99.0</td>\n    </tr>\n    <tr>\n      <th>4076</th>\n      <td>0.616749</td>\n      <td>0.577569</td>\n      <td>0.557979</td>\n      <td>0.028936</td>\n      <td>17.0</td>\n      <td>99.0</td>\n    </tr>\n    <tr>\n      <th>4077</th>\n      <td>0.616749</td>\n      <td>0.577569</td>\n      <td>0.557979</td>\n      <td>0.028936</td>\n      <td>18.0</td>\n      <td>99.0</td>\n    </tr>\n    <tr>\n      <th>4078</th>\n      <td>0.616749</td>\n      <td>0.572672</td>\n      <td>0.557979</td>\n      <td>0.026580</td>\n      <td>19.0</td>\n      <td>99.0</td>\n    </tr>\n    <tr>\n      <th>4079</th>\n      <td>0.616749</td>\n      <td>0.567774</td>\n      <td>0.557979</td>\n      <td>0.022876</td>\n      <td>20.0</td>\n      <td>99.0</td>\n    </tr>\n    <tr>\n      <th>4080</th>\n      <td>0.616749</td>\n      <td>0.562877</td>\n      <td>0.557979</td>\n      <td>0.016965</td>\n      <td>21.0</td>\n      <td>99.0</td>\n    </tr>\n    <tr>\n      <th>4081</th>\n      <td>0.557979</td>\n      <td>0.557979</td>\n      <td>0.557979</td>\n      <td>0.000000</td>\n      <td>22.0</td>\n      <td>99.0</td>\n    </tr>\n    <tr>\n      <th>4082</th>\n      <td>0.557979</td>\n      <td>0.557979</td>\n      <td>0.557979</td>\n      <td>0.000000</td>\n      <td>23.0</td>\n      <td>99.0</td>\n    </tr>\n    <tr>\n      <th>4083</th>\n      <td>0.557979</td>\n      <td>0.557979</td>\n      <td>0.557979</td>\n      <td>0.000000</td>\n      <td>24.0</td>\n      <td>99.0</td>\n    </tr>\n    <tr>\n      <th>4084</th>\n      <td>0.557979</td>\n      <td>0.557979</td>\n      <td>0.557979</td>\n      <td>0.000000</td>\n      <td>25.0</td>\n      <td>99.0</td>\n    </tr>\n    <tr>\n      <th>4085</th>\n      <td>0.557979</td>\n      <td>0.557979</td>\n      <td>0.557979</td>\n      <td>0.000000</td>\n      <td>26.0</td>\n      <td>99.0</td>\n    </tr>\n    <tr>\n      <th>4086</th>\n      <td>0.557979</td>\n      <td>0.557979</td>\n      <td>0.557979</td>\n      <td>0.000000</td>\n      <td>27.0</td>\n      <td>99.0</td>\n    </tr>\n    <tr>\n      <th>4087</th>\n      <td>0.557979</td>\n      <td>0.557979</td>\n      <td>0.557979</td>\n      <td>0.000000</td>\n      <td>28.0</td>\n      <td>99.0</td>\n    </tr>\n    <tr>\n      <th>4088</th>\n      <td>0.557979</td>\n      <td>0.557979</td>\n      <td>0.557979</td>\n      <td>0.000000</td>\n      <td>29.0</td>\n      <td>99.0</td>\n    </tr>\n    <tr>\n      <th>4089</th>\n      <td>0.557979</td>\n      <td>0.557979</td>\n      <td>0.557979</td>\n      <td>0.000000</td>\n      <td>30.0</td>\n      <td>99.0</td>\n    </tr>\n    <tr>\n      <th>4090</th>\n      <td>0.557979</td>\n      <td>0.557979</td>\n      <td>0.557979</td>\n      <td>0.000000</td>\n      <td>31.0</td>\n      <td>99.0</td>\n    </tr>\n    <tr>\n      <th>4091</th>\n      <td>0.557979</td>\n      <td>0.557979</td>\n      <td>0.557979</td>\n      <td>0.000000</td>\n      <td>32.0</td>\n      <td>99.0</td>\n    </tr>\n    <tr>\n      <th>4092</th>\n      <td>0.557979</td>\n      <td>0.557979</td>\n      <td>0.557979</td>\n      <td>0.000000</td>\n      <td>33.0</td>\n      <td>99.0</td>\n    </tr>\n    <tr>\n      <th>4093</th>\n      <td>0.557979</td>\n      <td>0.557979</td>\n      <td>0.557979</td>\n      <td>0.000000</td>\n      <td>34.0</td>\n      <td>99.0</td>\n    </tr>\n    <tr>\n      <th>4094</th>\n      <td>0.557979</td>\n      <td>0.557979</td>\n      <td>0.557979</td>\n      <td>0.000000</td>\n      <td>35.0</td>\n      <td>99.0</td>\n    </tr>\n    <tr>\n      <th>4095</th>\n      <td>0.557979</td>\n      <td>0.557979</td>\n      <td>0.557979</td>\n      <td>0.000000</td>\n      <td>36.0</td>\n      <td>99.0</td>\n    </tr>\n    <tr>\n      <th>4096</th>\n      <td>0.557979</td>\n      <td>0.557979</td>\n      <td>0.557979</td>\n      <td>0.000000</td>\n      <td>37.0</td>\n      <td>99.0</td>\n    </tr>\n    <tr>\n      <th>4097</th>\n      <td>0.557979</td>\n      <td>0.557979</td>\n      <td>0.557979</td>\n      <td>0.000000</td>\n      <td>38.0</td>\n      <td>99.0</td>\n    </tr>\n    <tr>\n      <th>4098</th>\n      <td>0.557979</td>\n      <td>0.557979</td>\n      <td>0.557979</td>\n      <td>0.000000</td>\n      <td>39.0</td>\n      <td>99.0</td>\n    </tr>\n    <tr>\n      <th>4099</th>\n      <td>0.557979</td>\n      <td>0.557979</td>\n      <td>0.557979</td>\n      <td>0.000000</td>\n      <td>40.0</td>\n      <td>99.0</td>\n    </tr>\n  </tbody>\n</table>\n<p>4100 rows × 6 columns</p>\n</div>"
          },
          "metadata": {}
        }
      ]
    },
    {
      "cell_type": "code",
      "source": "",
      "metadata": {},
      "execution_count": null,
      "outputs": []
    }
  ]
}