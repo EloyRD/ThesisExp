{
 "cells": [
  {
   "cell_type": "markdown",
   "metadata": {},
   "source": [
    "# 2-Level 6-Factor Full Factorial (With 30 replicates)\n",
    "# (TESTCASE A)\n",
    "# Generating Data\n",
    "\n",
    "<br />\n",
    "\n",
    "### Table of Contents\n",
    "* [Preliminaries](#Preliminaries)\n",
    " * Importing Python packages\n",
    " * [Define Landscape](#Landscape)\n",
    "* [Running the EA](#EA)\n",
    " * [Setting the data storage](#EA_DaSt)\n",
    " * [Setting parameter space](#EA_PaSp)\n",
    "  * [2-Level Factors encoded values](#EA_DaCo)\n",
    " * [Iterative experiment](#EA_ItEx)\n",
    "* [Processing data for DOE Analysis](#Data)\n",
    "<br />"
   ]
  },
  {
   "cell_type": "markdown",
   "metadata": {},
   "source": [
    "# Preliminaries <a name=\"Preliminaries\"></a>\n",
    "## Importing packages"
   ]
  },
  {
   "cell_type": "code",
   "execution_count": 1,
   "metadata": {},
   "outputs": [],
   "source": [
    "import numpy as np\n",
    "import pandas as pd\n",
    "import itertools as it\n",
    "\n",
    "import scipy.stats as stats\n",
    "\n",
    "import seaborn as sns\n",
    "import matplotlib.pyplot as plt\n",
    "plt.style.use('bmh')\n",
    "%matplotlib inline\n",
    "\n",
    "from thesis_EAfunc import *\n",
    "from thesis_visfunc import *"
   ]
  },
  {
   "cell_type": "code",
   "execution_count": 2,
   "metadata": {},
   "outputs": [
    {
     "name": "stdout",
     "output_type": "stream",
     "text": [
      "2019-05-22 12:37:12.979952\n"
     ]
    }
   ],
   "source": [
    "import datetime\n",
    "time_a = datetime.datetime.now()\n",
    "print(time_a)"
   ]
  },
  {
   "cell_type": "markdown",
   "metadata": {},
   "source": [
    "## Define Landscape <a name=\"Landscape\"></a>"
   ]
  },
  {
   "cell_type": "code",
   "execution_count": 3,
   "metadata": {},
   "outputs": [
    {
     "name": "stdout",
     "output_type": "stream",
     "text": [
      "50.62059878583003 5.177364279021976 6.107247239602234 0.031278340140559635\n",
      "\n",
      "0.0\n"
     ]
    }
   ],
   "source": [
    "#Problem domain\n",
    "x_min = -15\n",
    "x_max = 15\n",
    "y_min = -15\n",
    "y_max = 15\n",
    "\n",
    "#Known minimum\n",
    "x_point = -6.01717\n",
    "y_point = 9.06022\n",
    "\n",
    "domain = (x_min, x_max, y_min, y_max)\n",
    "point = (x_point, y_point)\n",
    "img_size = (8.5, 4.25)\n",
    "\n",
    "#Problem definition\n",
    "import math\n",
    "def g(x,y):\n",
    "    mag = np.sqrt(x**2. + y**2.)\n",
    "    return -(50.*np.sinc(mag/np.pi) - mag)\n",
    "\n",
    "def f(x, y):\n",
    "    x_min = -6.01717\n",
    "    y_min = 9.06022\n",
    "    f_min = g(x_min+11., y_min+9.) + g(x_min-11., y_min-3.) + g(x_min+6., y_min-9.)\n",
    "    tripsinc = g(x+11., y+9.) + g(x-11., y-3.) + g(x+6., y-9.) - (f_min)\n",
    "    return tripsinc\n",
    "\n",
    "#Testing the minimum\n",
    "print(f(-1,-1), f(-11,-9), f(11,3), f(-6,9))\n",
    "print()\n",
    "print(f(-6.01717, 9.06022))"
   ]
  },
  {
   "cell_type": "markdown",
   "metadata": {},
   "source": [
    "# Running the Evolutionary Algorithm <a name=\"EA\"></a>\n",
    "1 Experiments\n",
    "L-> 64 Runs in the experiment, each run with a different set of the 5 Factors.\n",
    "    L-> 30 Replicates per run\n",
    "        L-> Each replicate is different due to randomness effects."
   ]
  },
  {
   "cell_type": "code",
   "execution_count": 4,
   "metadata": {},
   "outputs": [],
   "source": [
    "#starting seed\n",
    "np.random.seed(42)"
   ]
  },
  {
   "cell_type": "markdown",
   "metadata": {},
   "source": [
    "## Setting data storage <a name=\"EA_DaSto\"></a>"
   ]
  },
  {
   "cell_type": "code",
   "execution_count": 5,
   "metadata": {},
   "outputs": [],
   "source": [
    "mult_fit_cols = ['exp'] + ['pop_s'] + ['b'] + ['mut_p'] + ['mut_s'] + ['p_sel'] + ['s_sel'] + ['run', 'generation', 'fitness_min', 'fitness_max', 'fitness_mean', 'fitness_std']\n",
    "multi_fit = pd.DataFrame(columns=mult_fit_cols)\n",
    "multi_fit = multi_fit.infer_objects()\n",
    "\n",
    "multi_gen_cols = ['exp'] + ['pop_s'] + ['b'] + ['mut_p'] + ['mut_s'] + ['p_sel'] + ['s_sel'] + ['run', 'birthdate', 'generation', 'function', 'fitness', 'gen_x', 'gen_y']\n",
    "multi_gen = pd.DataFrame(columns=multi_gen_cols)\n",
    "multi_gen = multi_gen.infer_objects()"
   ]
  },
  {
   "cell_type": "markdown",
   "metadata": {},
   "source": [
    "## Setting parameter space for the experiment <a name=\"EA_PaSp\"></a>"
   ]
  },
  {
   "cell_type": "code",
   "execution_count": 6,
   "metadata": {},
   "outputs": [],
   "source": [
    "# Algorithm parameters\n",
    "## Number of experiments, and generations per experiment\n",
    "run_n = 30\n",
    "gen_f = 60\n",
    "\n",
    "## Population size\n",
    "pop_s = [10, 30]\n",
    "\n",
    "## Parent subpopulation's selection method and size\n",
    "par_selection = ['fitness_proportional_selection','tournament_k3']\n",
    "b = [0.5, 5]\n",
    "par_s = [z*y for z in pop_s for y in b]\n",
    "\n",
    "## Progeny subpopulation's size\n",
    "prog_s = par_s\n",
    "\n",
    "### Crossover Method\n",
    "crossover = 'uniform'\n",
    "### Mutation method, probability and size\n",
    "mutation = 'random_all_gau_dis'\n",
    "mut_p = [0.1, 0.9]\n",
    "mut_s = [.1, 10]\n",
    "\n",
    "## New population selection method\n",
    "sur_selection = ['fitness_proportional_selection','tournament_k3']"
   ]
  },
  {
   "cell_type": "markdown",
   "metadata": {},
   "source": [
    "### 2-Level Factors encoded values <a name=\"EA_FaCo\"></a>"
   ]
  },
  {
   "cell_type": "code",
   "execution_count": 24,
   "metadata": {},
   "outputs": [
    {
     "data": {
      "text/html": [
       "<div>\n",
       "<style scoped>\n",
       "    .dataframe tbody tr th:only-of-type {\n",
       "        vertical-align: middle;\n",
       "    }\n",
       "\n",
       "    .dataframe tbody tr th {\n",
       "        vertical-align: top;\n",
       "    }\n",
       "\n",
       "    .dataframe thead th {\n",
       "        text-align: right;\n",
       "    }\n",
       "</style>\n",
       "<table border=\"1\" class=\"dataframe\">\n",
       "  <thead>\n",
       "    <tr style=\"text-align: right;\">\n",
       "      <th></th>\n",
       "      <th>Label</th>\n",
       "      <th>Variable type</th>\n",
       "      <th>Value_low</th>\n",
       "      <th>Value_high</th>\n",
       "      <th>encoded_low</th>\n",
       "      <th>encoded_high</th>\n",
       "    </tr>\n",
       "    <tr>\n",
       "      <th>index</th>\n",
       "      <th></th>\n",
       "      <th></th>\n",
       "      <th></th>\n",
       "      <th></th>\n",
       "      <th></th>\n",
       "      <th></th>\n",
       "    </tr>\n",
       "  </thead>\n",
       "  <tbody>\n",
       "    <tr>\n",
       "      <th>pop_s</th>\n",
       "      <td>Population size</td>\n",
       "      <td>Numerical</td>\n",
       "      <td>10</td>\n",
       "      <td>30</td>\n",
       "      <td>-1</td>\n",
       "      <td>1</td>\n",
       "    </tr>\n",
       "    <tr>\n",
       "      <th>b</th>\n",
       "      <td>Progeny-to-population ratio</td>\n",
       "      <td>Numerical</td>\n",
       "      <td>0.5</td>\n",
       "      <td>5</td>\n",
       "      <td>-1</td>\n",
       "      <td>1</td>\n",
       "    </tr>\n",
       "    <tr>\n",
       "      <th>mut_p</th>\n",
       "      <td>Mutation Probability</td>\n",
       "      <td>Numerical (&lt;1)</td>\n",
       "      <td>0.1</td>\n",
       "      <td>0.9</td>\n",
       "      <td>-1</td>\n",
       "      <td>1</td>\n",
       "    </tr>\n",
       "    <tr>\n",
       "      <th>mut_s</th>\n",
       "      <td>Mutation size</td>\n",
       "      <td>Numerical</td>\n",
       "      <td>0.1</td>\n",
       "      <td>10</td>\n",
       "      <td>-1</td>\n",
       "      <td>1</td>\n",
       "    </tr>\n",
       "    <tr>\n",
       "      <th>p_sel</th>\n",
       "      <td>Parent selection</td>\n",
       "      <td>Categorical</td>\n",
       "      <td>fitness proportional</td>\n",
       "      <td>tournament k3</td>\n",
       "      <td>-1</td>\n",
       "      <td>1</td>\n",
       "    </tr>\n",
       "    <tr>\n",
       "      <th>s_sel</th>\n",
       "      <td>Survivor selection method</td>\n",
       "      <td>Categorical</td>\n",
       "      <td>fitness proportional</td>\n",
       "      <td>tournament k3</td>\n",
       "      <td>-1</td>\n",
       "      <td>1</td>\n",
       "    </tr>\n",
       "  </tbody>\n",
       "</table>\n",
       "</div>"
      ],
      "text/plain": [
       "                             Label   Variable type             Value_low  \\\n",
       "index                                                                      \n",
       "pop_s              Population size       Numerical                    10   \n",
       "b      Progeny-to-population ratio       Numerical                   0.5   \n",
       "mut_p         Mutation Probability  Numerical (<1)                   0.1   \n",
       "mut_s                Mutation size       Numerical                   0.1   \n",
       "p_sel             Parent selection     Categorical  fitness proportional   \n",
       "s_sel    Survivor selection method     Categorical  fitness proportional   \n",
       "\n",
       "          Value_high  encoded_low  encoded_high  \n",
       "index                                            \n",
       "pop_s             30           -1             1  \n",
       "b                  5           -1             1  \n",
       "mut_p            0.9           -1             1  \n",
       "mut_s             10           -1             1  \n",
       "p_sel  tournament k3           -1             1  \n",
       "s_sel  tournament k3           -1             1  "
      ]
     },
     "execution_count": 24,
     "metadata": {},
     "output_type": "execute_result"
    }
   ],
   "source": [
    "inputs_labels = {'pop_s' : 'Population size',\n",
    "                 'b'     : 'Progeny-to-population ratio',\n",
    "                 'mut_p' : 'Mutation Probability',\n",
    "                 'mut_s' : 'Mutation size',\n",
    "                 'p_sel' : 'Parent selection',\n",
    "                 's_sel' : 'Survivor selection method'\n",
    "                }\n",
    "\n",
    "dat = [('pop_s',  10, 30, -1, 1, 'Numerical'),\n",
    "       ('b'    , 0.5, 5, -1, 1, 'Numerical'),\n",
    "       ('mut_p', 0.1, 0.9, -1, 1, 'Numerical (<1)'),\n",
    "       ('mut_s', 0.1, 10, -1, 1, 'Numerical'),\n",
    "       ('p_sel', 'fitness proportional', 'tournament k3', -1, 1, 'Categorical'),\n",
    "       ('s_sel', 'fitness proportional', 'tournament k3', -1, 1, 'Categorical')\n",
    "      ]\n",
    "\n",
    "inputs_df = pd.DataFrame(dat,columns=['index', 'Value_low', 'Value_high', 'encoded_low', 'encoded_high', 'Variable type'])\n",
    "inputs_df = inputs_df.set_index(['index'])\n",
    "inputs_df['Label'] = inputs_df.index.map( lambda z : inputs_labels[z] )\n",
    "inputs_df = inputs_df[['Label', 'Variable type', 'Value_low', 'Value_high', 'encoded_low', 'encoded_high' ]]\n",
    "\n",
    "inputs_df"
   ]
  },
  {
   "cell_type": "markdown",
   "metadata": {},
   "source": [
    "## Iterative experiment <a name=\"EA_ItEx\"></a>"
   ]
  },
  {
   "cell_type": "code",
   "execution_count": 7,
   "metadata": {},
   "outputs": [
    {
     "name": "stdout",
     "output_type": "stream",
     "text": [
      "\n"
     ]
    },
    {
     "data": {
      "text/plain": [
       "64"
      ]
     },
     "execution_count": 7,
     "metadata": {},
     "output_type": "execute_result"
    }
   ],
   "source": [
    "print()\n",
    "exp_par = list(it.product(pop_s, b, mut_p, mut_s, par_selection, sur_selection))\n",
    "len(exp_par)"
   ]
  },
  {
   "cell_type": "code",
   "execution_count": 16,
   "metadata": {},
   "outputs": [
    {
     "name": "stdout",
     "output_type": "stream",
     "text": [
      "Wall time: 1h 41min 16s\n"
     ]
    }
   ],
   "source": [
    "%%time\n",
    "exp_n = 1\n",
    "for (zz, yy, xx, vv, uu, tt) in exp_par:\n",
    "    sur_selection = tt\n",
    "    par_selection = uu\n",
    "    mut_s = vv\n",
    "    mut_p = xx\n",
    "    b = yy\n",
    "    pop_s = zz\n",
    "    prog_s = int(b * pop_s)\n",
    "    par_s = prog_s\n",
    "    \n",
    "    genera_res, fitness_res = EA_exp(run_n, gen_f, f, domain, pop_s, par_s, prog_s, mut_p, mut_s, par_selection, crossover, mutation, sur_selection)\n",
    "    \n",
    "    fitness_res.insert(0, 's_sel', tt)\n",
    "    fitness_res.insert(0, 'p_sel', uu)\n",
    "    fitness_res.insert(0, 'mut_s', vv)\n",
    "    fitness_res.insert(0, 'mut_p', xx)\n",
    "    fitness_res.insert(0, 'b', yy)\n",
    "    fitness_res.insert(0, 'pop_s', zz)\n",
    "    fitness_res.insert(0, 'exp', exp_n)\n",
    "    multi_fit = multi_fit.append(fitness_res, ignore_index=True, sort=False)\n",
    "    multi_fit = multi_fit.infer_objects()\n",
    "    \n",
    "    genera_res.insert(0, 's_sel', tt)\n",
    "    genera_res.insert(0, 'p_sel', uu)\n",
    "    genera_res.insert(0, 'mut_s', vv)\n",
    "    genera_res.insert(0, 'mut_p', xx)\n",
    "    genera_res.insert(0, 'b', yy)\n",
    "    genera_res.insert(0, 'pop_s', zz)\n",
    "    genera_res.insert(0, 'exp', exp_n)\n",
    "    multi_gen = multi_gen.append(genera_res, ignore_index=True, sort=False)\n",
    "    multi_gen = multi_gen.infer_objects()\n",
    "        \n",
    "    exp_n += 1"
   ]
  },
  {
   "cell_type": "code",
   "execution_count": 17,
   "metadata": {},
   "outputs": [],
   "source": [
    "multi_fit.to_pickle('./EA_B_05_fit.gz', compression='gzip')\n",
    "multi_gen.to_pickle('./EA_B_05_gen.gz', compression='gzip')"
   ]
  },
  {
   "cell_type": "code",
   "execution_count": 8,
   "metadata": {},
   "outputs": [],
   "source": [
    "multi_fit = pd.read_pickle('./EA_B_05_fit.gz', compression='gzip')\n",
    "multi_gen = pd.read_pickle('./EA_B_05_gen.gz', compression='gzip')"
   ]
  },
  {
   "cell_type": "code",
   "execution_count": 9,
   "metadata": {},
   "outputs": [
    {
     "name": "stdout",
     "output_type": "stream",
     "text": [
      "2019-05-22 12:37:32.024519\n",
      "0:00:19.044567\n"
     ]
    }
   ],
   "source": [
    "time_b = datetime.datetime.now()\n",
    "print(time_b)\n",
    "print(time_b-time_a)"
   ]
  },
  {
   "cell_type": "markdown",
   "metadata": {},
   "source": [
    "# Processing data for DOE Analysis <a name=\"Data\"></a>"
   ]
  },
  {
   "cell_type": "code",
   "execution_count": 10,
   "metadata": {},
   "outputs": [
    {
     "data": {
      "text/html": [
       "<div>\n",
       "<style scoped>\n",
       "    .dataframe tbody tr th:only-of-type {\n",
       "        vertical-align: middle;\n",
       "    }\n",
       "\n",
       "    .dataframe tbody tr th {\n",
       "        vertical-align: top;\n",
       "    }\n",
       "\n",
       "    .dataframe thead th {\n",
       "        text-align: right;\n",
       "    }\n",
       "</style>\n",
       "<table border=\"1\" class=\"dataframe\">\n",
       "  <thead>\n",
       "    <tr style=\"text-align: right;\">\n",
       "      <th></th>\n",
       "      <th>exp</th>\n",
       "      <th>pop_s</th>\n",
       "      <th>b</th>\n",
       "      <th>mut_p</th>\n",
       "      <th>mut_s</th>\n",
       "      <th>p_sel</th>\n",
       "      <th>s_sel</th>\n",
       "      <th>run</th>\n",
       "      <th>generation</th>\n",
       "      <th>fitness_min</th>\n",
       "      <th>fitness_max</th>\n",
       "      <th>fitness_mean</th>\n",
       "      <th>fitness_std</th>\n",
       "    </tr>\n",
       "  </thead>\n",
       "  <tbody>\n",
       "    <tr>\n",
       "      <th>117115</th>\n",
       "      <td>64</td>\n",
       "      <td>30</td>\n",
       "      <td>5.0</td>\n",
       "      <td>0.9</td>\n",
       "      <td>10.0</td>\n",
       "      <td>tournament_k3</td>\n",
       "      <td>tournament_k3</td>\n",
       "      <td>29</td>\n",
       "      <td>56.0</td>\n",
       "      <td>3.989594</td>\n",
       "      <td>68.500789</td>\n",
       "      <td>30.678328</td>\n",
       "      <td>21.681171</td>\n",
       "    </tr>\n",
       "    <tr>\n",
       "      <th>117116</th>\n",
       "      <td>64</td>\n",
       "      <td>30</td>\n",
       "      <td>5.0</td>\n",
       "      <td>0.9</td>\n",
       "      <td>10.0</td>\n",
       "      <td>tournament_k3</td>\n",
       "      <td>tournament_k3</td>\n",
       "      <td>29</td>\n",
       "      <td>57.0</td>\n",
       "      <td>3.989594</td>\n",
       "      <td>60.166577</td>\n",
       "      <td>40.362543</td>\n",
       "      <td>16.885566</td>\n",
       "    </tr>\n",
       "    <tr>\n",
       "      <th>117117</th>\n",
       "      <td>64</td>\n",
       "      <td>30</td>\n",
       "      <td>5.0</td>\n",
       "      <td>0.9</td>\n",
       "      <td>10.0</td>\n",
       "      <td>tournament_k3</td>\n",
       "      <td>tournament_k3</td>\n",
       "      <td>29</td>\n",
       "      <td>58.0</td>\n",
       "      <td>3.989594</td>\n",
       "      <td>64.375162</td>\n",
       "      <td>41.128973</td>\n",
       "      <td>16.680773</td>\n",
       "    </tr>\n",
       "    <tr>\n",
       "      <th>117118</th>\n",
       "      <td>64</td>\n",
       "      <td>30</td>\n",
       "      <td>5.0</td>\n",
       "      <td>0.9</td>\n",
       "      <td>10.0</td>\n",
       "      <td>tournament_k3</td>\n",
       "      <td>tournament_k3</td>\n",
       "      <td>29</td>\n",
       "      <td>59.0</td>\n",
       "      <td>3.989594</td>\n",
       "      <td>62.164109</td>\n",
       "      <td>42.597829</td>\n",
       "      <td>16.653509</td>\n",
       "    </tr>\n",
       "    <tr>\n",
       "      <th>117119</th>\n",
       "      <td>64</td>\n",
       "      <td>30</td>\n",
       "      <td>5.0</td>\n",
       "      <td>0.9</td>\n",
       "      <td>10.0</td>\n",
       "      <td>tournament_k3</td>\n",
       "      <td>tournament_k3</td>\n",
       "      <td>29</td>\n",
       "      <td>60.0</td>\n",
       "      <td>1.559900</td>\n",
       "      <td>62.524584</td>\n",
       "      <td>38.240462</td>\n",
       "      <td>18.753256</td>\n",
       "    </tr>\n",
       "  </tbody>\n",
       "</table>\n",
       "</div>"
      ],
      "text/plain": [
       "        exp  pop_s    b  mut_p  mut_s          p_sel          s_sel  run  \\\n",
       "117115   64     30  5.0    0.9   10.0  tournament_k3  tournament_k3   29   \n",
       "117116   64     30  5.0    0.9   10.0  tournament_k3  tournament_k3   29   \n",
       "117117   64     30  5.0    0.9   10.0  tournament_k3  tournament_k3   29   \n",
       "117118   64     30  5.0    0.9   10.0  tournament_k3  tournament_k3   29   \n",
       "117119   64     30  5.0    0.9   10.0  tournament_k3  tournament_k3   29   \n",
       "\n",
       "        generation  fitness_min  fitness_max  fitness_mean  fitness_std  \n",
       "117115        56.0     3.989594    68.500789     30.678328    21.681171  \n",
       "117116        57.0     3.989594    60.166577     40.362543    16.885566  \n",
       "117117        58.0     3.989594    64.375162     41.128973    16.680773  \n",
       "117118        59.0     3.989594    62.164109     42.597829    16.653509  \n",
       "117119        60.0     1.559900    62.524584     38.240462    18.753256  "
      ]
     },
     "execution_count": 10,
     "metadata": {},
     "output_type": "execute_result"
    }
   ],
   "source": [
    "['pop_s'] + ['b'] + ['mut_p'] + ['mut_s'] + ['p_sel'] + ['s_sel']\n",
    "multi_fit.tail()"
   ]
  },
  {
   "cell_type": "code",
   "execution_count": 23,
   "metadata": {},
   "outputs": [
    {
     "data": {
      "text/html": [
       "<div>\n",
       "<style scoped>\n",
       "    .dataframe tbody tr th:only-of-type {\n",
       "        vertical-align: middle;\n",
       "    }\n",
       "\n",
       "    .dataframe tbody tr th {\n",
       "        vertical-align: top;\n",
       "    }\n",
       "\n",
       "    .dataframe thead th {\n",
       "        text-align: right;\n",
       "    }\n",
       "</style>\n",
       "<table border=\"1\" class=\"dataframe\">\n",
       "  <thead>\n",
       "    <tr style=\"text-align: right;\">\n",
       "      <th></th>\n",
       "      <th>pop_s</th>\n",
       "      <th>b</th>\n",
       "      <th>mut_p</th>\n",
       "      <th>mut_s</th>\n",
       "      <th>p_sel</th>\n",
       "      <th>s_sel</th>\n",
       "      <th>f_min</th>\n",
       "      <th>f_max</th>\n",
       "      <th>f_mean</th>\n",
       "      <th>f_std</th>\n",
       "    </tr>\n",
       "    <tr>\n",
       "      <th>run</th>\n",
       "      <th></th>\n",
       "      <th></th>\n",
       "      <th></th>\n",
       "      <th></th>\n",
       "      <th></th>\n",
       "      <th></th>\n",
       "      <th></th>\n",
       "      <th></th>\n",
       "      <th></th>\n",
       "      <th></th>\n",
       "    </tr>\n",
       "  </thead>\n",
       "  <tbody>\n",
       "    <tr>\n",
       "      <th>0</th>\n",
       "      <td>-1</td>\n",
       "      <td>-1.0</td>\n",
       "      <td>-1.0</td>\n",
       "      <td>-1.0</td>\n",
       "      <td>-1</td>\n",
       "      <td>-1</td>\n",
       "      <td>5.143290</td>\n",
       "      <td>5.143290</td>\n",
       "      <td>5.143290</td>\n",
       "      <td>0.000000</td>\n",
       "    </tr>\n",
       "    <tr>\n",
       "      <th>1</th>\n",
       "      <td>-1</td>\n",
       "      <td>-1.0</td>\n",
       "      <td>-1.0</td>\n",
       "      <td>-1.0</td>\n",
       "      <td>-1</td>\n",
       "      <td>-1</td>\n",
       "      <td>42.836483</td>\n",
       "      <td>42.959203</td>\n",
       "      <td>42.898512</td>\n",
       "      <td>0.044530</td>\n",
       "    </tr>\n",
       "    <tr>\n",
       "      <th>2</th>\n",
       "      <td>-1</td>\n",
       "      <td>-1.0</td>\n",
       "      <td>-1.0</td>\n",
       "      <td>-1.0</td>\n",
       "      <td>-1</td>\n",
       "      <td>-1</td>\n",
       "      <td>45.071924</td>\n",
       "      <td>45.071924</td>\n",
       "      <td>45.071924</td>\n",
       "      <td>0.000000</td>\n",
       "    </tr>\n",
       "    <tr>\n",
       "      <th>3</th>\n",
       "      <td>-1</td>\n",
       "      <td>-1.0</td>\n",
       "      <td>-1.0</td>\n",
       "      <td>-1.0</td>\n",
       "      <td>-1</td>\n",
       "      <td>-1</td>\n",
       "      <td>0.024066</td>\n",
       "      <td>0.024066</td>\n",
       "      <td>0.024066</td>\n",
       "      <td>0.000000</td>\n",
       "    </tr>\n",
       "    <tr>\n",
       "      <th>4</th>\n",
       "      <td>-1</td>\n",
       "      <td>-1.0</td>\n",
       "      <td>-1.0</td>\n",
       "      <td>-1.0</td>\n",
       "      <td>-1</td>\n",
       "      <td>-1</td>\n",
       "      <td>17.900133</td>\n",
       "      <td>24.086404</td>\n",
       "      <td>18.518760</td>\n",
       "      <td>1.956271</td>\n",
       "    </tr>\n",
       "  </tbody>\n",
       "</table>\n",
       "</div>"
      ],
      "text/plain": [
       "     pop_s    b  mut_p  mut_s  p_sel  s_sel      f_min      f_max     f_mean  \\\n",
       "run                                                                            \n",
       "0       -1 -1.0   -1.0   -1.0     -1     -1   5.143290   5.143290   5.143290   \n",
       "1       -1 -1.0   -1.0   -1.0     -1     -1  42.836483  42.959203  42.898512   \n",
       "2       -1 -1.0   -1.0   -1.0     -1     -1  45.071924  45.071924  45.071924   \n",
       "3       -1 -1.0   -1.0   -1.0     -1     -1   0.024066   0.024066   0.024066   \n",
       "4       -1 -1.0   -1.0   -1.0     -1     -1  17.900133  24.086404  18.518760   \n",
       "\n",
       "        f_std  \n",
       "run            \n",
       "0    0.000000  \n",
       "1    0.044530  \n",
       "2    0.000000  \n",
       "3    0.000000  \n",
       "4    1.956271  "
      ]
     },
     "execution_count": 23,
     "metadata": {},
     "output_type": "execute_result"
    }
   ],
   "source": [
    "# Storing the latest generation's population of each replicate\n",
    "query = (multi_fit['generation']==gen_f)\n",
    "multi_final_fitness_res = multi_fit[query]\n",
    "\n",
    "# Reordering columns\n",
    "multi_final_fitness_res.drop(['exp', 'generation'], axis=1, inplace=True)\n",
    "multi_final_fitness_res.columns = ['pop_s', 'b', 'mut_p', 'mut_s', 'p_sel', 's_sel', 'run', 'f_min', 'f_max', 'f_mean', 'f_std']\n",
    "multi_final_fitness_res = multi_final_fitness_res[['run', 'pop_s', 'b', 'mut_p', 'mut_s', 'p_sel', 's_sel', 'f_min', 'f_max', 'f_mean', 'f_std']]\n",
    "\n",
    "# Encoding values for DOE's Factos\n",
    "multi_final_fitness_res['pop_s'] = multi_final_fitness_res['pop_s'].replace([10, 30], [-1, 1]).infer_objects()\n",
    "multi_final_fitness_res['b'] = multi_final_fitness_res['b'].replace([.5, 5], [-1, 1]).infer_objects()\n",
    "multi_final_fitness_res['mut_p'] = multi_final_fitness_res['mut_p'].replace([.1, .9], [-1, 1]).infer_objects()\n",
    "multi_final_fitness_res['mut_s'] = multi_final_fitness_res['mut_s'].replace([.1, 10], [-1, 1]).infer_objects()\n",
    "multi_final_fitness_res['p_sel'] = multi_final_fitness_res['p_sel'].replace(['fitness_proportional_selection','tournament_k3'], [-1, 1]).infer_objects()\n",
    "multi_final_fitness_res['s_sel'] = multi_final_fitness_res['s_sel'].replace(['fitness_proportional_selection','tournament_k3'], [-1, 1]).infer_objects()\n",
    "multi_final_fitness_res = multi_final_fitness_res.set_index('run')\n",
    "multi_final_fitness_res.head()"
   ]
  },
  {
   "cell_type": "code",
   "execution_count": 25,
   "metadata": {},
   "outputs": [],
   "source": [
    "inputs_df.to_pickle('./EA_B_05_code.gz', compression='gzip')\n",
    "multi_final_fitness_res.to_pickle('./EA_B_05_data.gz', compression='gzip')"
   ]
  },
  {
   "cell_type": "code",
   "execution_count": 26,
   "metadata": {},
   "outputs": [
    {
     "name": "stdout",
     "output_type": "stream",
     "text": [
      "2019-05-23 10:43:01.423546\n",
      "22:05:48.443594\n"
     ]
    }
   ],
   "source": [
    "time_c = datetime.datetime.now()\n",
    "print(time_c)\n",
    "print(time_c-time_a)"
   ]
  },
  {
   "cell_type": "code",
   "execution_count": null,
   "metadata": {},
   "outputs": [],
   "source": []
  }
 ],
 "metadata": {
  "kernelspec": {
   "display_name": "Python [conda env:thesis] *",
   "language": "python",
   "name": "conda-env-thesis-py"
  },
  "language_info": {
   "codemirror_mode": {
    "name": "ipython",
    "version": 3
   },
   "file_extension": ".py",
   "mimetype": "text/x-python",
   "name": "python",
   "nbconvert_exporter": "python",
   "pygments_lexer": "ipython3",
   "version": "3.6.7"
  }
 },
 "nbformat": 4,
 "nbformat_minor": 2
}
