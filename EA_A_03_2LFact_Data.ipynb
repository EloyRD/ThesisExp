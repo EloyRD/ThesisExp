{
 "cells": [
  {
   "cell_type": "raw",
   "metadata": {},
   "source": [
    "\\author{Eloy Ruiz-Donayre}\n",
    "\\title{TESTCASE A - 2-Level 6-Factor Full Factorial (With 30 replicates) - Data Generation}\n",
    "\\date{\\today}\n",
    "\\maketitle"
   ]
  },
  {
   "cell_type": "raw",
   "metadata": {},
   "source": [
    "\\tableofcontents"
   ]
  },
  {
   "cell_type": "markdown",
   "metadata": {},
   "source": [
    "# Preliminaries"
   ]
  },
  {
   "cell_type": "markdown",
   "metadata": {},
   "source": [
    "Importing python packages and setting display parameters"
   ]
  },
  {
   "cell_type": "code",
   "execution_count": 23,
   "metadata": {},
   "outputs": [],
   "source": [
    "import numpy as np\n",
    "import pandas as pd\n",
    "import itertools as it\n",
    "import scipy.stats as stats\n",
    "\n",
    "import seaborn as sns\n",
    "import matplotlib as mpl\n",
    "import matplotlib.pyplot as plt\n",
    "\n",
    "from thesis_EAfunc import *\n",
    "from thesis_visfunc import *"
   ]
  },
  {
   "cell_type": "code",
   "execution_count": 24,
   "metadata": {},
   "outputs": [],
   "source": [
    "plt.style.use('bmh')\n",
    "%matplotlib inline\n",
    "%config InlineBackend.figure_format = 'retina'\n",
    "\n",
    "pd.set_option('display.latex.repr', True)\n",
    "pd.set_option('display.latex.longtable', True)"
   ]
  },
  {
   "cell_type": "markdown",
   "metadata": {
    "toc-hr-collapsed": false
   },
   "source": [
    "# Fitness Landscape Definition"
   ]
  },
  {
   "cell_type": "code",
   "execution_count": 25,
   "metadata": {},
   "outputs": [],
   "source": [
    "#Problem domain\n",
    "x_min = -15\n",
    "x_max = 15\n",
    "y_min = -15\n",
    "y_max = 15\n",
    "\n",
    "#Known minimum\n",
    "x_point = -1\n",
    "y_point = -1\n",
    "\n",
    "domain = (x_min, x_max, y_min, y_max)\n",
    "point = (x_point, y_point)\n",
    "img_size = (8.5, 4.25)\n",
    "\n",
    "#Problem definition\n",
    "def f(x, y):\n",
    "    D = 2\n",
    "    alpha = 1/8\n",
    "    \n",
    "    x=(x-5)/6\n",
    "    y=(y-5)/6\n",
    "    \n",
    "    a = np.abs(x ** 2 + y ** 2 - D) ** (alpha * D)\n",
    "    b = ( 0.5 * (x ** 2 + y ** 2) + (x + y) ) / D\n",
    "        \n",
    "    return (a + b + 0.5)"
   ]
  },
  {
   "cell_type": "code",
   "execution_count": 26,
   "metadata": {},
   "outputs": [
    {
     "name": "stdout",
     "output_type": "stream",
     "text": [
      "0.0\n"
     ]
    }
   ],
   "source": [
    "#Testing the minimum\n",
    "print(f(-1,-1))"
   ]
  },
  {
   "cell_type": "code",
   "execution_count": 27,
   "metadata": {},
   "outputs": [
    {
     "name": "stdout",
     "output_type": "stream",
     "text": [
      "50.62059878583003 5.177364279021976 6.107247239602234 0.031278340140559635\n"
     ]
    }
   ],
   "source": [
    "#Testing the function\n",
    "print(f(-1.,-1.), f(-11.,-9.), f(11.,3.), f(-6.,9.))"
   ]
  },
  {
   "cell_type": "markdown",
   "metadata": {
    "toc-hr-collapsed": false
   },
   "source": [
    "# Setting up the experiment\n",
    "64 Experiments\n",
    ">L-> In each experiment, one set of parameters is used.\n",
    ">>L-> 40 Replicates per experiment.\n",
    ">>>L-> Each replicate is different due to randomness effects."
   ]
  },
  {
   "cell_type": "code",
   "execution_count": 28,
   "metadata": {},
   "outputs": [],
   "source": [
    "#starting seed\n",
    "np.random.seed(42)"
   ]
  },
  {
   "cell_type": "markdown",
   "metadata": {},
   "source": [
    "## Initializing data storage"
   ]
  },
  {
   "cell_type": "code",
   "execution_count": 29,
   "metadata": {},
   "outputs": [],
   "source": [
    "mult_fit_cols = ['exp'] + ['pop_s'] + ['b'] + ['mut_p'] + ['mut_s'] + ['p_sel'] + ['s_sel'] + ['run', 'generation', 'fitness_min', 'fitness_max', 'fitness_mean', 'fitness_std']\n",
    "multi_fit = pd.DataFrame(columns=mult_fit_cols)\n",
    "multi_fit = multi_fit.infer_objects()"
   ]
  },
  {
   "cell_type": "markdown",
   "metadata": {
    "toc-hr-collapsed": false
   },
   "source": [
    "## Parameter space for the experiment"
   ]
  },
  {
   "cell_type": "markdown",
   "metadata": {},
   "source": [
    "### Initializing"
   ]
  },
  {
   "cell_type": "code",
   "execution_count": 30,
   "metadata": {},
   "outputs": [],
   "source": [
    "# Algorithm parameters\n",
    "## Number of replicates, and generations per experiment\n",
    "rep_n = 30\n",
    "gen_f = 200\n",
    "\n",
    "## Population size\n",
    "pop_s = [10, 160]\n",
    "\n",
    "## Parent subpopulation's selection method and size\n",
    "par_selection = ['uniform','tournament_k3']\n",
    "b = [0.5, 5]\n",
    "par_s = [z*y for z in pop_s for y in b]\n",
    "\n",
    "## Progeny subpopulation's size\n",
    "prog_s = par_s\n",
    "\n",
    "### Crossover Method\n",
    "crossover = 'uniform'\n",
    "### Mutation method, probability and size\n",
    "mutation = 'random_all_gau_dis'\n",
    "mut_p = [0.1, 0.9]\n",
    "mut_s = [.5, 5]\n",
    "\n",
    "## New population selection method\n",
    "sur_selection = ['fitness_proportional_selection','uniform']"
   ]
  },
  {
   "cell_type": "markdown",
   "metadata": {},
   "source": [
    "### 2-Level Factors encoded values"
   ]
  },
  {
   "cell_type": "code",
   "execution_count": 31,
   "metadata": {},
   "outputs": [
    {
     "data": {
      "text/html": [
       "<div>\n",
       "<style scoped>\n",
       "    .dataframe tbody tr th:only-of-type {\n",
       "        vertical-align: middle;\n",
       "    }\n",
       "\n",
       "    .dataframe tbody tr th {\n",
       "        vertical-align: top;\n",
       "    }\n",
       "\n",
       "    .dataframe thead th {\n",
       "        text-align: right;\n",
       "    }\n",
       "</style>\n",
       "<table border=\"1\" class=\"dataframe\">\n",
       "  <thead>\n",
       "    <tr style=\"text-align: right;\">\n",
       "      <th></th>\n",
       "      <th>Label</th>\n",
       "      <th>Variable type</th>\n",
       "      <th>Value_low</th>\n",
       "      <th>Value_high</th>\n",
       "      <th>encoded_low</th>\n",
       "      <th>encoded_high</th>\n",
       "    </tr>\n",
       "    <tr>\n",
       "      <th>index</th>\n",
       "      <th></th>\n",
       "      <th></th>\n",
       "      <th></th>\n",
       "      <th></th>\n",
       "      <th></th>\n",
       "      <th></th>\n",
       "    </tr>\n",
       "  </thead>\n",
       "  <tbody>\n",
       "    <tr>\n",
       "      <th>pop_s</th>\n",
       "      <td>Population size</td>\n",
       "      <td>Numerical</td>\n",
       "      <td>10</td>\n",
       "      <td>30</td>\n",
       "      <td>-1</td>\n",
       "      <td>1</td>\n",
       "    </tr>\n",
       "    <tr>\n",
       "      <th>b</th>\n",
       "      <td>Progeny-to-population ratio</td>\n",
       "      <td>Numerical</td>\n",
       "      <td>0.5</td>\n",
       "      <td>5</td>\n",
       "      <td>-1</td>\n",
       "      <td>1</td>\n",
       "    </tr>\n",
       "    <tr>\n",
       "      <th>mut_p</th>\n",
       "      <td>Mutation Probability</td>\n",
       "      <td>Numerical (&lt;1)</td>\n",
       "      <td>0.1</td>\n",
       "      <td>0.9</td>\n",
       "      <td>-1</td>\n",
       "      <td>1</td>\n",
       "    </tr>\n",
       "    <tr>\n",
       "      <th>mut_s</th>\n",
       "      <td>Mutation size</td>\n",
       "      <td>Numerical</td>\n",
       "      <td>0.1</td>\n",
       "      <td>10</td>\n",
       "      <td>-1</td>\n",
       "      <td>1</td>\n",
       "    </tr>\n",
       "    <tr>\n",
       "      <th>p_sel</th>\n",
       "      <td>Parent selection</td>\n",
       "      <td>Categorical</td>\n",
       "      <td>fitness proportional</td>\n",
       "      <td>tournament k3</td>\n",
       "      <td>-1</td>\n",
       "      <td>1</td>\n",
       "    </tr>\n",
       "    <tr>\n",
       "      <th>s_sel</th>\n",
       "      <td>Survivor selection method</td>\n",
       "      <td>Categorical</td>\n",
       "      <td>fitness proportional</td>\n",
       "      <td>tournament k3</td>\n",
       "      <td>-1</td>\n",
       "      <td>1</td>\n",
       "    </tr>\n",
       "  </tbody>\n",
       "</table>\n",
       "</div>"
      ],
      "text/latex": [
       "\\begin{longtable}{lllllrr}\n",
       "\\toprule\n",
       "{} &                        Label &   Variable type &             Value\\_low &     Value\\_high &  encoded\\_low &  encoded\\_high \\\\\n",
       "index &                              &                 &                       &                &              &               \\\\\n",
       "\\midrule\n",
       "\\endhead\n",
       "\\midrule\n",
       "\\multicolumn{7}{r}{{Continued on next page}} \\\\\n",
       "\\midrule\n",
       "\\endfoot\n",
       "\n",
       "\\bottomrule\n",
       "\\endlastfoot\n",
       "pop\\_s &              Population size &       Numerical &                    10 &             30 &           -1 &             1 \\\\\n",
       "b     &  Progeny-to-population ratio &       Numerical &                   0.5 &              5 &           -1 &             1 \\\\\n",
       "mut\\_p &         Mutation Probability &  Numerical (<1) &                   0.1 &            0.9 &           -1 &             1 \\\\\n",
       "mut\\_s &                Mutation size &       Numerical &                   0.1 &             10 &           -1 &             1 \\\\\n",
       "p\\_sel &             Parent selection &     Categorical &  fitness proportional &  tournament k3 &           -1 &             1 \\\\\n",
       "s\\_sel &    Survivor selection method &     Categorical &  fitness proportional &  tournament k3 &           -1 &             1 \\\\\n",
       "\\end{longtable}\n"
      ],
      "text/plain": [
       "                             Label   Variable type             Value_low  \\\n",
       "index                                                                      \n",
       "pop_s              Population size       Numerical                    10   \n",
       "b      Progeny-to-population ratio       Numerical                   0.5   \n",
       "mut_p         Mutation Probability  Numerical (<1)                   0.1   \n",
       "mut_s                Mutation size       Numerical                   0.1   \n",
       "p_sel             Parent selection     Categorical  fitness proportional   \n",
       "s_sel    Survivor selection method     Categorical  fitness proportional   \n",
       "\n",
       "          Value_high  encoded_low  encoded_high  \n",
       "index                                            \n",
       "pop_s             30           -1             1  \n",
       "b                  5           -1             1  \n",
       "mut_p            0.9           -1             1  \n",
       "mut_s             10           -1             1  \n",
       "p_sel  tournament k3           -1             1  \n",
       "s_sel  tournament k3           -1             1  "
      ]
     },
     "execution_count": 31,
     "metadata": {},
     "output_type": "execute_result"
    }
   ],
   "source": [
    "inputs_labels = {'pop_s' : 'Population size',\n",
    "                 'b'     : 'Progeny-to-population ratio',\n",
    "                 'mut_p' : 'Mutation Probability',\n",
    "                 'mut_s' : 'Mutation size',\n",
    "                 'p_sel' : 'Parent selection',\n",
    "                 's_sel' : 'Survivor selection method'\n",
    "                }\n",
    "\n",
    "dat = [('pop_s',  10, 30, -1, 1, 'Numerical'),\n",
    "       ('b'    , 0.5, 5, -1, 1, 'Numerical'),\n",
    "       ('mut_p', 0.1, 0.9, -1, 1, 'Numerical (<1)'),\n",
    "       ('mut_s', 0.1, 10, -1, 1, 'Numerical'),\n",
    "       ('p_sel', 'fitness proportional', 'tournament k3', -1, 1, 'Categorical'),\n",
    "       ('s_sel', 'fitness proportional', 'tournament k3', -1, 1, 'Categorical')\n",
    "      ]\n",
    "\n",
    "inputs_df = pd.DataFrame(dat,columns=['index', 'Value_low', 'Value_high', 'encoded_low', 'encoded_high', 'Variable type'])\n",
    "inputs_df = inputs_df.set_index(['index'])\n",
    "inputs_df['Label'] = inputs_df.index.map( lambda z : inputs_labels[z] )\n",
    "inputs_df = inputs_df[['Label', 'Variable type', 'Value_low', 'Value_high', 'encoded_low', 'encoded_high' ]]\n",
    "\n",
    "inputs_df"
   ]
  },
  {
   "cell_type": "markdown",
   "metadata": {},
   "source": [
    "### Combining the 2-level Factors"
   ]
  },
  {
   "cell_type": "markdown",
   "metadata": {},
   "source": [
    "We create a list with all the possible combinations of the 2-level factors"
   ]
  },
  {
   "cell_type": "code",
   "execution_count": 32,
   "metadata": {},
   "outputs": [
    {
     "name": "stdout",
     "output_type": "stream",
     "text": [
      "Cantidad de combinaciones de parametros en \"exp_par\" :64\n",
      "\n",
      "Primera y última combinación de parametros en \"exp_par\":\n",
      "Secuencia (pop_s, b, mut_p, mut_s, p_sel, s_sel)\n",
      "(10, 0.5, 0.1, 0.1, 'fitness_proportional_selection', 'fitness_proportional_selection')\n",
      "(30, 5, 0.9, 10, 'tournament_k3', 'tournament_k3')\n"
     ]
    }
   ],
   "source": [
    "exp_par = list(it.product(pop_s, b, mut_p, mut_s, par_selection, sur_selection))\n",
    "print('Cantidad de combinaciones de parametros en \"exp_par\" :'+str(len(exp_par)))\n",
    "print()\n",
    "print('Primera y última combinación de parametros en \"exp_par\":')\n",
    "print('Secuencia (pop_s, b, mut_p, mut_s, p_sel, s_sel)')\n",
    "print(exp_par[0])\n",
    "print(exp_par[63])"
   ]
  },
  {
   "cell_type": "markdown",
   "metadata": {},
   "source": [
    "# Experiment execution"
   ]
  },
  {
   "cell_type": "code",
   "execution_count": 10,
   "metadata": {},
   "outputs": [
    {
     "name": "stdout",
     "output_type": "stream",
     "text": [
      "Wall time: 1h 12min 40s\n"
     ]
    }
   ],
   "source": [
    "%%time\n",
    "exp_n = 1\n",
    "for (zz, yy, xx, vv, uu, tt) in exp_par:\n",
    "    sur_selection = tt\n",
    "    par_selection = uu\n",
    "    mut_s = vv\n",
    "    mut_p = xx\n",
    "    b = yy\n",
    "    pop_s = zz\n",
    "    prog_s = int(b * pop_s)\n",
    "    par_s = prog_s\n",
    "    \n",
    "    fitness_res = EA_exp_only_fitness(rep_n, gen_f, f, domain, pop_s, par_s, prog_s, mut_p, mut_s, par_selection, crossover, mutation, sur_selection)\n",
    "    \n",
    "    fitness_res.insert(0, 's_sel', tt)\n",
    "    fitness_res.insert(0, 'p_sel', uu)\n",
    "    fitness_res.insert(0, 'mut_s', vv)\n",
    "    fitness_res.insert(0, 'mut_p', xx)\n",
    "    fitness_res.insert(0, 'b', yy)\n",
    "    fitness_res.insert(0, 'pop_s', zz)\n",
    "    fitness_res.insert(0, 'exp', exp_n)\n",
    "    multi_fit = multi_fit.append(fitness_res, ignore_index=True, sort=False)\n",
    "    multi_fit = multi_fit.infer_objects()\n",
    "    \n",
    "    exp_n += 1"
   ]
  },
  {
   "cell_type": "markdown",
   "metadata": {},
   "source": [
    "## Data storage"
   ]
  },
  {
   "cell_type": "markdown",
   "metadata": {},
   "source": [
    "Writing the Data Frame to a pickle file"
   ]
  },
  {
   "cell_type": "code",
   "execution_count": 34,
   "metadata": {},
   "outputs": [],
   "source": [
    "multi_fit.to_pickle('./TEST_A_2L_FitData.gz', compression='gzip')"
   ]
  },
  {
   "cell_type": "markdown",
   "metadata": {},
   "source": [
    "Reading the Data Frame from a pickle file"
   ]
  },
  {
   "cell_type": "code",
   "execution_count": 33,
   "metadata": {},
   "outputs": [],
   "source": [
    "multi_fit = pd.read_pickle('./TEST_A_2L_FitData.gz', compression='gzip')"
   ]
  },
  {
   "cell_type": "markdown",
   "metadata": {},
   "source": [
    "# Processing data for DOE Analysis"
   ]
  },
  {
   "cell_type": "code",
   "execution_count": 35,
   "metadata": {},
   "outputs": [
    {
     "data": {
      "text/html": [
       "<div>\n",
       "<style scoped>\n",
       "    .dataframe tbody tr th:only-of-type {\n",
       "        vertical-align: middle;\n",
       "    }\n",
       "\n",
       "    .dataframe tbody tr th {\n",
       "        vertical-align: top;\n",
       "    }\n",
       "\n",
       "    .dataframe thead th {\n",
       "        text-align: right;\n",
       "    }\n",
       "</style>\n",
       "<table border=\"1\" class=\"dataframe\">\n",
       "  <thead>\n",
       "    <tr style=\"text-align: right;\">\n",
       "      <th></th>\n",
       "      <th>exp</th>\n",
       "      <th>pop_s</th>\n",
       "      <th>b</th>\n",
       "      <th>mut_p</th>\n",
       "      <th>mut_s</th>\n",
       "      <th>p_sel</th>\n",
       "      <th>s_sel</th>\n",
       "      <th>run</th>\n",
       "      <th>generation</th>\n",
       "      <th>fitness_min</th>\n",
       "      <th>fitness_max</th>\n",
       "      <th>fitness_mean</th>\n",
       "      <th>fitness_std</th>\n",
       "    </tr>\n",
       "  </thead>\n",
       "  <tbody>\n",
       "    <tr>\n",
       "      <th>232315</th>\n",
       "      <td>64</td>\n",
       "      <td>30</td>\n",
       "      <td>5.0</td>\n",
       "      <td>0.9</td>\n",
       "      <td>10.0</td>\n",
       "      <td>tournament_k3</td>\n",
       "      <td>tournament_k3</td>\n",
       "      <td>29</td>\n",
       "      <td>116</td>\n",
       "      <td>7.193797</td>\n",
       "      <td>71.236066</td>\n",
       "      <td>45.619641</td>\n",
       "      <td>14.213987</td>\n",
       "    </tr>\n",
       "    <tr>\n",
       "      <th>232316</th>\n",
       "      <td>64</td>\n",
       "      <td>30</td>\n",
       "      <td>5.0</td>\n",
       "      <td>0.9</td>\n",
       "      <td>10.0</td>\n",
       "      <td>tournament_k3</td>\n",
       "      <td>tournament_k3</td>\n",
       "      <td>29</td>\n",
       "      <td>117</td>\n",
       "      <td>11.467743</td>\n",
       "      <td>73.680178</td>\n",
       "      <td>44.388044</td>\n",
       "      <td>15.458068</td>\n",
       "    </tr>\n",
       "    <tr>\n",
       "      <th>232317</th>\n",
       "      <td>64</td>\n",
       "      <td>30</td>\n",
       "      <td>5.0</td>\n",
       "      <td>0.9</td>\n",
       "      <td>10.0</td>\n",
       "      <td>tournament_k3</td>\n",
       "      <td>tournament_k3</td>\n",
       "      <td>29</td>\n",
       "      <td>118</td>\n",
       "      <td>7.543423</td>\n",
       "      <td>64.100916</td>\n",
       "      <td>39.732343</td>\n",
       "      <td>17.950929</td>\n",
       "    </tr>\n",
       "    <tr>\n",
       "      <th>232318</th>\n",
       "      <td>64</td>\n",
       "      <td>30</td>\n",
       "      <td>5.0</td>\n",
       "      <td>0.9</td>\n",
       "      <td>10.0</td>\n",
       "      <td>tournament_k3</td>\n",
       "      <td>tournament_k3</td>\n",
       "      <td>29</td>\n",
       "      <td>119</td>\n",
       "      <td>7.100332</td>\n",
       "      <td>66.171390</td>\n",
       "      <td>42.403105</td>\n",
       "      <td>17.924494</td>\n",
       "    </tr>\n",
       "    <tr>\n",
       "      <th>232319</th>\n",
       "      <td>64</td>\n",
       "      <td>30</td>\n",
       "      <td>5.0</td>\n",
       "      <td>0.9</td>\n",
       "      <td>10.0</td>\n",
       "      <td>tournament_k3</td>\n",
       "      <td>tournament_k3</td>\n",
       "      <td>29</td>\n",
       "      <td>120</td>\n",
       "      <td>7.100332</td>\n",
       "      <td>61.400337</td>\n",
       "      <td>41.825771</td>\n",
       "      <td>16.100210</td>\n",
       "    </tr>\n",
       "  </tbody>\n",
       "</table>\n",
       "</div>"
      ],
      "text/latex": [
       "\\begin{longtable}{lrrrrrllrrrrrr}\n",
       "\\toprule\n",
       "{} &  exp &  pop\\_s &    b &  mut\\_p &  mut\\_s &          p\\_sel &          s\\_sel &  run &  generation &  fitness\\_min &  fitness\\_max &  fitness\\_mean &  fitness\\_std \\\\\n",
       "\\midrule\n",
       "\\endhead\n",
       "\\midrule\n",
       "\\multicolumn{14}{r}{{Continued on next page}} \\\\\n",
       "\\midrule\n",
       "\\endfoot\n",
       "\n",
       "\\bottomrule\n",
       "\\endlastfoot\n",
       "232315 &   64 &     30 &  5.0 &    0.9 &   10.0 &  tournament\\_k3 &  tournament\\_k3 &   29 &         116 &     7.193797 &    71.236066 &     45.619641 &    14.213987 \\\\\n",
       "232316 &   64 &     30 &  5.0 &    0.9 &   10.0 &  tournament\\_k3 &  tournament\\_k3 &   29 &         117 &    11.467743 &    73.680178 &     44.388044 &    15.458068 \\\\\n",
       "232317 &   64 &     30 &  5.0 &    0.9 &   10.0 &  tournament\\_k3 &  tournament\\_k3 &   29 &         118 &     7.543423 &    64.100916 &     39.732343 &    17.950929 \\\\\n",
       "232318 &   64 &     30 &  5.0 &    0.9 &   10.0 &  tournament\\_k3 &  tournament\\_k3 &   29 &         119 &     7.100332 &    66.171390 &     42.403105 &    17.924494 \\\\\n",
       "232319 &   64 &     30 &  5.0 &    0.9 &   10.0 &  tournament\\_k3 &  tournament\\_k3 &   29 &         120 &     7.100332 &    61.400337 &     41.825771 &    16.100210 \\\\\n",
       "\\end{longtable}\n"
      ],
      "text/plain": [
       "        exp  pop_s    b  mut_p  mut_s          p_sel          s_sel  run  \\\n",
       "232315   64     30  5.0    0.9   10.0  tournament_k3  tournament_k3   29   \n",
       "232316   64     30  5.0    0.9   10.0  tournament_k3  tournament_k3   29   \n",
       "232317   64     30  5.0    0.9   10.0  tournament_k3  tournament_k3   29   \n",
       "232318   64     30  5.0    0.9   10.0  tournament_k3  tournament_k3   29   \n",
       "232319   64     30  5.0    0.9   10.0  tournament_k3  tournament_k3   29   \n",
       "\n",
       "        generation  fitness_min  fitness_max  fitness_mean  fitness_std  \n",
       "232315         116     7.193797    71.236066     45.619641    14.213987  \n",
       "232316         117    11.467743    73.680178     44.388044    15.458068  \n",
       "232317         118     7.543423    64.100916     39.732343    17.950929  \n",
       "232318         119     7.100332    66.171390     42.403105    17.924494  \n",
       "232319         120     7.100332    61.400337     41.825771    16.100210  "
      ]
     },
     "execution_count": 35,
     "metadata": {},
     "output_type": "execute_result"
    }
   ],
   "source": [
    "multi_fit.tail()"
   ]
  },
  {
   "cell_type": "code",
   "execution_count": 23,
   "metadata": {},
   "outputs": [
    {
     "data": {
      "text/html": [
       "<div>\n",
       "<style scoped>\n",
       "    .dataframe tbody tr th:only-of-type {\n",
       "        vertical-align: middle;\n",
       "    }\n",
       "\n",
       "    .dataframe tbody tr th {\n",
       "        vertical-align: top;\n",
       "    }\n",
       "\n",
       "    .dataframe thead th {\n",
       "        text-align: right;\n",
       "    }\n",
       "</style>\n",
       "<table border=\"1\" class=\"dataframe\">\n",
       "  <thead>\n",
       "    <tr style=\"text-align: right;\">\n",
       "      <th></th>\n",
       "      <th>pop_s</th>\n",
       "      <th>b</th>\n",
       "      <th>mut_p</th>\n",
       "      <th>mut_s</th>\n",
       "      <th>p_sel</th>\n",
       "      <th>s_sel</th>\n",
       "      <th>f_min</th>\n",
       "      <th>f_max</th>\n",
       "      <th>f_mean</th>\n",
       "      <th>f_std</th>\n",
       "    </tr>\n",
       "    <tr>\n",
       "      <th>run</th>\n",
       "      <th></th>\n",
       "      <th></th>\n",
       "      <th></th>\n",
       "      <th></th>\n",
       "      <th></th>\n",
       "      <th></th>\n",
       "      <th></th>\n",
       "      <th></th>\n",
       "      <th></th>\n",
       "      <th></th>\n",
       "    </tr>\n",
       "  </thead>\n",
       "  <tbody>\n",
       "    <tr>\n",
       "      <th>0</th>\n",
       "      <td>-1</td>\n",
       "      <td>-1.0</td>\n",
       "      <td>-1.0</td>\n",
       "      <td>-1.0</td>\n",
       "      <td>-1</td>\n",
       "      <td>-1</td>\n",
       "      <td>5.143290</td>\n",
       "      <td>5.143290</td>\n",
       "      <td>5.143290</td>\n",
       "      <td>0.000000</td>\n",
       "    </tr>\n",
       "    <tr>\n",
       "      <th>1</th>\n",
       "      <td>-1</td>\n",
       "      <td>-1.0</td>\n",
       "      <td>-1.0</td>\n",
       "      <td>-1.0</td>\n",
       "      <td>-1</td>\n",
       "      <td>-1</td>\n",
       "      <td>42.836483</td>\n",
       "      <td>42.959203</td>\n",
       "      <td>42.898512</td>\n",
       "      <td>0.044530</td>\n",
       "    </tr>\n",
       "    <tr>\n",
       "      <th>2</th>\n",
       "      <td>-1</td>\n",
       "      <td>-1.0</td>\n",
       "      <td>-1.0</td>\n",
       "      <td>-1.0</td>\n",
       "      <td>-1</td>\n",
       "      <td>-1</td>\n",
       "      <td>45.071924</td>\n",
       "      <td>45.071924</td>\n",
       "      <td>45.071924</td>\n",
       "      <td>0.000000</td>\n",
       "    </tr>\n",
       "    <tr>\n",
       "      <th>3</th>\n",
       "      <td>-1</td>\n",
       "      <td>-1.0</td>\n",
       "      <td>-1.0</td>\n",
       "      <td>-1.0</td>\n",
       "      <td>-1</td>\n",
       "      <td>-1</td>\n",
       "      <td>0.024066</td>\n",
       "      <td>0.024066</td>\n",
       "      <td>0.024066</td>\n",
       "      <td>0.000000</td>\n",
       "    </tr>\n",
       "    <tr>\n",
       "      <th>4</th>\n",
       "      <td>-1</td>\n",
       "      <td>-1.0</td>\n",
       "      <td>-1.0</td>\n",
       "      <td>-1.0</td>\n",
       "      <td>-1</td>\n",
       "      <td>-1</td>\n",
       "      <td>17.900133</td>\n",
       "      <td>24.086404</td>\n",
       "      <td>18.518760</td>\n",
       "      <td>1.956271</td>\n",
       "    </tr>\n",
       "  </tbody>\n",
       "</table>\n",
       "</div>"
      ],
      "text/plain": [
       "     pop_s    b  mut_p  mut_s  p_sel  s_sel      f_min      f_max     f_mean  \\\n",
       "run                                                                            \n",
       "0       -1 -1.0   -1.0   -1.0     -1     -1   5.143290   5.143290   5.143290   \n",
       "1       -1 -1.0   -1.0   -1.0     -1     -1  42.836483  42.959203  42.898512   \n",
       "2       -1 -1.0   -1.0   -1.0     -1     -1  45.071924  45.071924  45.071924   \n",
       "3       -1 -1.0   -1.0   -1.0     -1     -1   0.024066   0.024066   0.024066   \n",
       "4       -1 -1.0   -1.0   -1.0     -1     -1  17.900133  24.086404  18.518760   \n",
       "\n",
       "        f_std  \n",
       "run            \n",
       "0    0.000000  \n",
       "1    0.044530  \n",
       "2    0.000000  \n",
       "3    0.000000  \n",
       "4    1.956271  "
      ]
     },
     "execution_count": 23,
     "metadata": {},
     "output_type": "execute_result"
    }
   ],
   "source": [
    "# Storing the latest generation's population of each replicate\n",
    "query = (multi_fit['generation']==gen_f)\n",
    "multi_final_fitness_res = multi_fit[query]\n",
    "\n",
    "# Reordering columns\n",
    "multi_final_fitness_res.drop(['exp', 'generation'], axis=1, inplace=True)\n",
    "multi_final_fitness_res.columns = ['pop_s', 'b', 'mut_p', 'mut_s', 'p_sel', 's_sel', 'run', 'f_min', 'f_max', 'f_mean', 'f_std']\n",
    "multi_final_fitness_res = multi_final_fitness_res[['run', 'pop_s', 'b', 'mut_p', 'mut_s', 'p_sel', 's_sel', 'f_min', 'f_max', 'f_mean', 'f_std']]\n",
    "\n",
    "# Encoding values for DOE's Factos\n",
    "multi_final_fitness_res['pop_s'] = multi_final_fitness_res['pop_s'].replace([10, 30], [-1, 1]).infer_objects()\n",
    "multi_final_fitness_res['b'] = multi_final_fitness_res['b'].replace([.5, 5], [-1, 1]).infer_objects()\n",
    "multi_final_fitness_res['mut_p'] = multi_final_fitness_res['mut_p'].replace([.1, .9], [-1, 1]).infer_objects()\n",
    "multi_final_fitness_res['mut_s'] = multi_final_fitness_res['mut_s'].replace([.1, 10], [-1, 1]).infer_objects()\n",
    "multi_final_fitness_res['p_sel'] = multi_final_fitness_res['p_sel'].replace(['fitness_proportional_selection','tournament_k3'], [-1, 1]).infer_objects()\n",
    "multi_final_fitness_res['s_sel'] = multi_final_fitness_res['s_sel'].replace(['fitness_proportional_selection','tournament_k3'], [-1, 1]).infer_objects()\n",
    "multi_final_fitness_res = multi_final_fitness_res.set_index('run')\n",
    "multi_final_fitness_res.head()"
   ]
  },
  {
   "cell_type": "code",
   "execution_count": 25,
   "metadata": {},
   "outputs": [],
   "source": [
    "inputs_df.to_pickle('./TEST_A_DOE_data.gz', compression='gzip')\n",
    "multi_final_fitness_res.to_pickle('./TEST_A_DOE_code.gz', compression='gzip')"
   ]
  },
  {
   "cell_type": "code",
   "execution_count": null,
   "metadata": {},
   "outputs": [],
   "source": []
  }
 ],
 "metadata": {
  "kernelspec": {
   "display_name": "Python [conda env:thesis] *",
   "language": "python",
   "name": "conda-env-thesis-py"
  },
  "language_info": {
   "codemirror_mode": {
    "name": "ipython",
    "version": 3
   },
   "file_extension": ".py",
   "mimetype": "text/x-python",
   "name": "python",
   "nbconvert_exporter": "python",
   "pygments_lexer": "ipython3",
   "version": "3.6.7"
  }
 },
 "nbformat": 4,
 "nbformat_minor": 2
}
