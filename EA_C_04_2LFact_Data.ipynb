{
 "cells": [
  {
   "cell_type": "raw",
   "metadata": {},
   "source": [
    "\\author{Eloy Ruiz-Donayre}\n",
    "\\title{TESTCASE B - 2-Level 7-Factor Full Factorial (With 40 replicates) - Data Generation}\n",
    "\\date{\\today}\n",
    "\\maketitle"
   ]
  },
  {
   "cell_type": "raw",
   "metadata": {},
   "source": [
    "\\tableofcontents"
   ]
  },
  {
   "cell_type": "markdown",
   "metadata": {},
   "source": [
    "# Preliminaries"
   ]
  },
  {
   "cell_type": "markdown",
   "metadata": {},
   "source": [
    "This commands are used in Google Colab:"
   ]
  },
  {
   "cell_type": "markdown",
   "metadata": {
    "colab": {
     "base_uri": "https://localhost:8080/",
     "height": 53
    },
    "colab_type": "code",
    "executionInfo": {
     "elapsed": 4917,
     "status": "ok",
     "timestamp": 1561564955582,
     "user": {
      "displayName": "Eloy Ruiz Donayre",
      "photoUrl": "https://lh5.googleusercontent.com/-eCyR1x8lRb0/AAAAAAAAAAI/AAAAAAAAABI/hEiDwzQwWs0/s64/photo.jpg",
      "userId": "04104170300566764648"
     },
     "user_tz": -120
    },
    "id": "NyS-yVCxJxfK",
    "outputId": "aee402f2-7489-4bef-eae1-9318286da1dc"
   },
   "source": [
    "!pip install deap"
   ]
  },
  {
   "cell_type": "markdown",
   "metadata": {
    "colab": {
     "base_uri": "https://localhost:8080/",
     "height": 35
    },
    "colab_type": "code",
    "executionInfo": {
     "elapsed": 4894,
     "status": "ok",
     "timestamp": 1561564955586,
     "user": {
      "displayName": "Eloy Ruiz Donayre",
      "photoUrl": "https://lh5.googleusercontent.com/-eCyR1x8lRb0/AAAAAAAAAAI/AAAAAAAAABI/hEiDwzQwWs0/s64/photo.jpg",
      "userId": "04104170300566764648"
     },
     "user_tz": -120
    },
    "id": "va1gdtFzJxgF",
    "outputId": "b6d78934-981e-4c90-a8a1-b451815fac6c"
   },
   "source": [
    "from google.colab import drive\n",
    "drive.mount(\"/content/gdrive\")"
   ]
  },
  {
   "cell_type": "markdown",
   "metadata": {},
   "source": [
    "Importing python packages and setting display parameters"
   ]
  },
  {
   "cell_type": "code",
   "execution_count": 3,
   "metadata": {},
   "outputs": [],
   "source": [
    "import math as mt\n",
    "import random as rnd\n",
    "import numpy as np\n",
    "import pandas as pd\n",
    "import itertools as it\n",
    "\n",
    "from deap import base, creator, tools\n",
    "\n",
    "import numba\n",
    "from numba import jit\n",
    "import joblib\n",
    "\n",
    "import matplotlib as mpl\n",
    "import seaborn as sns\n",
    "import matplotlib.pyplot as plt\n",
    "\n",
    "import pandas as pd\n",
    "import statistics as stats"
   ]
  },
  {
   "cell_type": "code",
   "execution_count": 4,
   "metadata": {},
   "outputs": [],
   "source": [
    "%matplotlib inline\n",
    "#%config InlineBackend.figure_format = \"retina\"\n",
    "\n",
    "plt.style.use(\"default\")\n",
    "plt.style.use(\"bmh\")\n",
    "# plt.rcParams.update({\"figure.autolayout\": True})\n",
    "plt.rcParams[\"figure.figsize\"] = (12, 9)\n",
    "mpl.rcParams[\"figure.dpi\"] = 100\n",
    "mpl.rcParams[\"savefig.dpi\"] = 100\n",
    "\n",
    "pd.set_option(\"display.latex.repr\", True)\n",
    "pd.set_option(\"display.latex.longtable\", True)"
   ]
  },
  {
   "cell_type": "code",
   "execution_count": null,
   "metadata": {},
   "outputs": [],
   "source": [
    "pickle_dir = \"./pickle/\"\n",
    "file_sufix = \"C_04\"\n",
    "pickle_dir + file_sufix"
   ]
  },
  {
   "cell_type": "markdown",
   "metadata": {},
   "source": [
    "Run this when working in Google Colab:"
   ]
  },
  {
   "cell_type": "markdown",
   "metadata": {
    "colab": {},
    "colab_type": "code",
    "id": "4xI6Ra3OJxhW"
   },
   "source": [
    "pickle_dir = \"/content/gdrive/My Drive/Colab Notebooks/thesis/\"\n",
    "pickle_dir + file_sufix"
   ]
  },
  {
   "cell_type": "markdown",
   "metadata": {
    "toc-hr-collapsed": false
   },
   "source": [
    "# Fitness Landscape Definition"
   ]
  },
  {
   "cell_type": "code",
   "execution_count": 5,
   "metadata": {},
   "outputs": [],
   "source": [
    "# Problem domain\n",
    "x_min = -15\n",
    "x_max = 15\n",
    "y_min = -15\n",
    "y_max = 15\n",
    "\n",
    "# Known minimum\n",
    "x_point = -6.01717\n",
    "y_point = 9.06022\n",
    "\n",
    "domain = (x_min, x_max, y_min, y_max)\n",
    "point = (x_point, y_point)\n",
    "img_size = (8.5, 4.25)\n",
    "\n",
    "# Problem definition\n",
    "\n",
    "\n",
    "@jit\n",
    "def g_fun(x, y):\n",
    "    mag = np.sqrt(x ** 2.0 + y ** 2.0)\n",
    "    val = -(50.0 * np.sinc(mag / np.pi) - mag)\n",
    "    return val.item()\n",
    "\n",
    "\n",
    "@jit\n",
    "def f_fun(x, y):\n",
    "    x_min = -6.01717\n",
    "    y_min = 9.06022\n",
    "    f_min = (\n",
    "        g_fun(x_min + 11.0, y_min + 9.0)\n",
    "        + g_fun(x_min - 11.0, y_min - 3.0)\n",
    "        + g_fun(x_min + 6.0, y_min - 9.0)\n",
    "    )\n",
    "    tripsinc = (\n",
    "        g_fun(x + 11.0, y + 9.0)\n",
    "        + g_fun(x - 11.0, y - 3.0)\n",
    "        + g_fun(x + 6.0, y - 9.0)\n",
    "        - (f_min)\n",
    "    )\n",
    "    return tripsinc"
   ]
  },
  {
   "cell_type": "code",
   "execution_count": 6,
   "metadata": {},
   "outputs": [],
   "source": [
    "@jit\n",
    "def evaluate(individual):\n",
    "    x = individual[0]\n",
    "    y = individual[1]\n",
    "    fitness = f_fun(x, y)\n",
    "    return (fitness,)"
   ]
  },
  {
   "cell_type": "code",
   "execution_count": 7,
   "metadata": {},
   "outputs": [
    {
     "name": "stdout",
     "output_type": "stream",
     "text": [
      "0.0\n"
     ]
    }
   ],
   "source": [
    "# Testing the minimum\n",
    "print(f_fun(-6.01717, 9.06022))"
   ]
  },
  {
   "cell_type": "code",
   "execution_count": 8,
   "metadata": {},
   "outputs": [
    {
     "name": "stdout",
     "output_type": "stream",
     "text": [
      "50.62059878583003 5.177364279021976 6.107247239602234 0.031278340140559635\n"
     ]
    }
   ],
   "source": [
    "# Testing the function\n",
    "print(f_fun(-1.0, -1.0), f_fun(-11.0, -9.0), f_fun(11.0, 3.0), f_fun(-6.0, 9.0))"
   ]
  },
  {
   "cell_type": "markdown",
   "metadata": {
    "toc-hr-collapsed": true
   },
   "source": [
    "# Setting up the experiment"
   ]
  },
  {
   "cell_type": "markdown",
   "metadata": {
    "toc-hr-collapsed": false
   },
   "source": [
    "## Common parameters"
   ]
  },
  {
   "cell_type": "code",
   "execution_count": 9,
   "metadata": {},
   "outputs": [],
   "source": [
    "# Algorithm parameters\n",
    "# Number of replicates, and generations per experiment\n",
    "rep_end = 40\n",
    "births_end = 60e3\n",
    "\n",
    "# Genes\n",
    "gen_size = 2\n",
    "# Population size\n",
    "pop_size_lvl = [20, 160]\n",
    "# Progeny and parents size ratio to population size\n",
    "b_ratio_lvl = [0.6, 5]\n",
    "\n",
    "# Progeny parameters\n",
    "## Crossover probability per gene\n",
    "cx_pb_lvl = [0.1, 0.9]\n",
    "## Mutation probability per gene\n",
    "mut_pb_lvl = [0.1, 0.9]\n",
    "## Mutation strength\n",
    "mut_sig_lvl = [0.5, 7.5]\n",
    "\n",
    "# Selection by tournament\n",
    "# Tournament size parent selection\n",
    "k_par_lvl = [2, 6]\n",
    "# Tournament size survivor selection\n",
    "k_sur_lvl = [2, 6]"
   ]
  },
  {
   "cell_type": "markdown",
   "metadata": {},
   "source": [
    "## Factor levels"
   ]
  },
  {
   "cell_type": "code",
   "execution_count": 10,
   "metadata": {},
   "outputs": [
    {
     "data": {
      "text/html": [
       "<div>\n",
       "<style scoped>\n",
       "    .dataframe tbody tr th:only-of-type {\n",
       "        vertical-align: middle;\n",
       "    }\n",
       "\n",
       "    .dataframe tbody tr th {\n",
       "        vertical-align: top;\n",
       "    }\n",
       "\n",
       "    .dataframe thead th {\n",
       "        text-align: right;\n",
       "    }\n",
       "</style>\n",
       "<table border=\"1\" class=\"dataframe\">\n",
       "  <thead>\n",
       "    <tr style=\"text-align: right;\">\n",
       "      <th></th>\n",
       "      <th>Label</th>\n",
       "      <th>Range</th>\n",
       "      <th>LowLevel</th>\n",
       "      <th>HighLevel</th>\n",
       "    </tr>\n",
       "    <tr>\n",
       "      <th>Factor</th>\n",
       "      <th></th>\n",
       "      <th></th>\n",
       "      <th></th>\n",
       "      <th></th>\n",
       "    </tr>\n",
       "  </thead>\n",
       "  <tbody>\n",
       "    <tr>\n",
       "      <th>pop</th>\n",
       "      <td>Population size</td>\n",
       "      <td>Integer +</td>\n",
       "      <td>20.0</td>\n",
       "      <td>160.0</td>\n",
       "    </tr>\n",
       "    <tr>\n",
       "      <th>b_ratio</th>\n",
       "      <td>Progeny-to-pop ratio</td>\n",
       "      <td>Real +</td>\n",
       "      <td>0.6</td>\n",
       "      <td>5.0</td>\n",
       "    </tr>\n",
       "    <tr>\n",
       "      <th>cx_pb</th>\n",
       "      <td>Crossover prob</td>\n",
       "      <td>Real [0,1]</td>\n",
       "      <td>0.1</td>\n",
       "      <td>0.9</td>\n",
       "    </tr>\n",
       "    <tr>\n",
       "      <th>mut_pb</th>\n",
       "      <td>Mutation prob</td>\n",
       "      <td>Real [0,1]</td>\n",
       "      <td>0.1</td>\n",
       "      <td>0.9</td>\n",
       "    </tr>\n",
       "    <tr>\n",
       "      <th>mut_sig</th>\n",
       "      <td>Mutation sigma</td>\n",
       "      <td>Real +</td>\n",
       "      <td>0.5</td>\n",
       "      <td>7.5</td>\n",
       "    </tr>\n",
       "    <tr>\n",
       "      <th>k_par</th>\n",
       "      <td>Parent tourn size</td>\n",
       "      <td>Integer +</td>\n",
       "      <td>2.0</td>\n",
       "      <td>6.0</td>\n",
       "    </tr>\n",
       "    <tr>\n",
       "      <th>k_sur</th>\n",
       "      <td>Surviv tourn size</td>\n",
       "      <td>Integer +</td>\n",
       "      <td>2.0</td>\n",
       "      <td>6.0</td>\n",
       "    </tr>\n",
       "  </tbody>\n",
       "</table>\n",
       "</div>"
      ],
      "text/latex": [
       "\\begin{longtable}{lllrr}\n",
       "\\toprule\n",
       "{} &                 Label &       Range &  LowLevel &  HighLevel \\\\\n",
       "Factor  &                       &             &           &            \\\\\n",
       "\\midrule\n",
       "\\endhead\n",
       "\\midrule\n",
       "\\multicolumn{5}{r}{{Continued on next page}} \\\\\n",
       "\\midrule\n",
       "\\endfoot\n",
       "\n",
       "\\bottomrule\n",
       "\\endlastfoot\n",
       "pop     &       Population size &   Integer + &      20.0 &      160.0 \\\\\n",
       "b\\_ratio &  Progeny-to-pop ratio &      Real + &       0.6 &        5.0 \\\\\n",
       "cx\\_pb   &        Crossover prob &  Real [0,1] &       0.1 &        0.9 \\\\\n",
       "mut\\_pb  &         Mutation prob &  Real [0,1] &       0.1 &        0.9 \\\\\n",
       "mut\\_sig &        Mutation sigma &      Real + &       0.5 &        7.5 \\\\\n",
       "k\\_par   &     Parent tourn size &   Integer + &       2.0 &        6.0 \\\\\n",
       "k\\_sur   &     Surviv tourn size &   Integer + &       2.0 &        6.0 \\\\\n",
       "\\end{longtable}\n"
      ],
      "text/plain": [
       "                        Label       Range  LowLevel  HighLevel\n",
       "Factor                                                        \n",
       "pop           Population size   Integer +      20.0      160.0\n",
       "b_ratio  Progeny-to-pop ratio      Real +       0.6        5.0\n",
       "cx_pb          Crossover prob  Real [0,1]       0.1        0.9\n",
       "mut_pb          Mutation prob  Real [0,1]       0.1        0.9\n",
       "mut_sig        Mutation sigma      Real +       0.5        7.5\n",
       "k_par       Parent tourn size   Integer +       2.0        6.0\n",
       "k_sur       Surviv tourn size   Integer +       2.0        6.0"
      ]
     },
     "execution_count": 10,
     "metadata": {},
     "output_type": "execute_result"
    }
   ],
   "source": [
    "factors_levels = [\n",
    "    (\"pop\", \"Population size\", \"Integer +\", min(pop_size_lvl), max(pop_size_lvl)),\n",
    "    (\"b_ratio\", \"Progeny-to-pop ratio\", \"Real +\", min(b_ratio_lvl), max(b_ratio_lvl)),\n",
    "    (\"cx_pb\", \"Crossover prob\", \"Real [0,1]\", min(cx_pb_lvl), max(cx_pb_lvl)),\n",
    "    (\"mut_pb\", \"Mutation prob\", \"Real [0,1]\", min(mut_pb_lvl), max(mut_pb_lvl)),\n",
    "    (\"mut_sig\", \"Mutation sigma\", \"Real +\", min(mut_sig_lvl), max(mut_sig_lvl)),\n",
    "    (\"k_par\", \"Parent tourn size\", \"Integer +\", min(k_par_lvl), max(k_par_lvl)),\n",
    "    (\"k_sur\", \"Surviv tourn size\", \"Integer +\", min(k_sur_lvl), max(k_sur_lvl)),\n",
    "]\n",
    "\n",
    "factors_df = pd.DataFrame(\n",
    "    factors_levels, columns=[\"Factor\", \"Label\", \"Range\", \"LowLevel\", \"HighLevel\"]\n",
    ")\n",
    "factors_df = factors_df.set_index([\"Factor\"])\n",
    "\n",
    "factors_df"
   ]
  },
  {
   "cell_type": "markdown",
   "metadata": {
    "toc-hr-collapsed": false
   },
   "source": [
    "## Defining the EA elements"
   ]
  },
  {
   "cell_type": "markdown",
   "metadata": {},
   "source": [
    "We define that the fitness is related to a minimizing problem, and that each individual is represented with a list of numbers"
   ]
  },
  {
   "cell_type": "code",
   "execution_count": 11,
   "metadata": {},
   "outputs": [],
   "source": [
    "creator.create(\"FitnessMin\", base.Fitness, weights=(-1.0,))\n",
    "creator.create(\"Individual\", list, fitness=creator.FitnessMin)"
   ]
  },
  {
   "cell_type": "markdown",
   "metadata": {},
   "source": [
    "We start the DEAP toolset. At creation, each individual will have 2 genes of type \"float\" that are randomly initialized in the range [-15; 15]."
   ]
  },
  {
   "cell_type": "code",
   "execution_count": 12,
   "metadata": {},
   "outputs": [],
   "source": [
    "toolbox = base.Toolbox()"
   ]
  },
  {
   "cell_type": "code",
   "execution_count": 13,
   "metadata": {},
   "outputs": [],
   "source": [
    "toolbox.register(\"attr_float\", rnd.uniform, -15, 15)\n",
    "toolbox.register(\n",
    "    \"individual\", tools.initRepeat, creator.Individual, toolbox.attr_float, n=gen_size\n",
    ")\n",
    "toolbox.register(\"population\", tools.initRepeat, list, toolbox.individual)"
   ]
  },
  {
   "cell_type": "markdown",
   "metadata": {},
   "source": [
    "We add our landscape to the toolset, indicate that the mating will use a uniform crossover on a per-gene basis, that the mutation will be also on a per-gene basis with a value taken from a gaussian distribution, and that parent and survivor selections will use tournament selection."
   ]
  },
  {
   "cell_type": "code",
   "execution_count": 14,
   "metadata": {},
   "outputs": [],
   "source": [
    "toolbox.register(\"evaluate\", evaluate)\n",
    "\n",
    "toolbox.register(\"mate\", tools.cxUniform)\n",
    "toolbox.register(\"mutate\", tools.mutGaussian, mu=0)\n",
    "\n",
    "toolbox.register(\"par_select\", tools.selTournament)\n",
    "toolbox.register(\"sur_select\", tools.selTournament)"
   ]
  },
  {
   "cell_type": "markdown",
   "metadata": {},
   "source": [
    "We define that for each generation we'll summarize the fitnesses with median, mean, standard deviation, and store the best and worst fitnesses in the generation."
   ]
  },
  {
   "cell_type": "code",
   "execution_count": 15,
   "metadata": {},
   "outputs": [],
   "source": [
    "stat = tools.Statistics(key=lambda ind: ind.fitness.values[0])\n",
    "\n",
    "stat.register(\"med\", stats.median)\n",
    "stat.register(\"avg\", stats.mean)\n",
    "stat.register(\"std\", stats.stdev)\n",
    "stat.register(\"best\", min)\n",
    "stat.register(\"worst\", max)"
   ]
  },
  {
   "cell_type": "markdown",
   "metadata": {},
   "source": [
    "We invoque the data recording logbook."
   ]
  },
  {
   "cell_type": "code",
   "execution_count": 16,
   "metadata": {},
   "outputs": [],
   "source": [
    "logbook = tools.Logbook()"
   ]
  },
  {
   "cell_type": "markdown",
   "metadata": {
    "toc-hr-collapsed": false
   },
   "source": [
    "## Experiment description"
   ]
  },
  {
   "cell_type": "markdown",
   "metadata": {
    "toc-hr-collapsed": false
   },
   "source": [
    "64 Experiments\n",
    ">L-> In each experiment, one set of parameters is used.\n",
    ">>L-> 40 Replicates per experiment.\n",
    ">>>L-> Each replicate is different due to randomness effects."
   ]
  },
  {
   "cell_type": "markdown",
   "metadata": {
    "toc-hr-collapsed": true
   },
   "source": [
    "# Running the experiments"
   ]
  },
  {
   "cell_type": "markdown",
   "metadata": {},
   "source": [
    "## Combining the 2-level Factors"
   ]
  },
  {
   "cell_type": "markdown",
   "metadata": {},
   "source": [
    "We create a list with all the possible combinations of the 2-level factors"
   ]
  },
  {
   "cell_type": "code",
   "execution_count": 17,
   "metadata": {},
   "outputs": [
    {
     "name": "stdout",
     "output_type": "stream",
     "text": [
      "Cantidad de combinaciones de parametros en \"exp_par\" :128\n",
      "\n",
      "Primera y última combinación de parametros en \"exp_par\":\n",
      "Secuencia (pop, b_ratio, cx_pb, mut_pb, mut_sig, k_par, k_sur)\n",
      "(20, 0.6, 0.1, 0.1, 0.5, 2, 2)\n",
      "(160, 5, 0.9, 0.9, 7.5, 6, 6)\n"
     ]
    }
   ],
   "source": [
    "exp_par = list(\n",
    "    it.product(\n",
    "        pop_size_lvl,\n",
    "        b_ratio_lvl,\n",
    "        cx_pb_lvl,\n",
    "        mut_pb_lvl,\n",
    "        mut_sig_lvl,\n",
    "        k_par_lvl,\n",
    "        k_sur_lvl,\n",
    "    )\n",
    ")\n",
    "print('Cantidad de combinaciones de parametros en \"exp_par\" :' + str(len(exp_par)))\n",
    "print()\n",
    "print('Primera y última combinación de parametros en \"exp_par\":')\n",
    "print(\"Secuencia (pop, b_ratio, cx_pb, mut_pb, mut_sig, k_par, k_sur)\")\n",
    "print(exp_par[0])\n",
    "print(exp_par[-1])"
   ]
  },
  {
   "cell_type": "markdown",
   "metadata": {},
   "source": [
    "### Executing the experiment"
   ]
  },
  {
   "cell_type": "code",
   "execution_count": null,
   "metadata": {},
   "outputs": [],
   "source": [
    "rnd.seed(42)"
   ]
  },
  {
   "cell_type": "code",
   "execution_count": 16,
   "metadata": {},
   "outputs": [],
   "source": [
    "pickle_file = pickle_dir + file_sufix + \".joblib\""
   ]
  },
  {
   "cell_type": "code",
   "execution_count": 18,
   "metadata": {},
   "outputs": [
    {
     "name": "stdout",
     "output_type": "stream",
     "text": [
      "Wall time: 14min 25s\n"
     ]
    }
   ],
   "source": [
    "%%time\n",
    "if __name__ == \"__main__\":\n",
    "    for (pop_size, b_ratio, cx_pb, mut_pb, mut_sig, k_par, k_sur), j in zip(\n",
    "        exp_par, range(len(exp_par))\n",
    "    ):\n",
    "        exp_n = j + 1\n",
    "        par_size = b_ratio * pop_size\n",
    "        for rep_n in range(rep_end):\n",
    "            rep_seed = rnd.randint(0, 999)\n",
    "            rnd.seed(rep_seed)\n",
    "            # We initialize the population and evaluate the individuals' fitnesses\n",
    "            pop = toolbox.population(n=pop_size)\n",
    "            fitnesses = toolbox.map(toolbox.evaluate, pop)\n",
    "            for ind, fit in zip(pop, fitnesses):\n",
    "                ind.fitness.values = fit\n",
    "            # We start the logbook\n",
    "            record = stat.compile(pop)\n",
    "            births = len(pop)\n",
    "            logbook.record(\n",
    "                exp=exp_n,\n",
    "                pop=pop_size,\n",
    "                b_ratio=b_ratio,\n",
    "                cx_pb=cx_pb,\n",
    "                mut_pb=mut_pb,\n",
    "                mut_sig=mut_sig,\n",
    "                k_par=k_par,\n",
    "                k_sur=k_sur,\n",
    "                rep=rep_n + 1,\n",
    "                seed=rep_seed,\n",
    "                births=births,\n",
    "                **record\n",
    "            )\n",
    "\n",
    "            while births < births_end:\n",
    "                # Select Parents and clone them as base for offsprings\n",
    "                parents = toolbox.par_select(pop, k=par_size, tournsize=k_par)\n",
    "                offspring = [toolbox.clone(ind) for ind in parents]\n",
    "                births = births + len(offspring)\n",
    "\n",
    "                # Aplly crossover\n",
    "                for child1, child2 in zip(offspring[::2], offspring[1::2]):\n",
    "                    toolbox.mate(child1, child2, indpb=cx_pb)\n",
    "\n",
    "                # Apply mutation\n",
    "                for mutant in offspring:\n",
    "                    toolbox.mutate(mutant, sigma=mut_sig, indpb=mut_pb)\n",
    "                    del mutant.fitness.values\n",
    "\n",
    "                fitnesses = toolbox.map(toolbox.evaluate, offspring)\n",
    "                for ind, fit in zip(offspring, fitnesses):\n",
    "                    ind.fitness.values = fit\n",
    "\n",
    "                pop = toolbox.sur_select((pop + offspring), k=pop_size, tournsize=k_sur)\n",
    "\n",
    "                record = stat.compile(pop)\n",
    "                logbook.record(\n",
    "                    exp=exp_n,\n",
    "                    pop=pop_size,\n",
    "                    b_ratio=b_ratio,\n",
    "                    cx_pb=cx_pb,\n",
    "                    mut_pb=mut_pb,\n",
    "                    mut_sig=mut_sig,\n",
    "                    k_par=k_par,\n",
    "                    k_sur=k_sur,\n",
    "                    rep=rep_n + 1,\n",
    "                    seed=rep_seed,\n",
    "                    births=births,\n",
    "                    **record\n",
    "                )\n",
    "    if j % 8 == 0:\n",
    "        with open(pickle_file, \"wb\") as handle:\n",
    "            joblib.dump(logbook, handle, compress=(\"xz\", 2))"
   ]
  },
  {
   "cell_type": "markdown",
   "metadata": {},
   "source": [
    "Storing the logbook to a file"
   ]
  },
  {
   "cell_type": "code",
   "execution_count": 39,
   "metadata": {},
   "outputs": [],
   "source": [
    "%%time\n",
    "with open(pickle_file, \"wb\") as handle:\n",
    "    joblib.dump(logbook, handle, compress=(\"xz\", 2))"
   ]
  },
  {
   "cell_type": "markdown",
   "metadata": {
    "colab_type": "text",
    "id": "pJSLtKCLr_jE"
   },
   "source": [
    "# Data Storage"
   ]
  },
  {
   "cell_type": "markdown",
   "metadata": {
    "colab_type": "text",
    "id": "WBbPOEflr_jF"
   },
   "source": [
    "Reading the logbook from the file"
   ]
  },
  {
   "cell_type": "code",
   "execution_count": null,
   "metadata": {
    "colab": {},
    "colab_type": "code",
    "id": "p6TRyN7waarQ"
   },
   "outputs": [],
   "source": [
    "pickle_file = pickle_dir + file_sufix + \".joblib\""
   ]
  },
  {
   "cell_type": "code",
   "execution_count": 7,
   "metadata": {
    "colab": {
     "base_uri": "https://localhost:8080/",
     "height": 53
    },
    "colab_type": "code",
    "executionInfo": {
     "elapsed": 217219,
     "status": "ok",
     "timestamp": 1561378312899,
     "user": {
      "displayName": "Eloy Ruiz Donayre",
      "photoUrl": "https://lh5.googleusercontent.com/-eCyR1x8lRb0/AAAAAAAAAAI/AAAAAAAAABI/hEiDwzQwWs0/s64/photo.jpg",
      "userId": "04104170300566764648"
     },
     "user_tz": -120
    },
    "id": "qe9aP-ykr_jG",
    "outputId": "7f15b958-a23f-475d-fc76-92dd8cf287cf"
   },
   "outputs": [
    {
     "name": "stdout",
     "output_type": "stream",
     "text": [
      "CPU times: user 3min 28s, sys: 7.81 s, total: 3min 36s\n",
      "Wall time: 3min 36s\n"
     ]
    }
   ],
   "source": [
    "%%time\n",
    "with open(pickle_file, \"rb\") as handle:\n",
    "    logbook = joblib.load(handle)"
   ]
  },
  {
   "cell_type": "markdown",
   "metadata": {
    "colab_type": "text",
    "id": "H5KaYfLUMEe3"
   },
   "source": [
    "## Storing DataFrame of the Logbook"
   ]
  },
  {
   "cell_type": "markdown",
   "metadata": {
    "colab_type": "text",
    "id": "LGtbsGKhegPT"
   },
   "source": [
    "We transform the records into a data frame"
   ]
  },
  {
   "cell_type": "code",
   "execution_count": 8,
   "metadata": {
    "colab": {
     "base_uri": "https://localhost:8080/",
     "height": 53
    },
    "colab_type": "code",
    "executionInfo": {
     "elapsed": 225425,
     "status": "ok",
     "timestamp": 1561378328322,
     "user": {
      "displayName": "Eloy Ruiz Donayre",
      "photoUrl": "https://lh5.googleusercontent.com/-eCyR1x8lRb0/AAAAAAAAAAI/AAAAAAAAABI/hEiDwzQwWs0/s64/photo.jpg",
      "userId": "04104170300566764648"
     },
     "user_tz": -120
    },
    "id": "Yqd-a1hoLecl",
    "outputId": "f80486df-05c6-499b-c516-4a23dde0f93c"
   },
   "outputs": [
    {
     "name": "stdout",
     "output_type": "stream",
     "text": [
      "CPU times: user 13.9 s, sys: 1.49 s, total: 15.4 s\n",
      "Wall time: 15.4 s\n"
     ]
    }
   ],
   "source": [
    "%%time\n",
    "pop_records = [record for record in logbook]\n",
    "fitness_res = pd.DataFrame.from_dict(pop_records)"
   ]
  },
  {
   "cell_type": "code",
   "execution_count": 9,
   "metadata": {
    "colab": {
     "base_uri": "https://localhost:8080/",
     "height": 206
    },
    "colab_type": "code",
    "executionInfo": {
     "elapsed": 224003,
     "status": "ok",
     "timestamp": 1561378328334,
     "user": {
      "displayName": "Eloy Ruiz Donayre",
      "photoUrl": "https://lh5.googleusercontent.com/-eCyR1x8lRb0/AAAAAAAAAAI/AAAAAAAAABI/hEiDwzQwWs0/s64/photo.jpg",
      "userId": "04104170300566764648"
     },
     "user_tz": -120
    },
    "id": "SiZ9BZI_Lkze",
    "outputId": "4211db38-4426-42ef-9581-cd8ea7e001df"
   },
   "outputs": [
    {
     "data": {
      "text/html": [
       "<div>\n",
       "<style scoped>\n",
       "    .dataframe tbody tr th:only-of-type {\n",
       "        vertical-align: middle;\n",
       "    }\n",
       "\n",
       "    .dataframe tbody tr th {\n",
       "        vertical-align: top;\n",
       "    }\n",
       "\n",
       "    .dataframe thead th {\n",
       "        text-align: right;\n",
       "    }\n",
       "</style>\n",
       "<table border=\"1\" class=\"dataframe\">\n",
       "  <thead>\n",
       "    <tr style=\"text-align: right;\">\n",
       "      <th></th>\n",
       "      <th>exp</th>\n",
       "      <th>pop</th>\n",
       "      <th>b_ratio</th>\n",
       "      <th>cx_pb</th>\n",
       "      <th>mut_pb</th>\n",
       "      <th>mut_sig</th>\n",
       "      <th>k_par</th>\n",
       "      <th>k_sur</th>\n",
       "      <th>rep</th>\n",
       "      <th>seed</th>\n",
       "      <th>births</th>\n",
       "      <th>avg</th>\n",
       "      <th>best</th>\n",
       "      <th>med</th>\n",
       "      <th>std</th>\n",
       "      <th>worst</th>\n",
       "    </tr>\n",
       "  </thead>\n",
       "  <tbody>\n",
       "    <tr>\n",
       "      <th>0</th>\n",
       "      <td>1</td>\n",
       "      <td>20</td>\n",
       "      <td>3.0</td>\n",
       "      <td>0.5</td>\n",
       "      <td>0.5</td>\n",
       "      <td>2.5</td>\n",
       "      <td>2</td>\n",
       "      <td>6</td>\n",
       "      <td>1</td>\n",
       "      <td>216</td>\n",
       "      <td>20</td>\n",
       "      <td>53.166835</td>\n",
       "      <td>19.791813</td>\n",
       "      <td>51.714896</td>\n",
       "      <td>13.730201</td>\n",
       "      <td>75.854941</td>\n",
       "    </tr>\n",
       "    <tr>\n",
       "      <th>1</th>\n",
       "      <td>1</td>\n",
       "      <td>20</td>\n",
       "      <td>3.0</td>\n",
       "      <td>0.5</td>\n",
       "      <td>0.5</td>\n",
       "      <td>2.5</td>\n",
       "      <td>2</td>\n",
       "      <td>6</td>\n",
       "      <td>1</td>\n",
       "      <td>216</td>\n",
       "      <td>80</td>\n",
       "      <td>34.083972</td>\n",
       "      <td>9.342030</td>\n",
       "      <td>39.407308</td>\n",
       "      <td>13.170811</td>\n",
       "      <td>51.182807</td>\n",
       "    </tr>\n",
       "    <tr>\n",
       "      <th>2</th>\n",
       "      <td>1</td>\n",
       "      <td>20</td>\n",
       "      <td>3.0</td>\n",
       "      <td>0.5</td>\n",
       "      <td>0.5</td>\n",
       "      <td>2.5</td>\n",
       "      <td>2</td>\n",
       "      <td>6</td>\n",
       "      <td>1</td>\n",
       "      <td>216</td>\n",
       "      <td>140</td>\n",
       "      <td>14.236409</td>\n",
       "      <td>4.324023</td>\n",
       "      <td>9.342030</td>\n",
       "      <td>8.896384</td>\n",
       "      <td>39.407308</td>\n",
       "    </tr>\n",
       "    <tr>\n",
       "      <th>3</th>\n",
       "      <td>1</td>\n",
       "      <td>20</td>\n",
       "      <td>3.0</td>\n",
       "      <td>0.5</td>\n",
       "      <td>0.5</td>\n",
       "      <td>2.5</td>\n",
       "      <td>2</td>\n",
       "      <td>6</td>\n",
       "      <td>1</td>\n",
       "      <td>216</td>\n",
       "      <td>200</td>\n",
       "      <td>7.788521</td>\n",
       "      <td>3.067776</td>\n",
       "      <td>7.975604</td>\n",
       "      <td>2.831520</td>\n",
       "      <td>15.255258</td>\n",
       "    </tr>\n",
       "    <tr>\n",
       "      <th>4</th>\n",
       "      <td>1</td>\n",
       "      <td>20</td>\n",
       "      <td>3.0</td>\n",
       "      <td>0.5</td>\n",
       "      <td>0.5</td>\n",
       "      <td>2.5</td>\n",
       "      <td>2</td>\n",
       "      <td>6</td>\n",
       "      <td>1</td>\n",
       "      <td>216</td>\n",
       "      <td>260</td>\n",
       "      <td>5.960772</td>\n",
       "      <td>1.564706</td>\n",
       "      <td>7.729387</td>\n",
       "      <td>2.519881</td>\n",
       "      <td>8.972362</td>\n",
       "    </tr>\n",
       "  </tbody>\n",
       "</table>\n",
       "</div>"
      ],
      "text/plain": [
       "   exp  pop  b_ratio  cx_pb  ...       best        med        std      worst\n",
       "0    1   20      3.0    0.5  ...  19.791813  51.714896  13.730201  75.854941\n",
       "1    1   20      3.0    0.5  ...   9.342030  39.407308  13.170811  51.182807\n",
       "2    1   20      3.0    0.5  ...   4.324023   9.342030   8.896384  39.407308\n",
       "3    1   20      3.0    0.5  ...   3.067776   7.975604   2.831520  15.255258\n",
       "4    1   20      3.0    0.5  ...   1.564706   7.729387   2.519881   8.972362\n",
       "\n",
       "[5 rows x 16 columns]"
      ]
     },
     "execution_count": 9,
     "metadata": {
      "tags": []
     },
     "output_type": "execute_result"
    }
   ],
   "source": [
    "cols = [\n",
    "    \"exp\",\n",
    "    \"pop\",\n",
    "    \"b_ratio\",\n",
    "    \"cx_pb\",\n",
    "    \"mut_pb\",\n",
    "    \"mut_sig\",\n",
    "    \"k_par\",\n",
    "    \"k_sur\",\n",
    "    \"rep\",\n",
    "    \"seed\",\n",
    "    \"births\",\n",
    "    \"avg\",\n",
    "    \"best\",\n",
    "    \"med\",\n",
    "    \"std\",\n",
    "    \"worst\",\n",
    "]\n",
    "fitness_res = fitness_res[cols]\n",
    "fitness_res.head()"
   ]
  },
  {
   "cell_type": "markdown",
   "metadata": {},
   "source": [
    "We store the DataFrame in an external file"
   ]
  },
  {
   "cell_type": "code",
   "execution_count": 10,
   "metadata": {
    "colab": {
     "base_uri": "https://localhost:8080/",
     "height": 35
    },
    "colab_type": "code",
    "executionInfo": {
     "elapsed": 274343,
     "status": "ok",
     "timestamp": 1561378380422,
     "user": {
      "displayName": "Eloy Ruiz Donayre",
      "photoUrl": "https://lh5.googleusercontent.com/-eCyR1x8lRb0/AAAAAAAAAAI/AAAAAAAAABI/hEiDwzQwWs0/s64/photo.jpg",
      "userId": "04104170300566764648"
     },
     "user_tz": -120
    },
    "id": "_pCCjaBQeeja",
    "outputId": "01bc3f1e-ac35-4c95-e52a-985413d5e120"
   },
   "outputs": [
    {
     "name": "stdout",
     "output_type": "stream",
     "text": [
      "3279360\n"
     ]
    }
   ],
   "source": [
    "fit_log_df_file = pickle_dir + file_sufix + \"_fit_log_df.xz\"\n",
    "fitness_res.to_pickle(fit_log_df_file)\n",
    "print(len(fitness_res))"
   ]
  },
  {
   "cell_type": "markdown",
   "metadata": {},
   "source": [
    "We read them if necessary"
   ]
  },
  {
   "cell_type": "code",
   "execution_count": 5,
   "metadata": {
    "colab": {
     "base_uri": "https://localhost:8080/",
     "height": 35
    },
    "colab_type": "code",
    "executionInfo": {
     "elapsed": 6661,
     "status": "ok",
     "timestamp": 1561410735289,
     "user": {
      "displayName": "Eloy Ruiz Donayre",
      "photoUrl": "https://lh5.googleusercontent.com/-eCyR1x8lRb0/AAAAAAAAAAI/AAAAAAAAABI/hEiDwzQwWs0/s64/photo.jpg",
      "userId": "04104170300566764648"
     },
     "user_tz": -120
    },
    "id": "NZUOKTLqUzD2",
    "outputId": "486033f0-952e-4c99-e84f-f08c0c6bdc37"
   },
   "outputs": [
    {
     "name": "stdout",
     "output_type": "stream",
     "text": [
      "3279360\n"
     ]
    }
   ],
   "source": [
    "fit_log_df_file = pickle_dir + file_sufix + \"_fit_log_df.xz\"\n",
    "fitness_res = pd.read_pickle(fit_log_df_file)\n",
    "print(len(fitness_res))"
   ]
  },
  {
   "cell_type": "markdown",
   "metadata": {
    "colab_type": "text",
    "id": "krdl63e4Mi4v"
   },
   "source": [
    "## Storing DataFrame of ca. 400 samples of each generation"
   ]
  },
  {
   "cell_type": "code",
   "execution_count": null,
   "metadata": {
    "colab": {
     "base_uri": "https://localhost:8080/",
     "height": 1178
    },
    "colab_type": "code",
    "executionInfo": {
     "elapsed": 252346,
     "status": "ok",
     "timestamp": 1561378381299,
     "user": {
      "displayName": "Eloy Ruiz Donayre",
      "photoUrl": "https://lh5.googleusercontent.com/-eCyR1x8lRb0/AAAAAAAAAAI/AAAAAAAAABI/hEiDwzQwWs0/s64/photo.jpg",
      "userId": "04104170300566764648"
     },
     "user_tz": -120
    },
    "id": "JwTFNB4wLkYx",
    "outputId": "cf44d987-5e7c-46b2-92c4-d48b7bf41a36"
   },
   "outputs": [],
   "source": [
    "%%time\n",
    "index = [\n",
    "    \"exp\",\n",
    "    \"pop\",\n",
    "    \"b_ratio\",\n",
    "    \"cx_pb\",\n",
    "    \"mut_pb\",\n",
    "    \"mut_sig\",\n",
    "    \"k_par\",\n",
    "    \"k_sur\",\n",
    "    \"rep\",\n",
    "    \"seed\",\n",
    "]\n",
    "print(fitness_res.groupby(index).size())"
   ]
  },
  {
   "cell_type": "code",
   "execution_count": 12,
   "metadata": {
    "colab": {
     "base_uri": "https://localhost:8080/",
     "height": 53
    },
    "colab_type": "code",
    "executionInfo": {
     "elapsed": 251059,
     "status": "ok",
     "timestamp": 1561378381312,
     "user": {
      "displayName": "Eloy Ruiz Donayre",
      "photoUrl": "https://lh5.googleusercontent.com/-eCyR1x8lRb0/AAAAAAAAAAI/AAAAAAAAABI/hEiDwzQwWs0/s64/photo.jpg",
      "userId": "04104170300566764648"
     },
     "user_tz": -120
    },
    "id": "MzL1TW0UpqzB",
    "outputId": "65f2126b-4029-4de1-e559-80be73e95de5"
   },
   "outputs": [
    {
     "name": "stdout",
     "output_type": "stream",
     "text": [
      "CPU times: user 5 µs, sys: 0 ns, total: 5 µs\n",
      "Wall time: 10 µs\n"
     ]
    }
   ],
   "source": [
    "def filter_group(dfg, col, qty):\n",
    "    col_min = dfg[col].min()\n",
    "    col_max = dfg[col].max()\n",
    "    col_length = dfg[col].size\n",
    "    jumps = col_length - 1\n",
    "    jump_size = int((col_max - col_min) / jumps)\n",
    "    new_jump_size = jumps / qty\n",
    "    if new_jump_size > 1:\n",
    "        new_jump_size = int(new_jump_size) * jump_size\n",
    "    else:\n",
    "        new_jump_size = jump_size\n",
    "\n",
    "    col_select = list(range(col_min, col_max, new_jump_size))\n",
    "    col_select.append(col_max)\n",
    "\n",
    "    return dfg[dfg[col].isin(col_select)]"
   ]
  },
  {
   "cell_type": "code",
   "execution_count": null,
   "metadata": {
    "colab": {
     "base_uri": "https://localhost:8080/",
     "height": 1178
    },
    "colab_type": "code",
    "executionInfo": {
     "elapsed": 254156,
     "status": "ok",
     "timestamp": 1561378386180,
     "user": {
      "displayName": "Eloy Ruiz Donayre",
      "photoUrl": "https://lh5.googleusercontent.com/-eCyR1x8lRb0/AAAAAAAAAAI/AAAAAAAAABI/hEiDwzQwWs0/s64/photo.jpg",
      "userId": "04104170300566764648"
     },
     "user_tz": -120
    },
    "id": "enPjlSiJ5SLS",
    "outputId": "e44b5872-aa52-4ea8-e2cb-24908c19565c"
   },
   "outputs": [],
   "source": [
    "%%time\n",
    "index = [\n",
    "    \"exp\",\n",
    "    \"pop\",\n",
    "    \"b_ratio\",\n",
    "    \"cx_pb\",\n",
    "    \"mut_pb\",\n",
    "    \"mut_sig\",\n",
    "    \"k_par\",\n",
    "    \"k_sur\",\n",
    "    \"rep\",\n",
    "    \"seed\",\n",
    "]\n",
    "grouped = fitness_res.groupby(index, group_keys=False).apply(\n",
    "    lambda x: filter_group(x, \"births\", 400)\n",
    ")\n",
    "print(grouped.groupby(index).size())"
   ]
  },
  {
   "cell_type": "code",
   "execution_count": 14,
   "metadata": {
    "colab": {
     "base_uri": "https://localhost:8080/",
     "height": 71
    },
    "colab_type": "code",
    "executionInfo": {
     "elapsed": 263567,
     "status": "ok",
     "timestamp": 1561378397723,
     "user": {
      "displayName": "Eloy Ruiz Donayre",
      "photoUrl": "https://lh5.googleusercontent.com/-eCyR1x8lRb0/AAAAAAAAAAI/AAAAAAAAABI/hEiDwzQwWs0/s64/photo.jpg",
      "userId": "04104170300566764648"
     },
     "user_tz": -120
    },
    "id": "PbCor2-gk_ro",
    "outputId": "928dc84e-648a-4572-fda6-92623760553f"
   },
   "outputs": [
    {
     "name": "stdout",
     "output_type": "stream",
     "text": [
      "582440\n",
      "CPU times: user 11.1 s, sys: 19.9 ms, total: 11.1 s\n",
      "Wall time: 11.5 s\n"
     ]
    }
   ],
   "source": [
    "%%time\n",
    "fit_df_file = pickle_dir + file_sufix + \"_fit_df.xz\"\n",
    "grouped.to_pickle(fit_df_file)\n",
    "print(len(grouped))"
   ]
  },
  {
   "cell_type": "markdown",
   "metadata": {
    "colab_type": "text",
    "id": "oeiufrGvYTEt"
   },
   "source": [
    "## Storing DataFrame of final values of each replicate"
   ]
  },
  {
   "cell_type": "markdown",
   "metadata": {
    "colab_type": "text",
    "id": "UNQn8LtmfO6y"
   },
   "source": [
    "We filter the final values of each replicate and store the Data Frame"
   ]
  },
  {
   "cell_type": "code",
   "execution_count": 15,
   "metadata": {
    "colab": {
     "base_uri": "https://localhost:8080/",
     "height": 71
    },
    "colab_type": "code",
    "executionInfo": {
     "elapsed": 257921,
     "status": "ok",
     "timestamp": 1561378398113,
     "user": {
      "displayName": "Eloy Ruiz Donayre",
      "photoUrl": "https://lh5.googleusercontent.com/-eCyR1x8lRb0/AAAAAAAAAAI/AAAAAAAAABI/hEiDwzQwWs0/s64/photo.jpg",
      "userId": "04104170300566764648"
     },
     "user_tz": -120
    },
    "id": "glPt1U9tfPgW",
    "outputId": "85d72df1-1363-4ed6-8ef3-45d0460bb4f9"
   },
   "outputs": [],
   "source": [
    "%%time\n",
    "query = fitness_res[\"births\"] > births_end\n",
    "fit_fin_res = fitness_res[query]"
   ]
  },
  {
   "cell_type": "code",
   "execution_count": 15,
   "metadata": {
    "colab": {
     "base_uri": "https://localhost:8080/",
     "height": 71
    },
    "colab_type": "code",
    "executionInfo": {
     "elapsed": 257921,
     "status": "ok",
     "timestamp": 1561378398113,
     "user": {
      "displayName": "Eloy Ruiz Donayre",
      "photoUrl": "https://lh5.googleusercontent.com/-eCyR1x8lRb0/AAAAAAAAAAI/AAAAAAAAABI/hEiDwzQwWs0/s64/photo.jpg",
      "userId": "04104170300566764648"
     },
     "user_tz": -120
    },
    "id": "glPt1U9tfPgW",
    "outputId": "85d72df1-1363-4ed6-8ef3-45d0460bb4f9"
   },
   "outputs": [
    {
     "name": "stdout",
     "output_type": "stream",
     "text": [
      "1400\n",
      "CPU times: user 48.8 ms, sys: 992 µs, total: 49.8 ms\n",
      "Wall time: 257 ms\n"
     ]
    }
   ],
   "source": [
    "fit_fin_df_file = pickle_dir + file_sufix + \"_fit_fin_df.xz\"\n",
    "fit_fin_res.to_pickle(fit_fin_df_file)\n",
    "print(len(fit_fin_res))"
   ]
  },
  {
   "cell_type": "markdown",
   "metadata": {
    "colab_type": "text",
    "id": "dR20FtqVVjJY"
   },
   "source": [
    "## Storing DataFrame of values after birth 30K"
   ]
  },
  {
   "cell_type": "code",
   "execution_count": 17,
   "metadata": {
    "colab": {
     "base_uri": "https://localhost:8080/",
     "height": 71
    },
    "colab_type": "code",
    "executionInfo": {
     "elapsed": 1566,
     "status": "ok",
     "timestamp": 1561438200551,
     "user": {
      "displayName": "Eloy Ruiz Donayre",
      "photoUrl": "https://lh5.googleusercontent.com/-eCyR1x8lRb0/AAAAAAAAAAI/AAAAAAAAABI/hEiDwzQwWs0/s64/photo.jpg",
      "userId": "04104170300566764648"
     },
     "user_tz": -120
    },
    "id": "aK8z-wsUY64t",
    "outputId": "faab8381-c34b-4bb0-ab86-b854002441f9"
   },
   "outputs": [
    {
     "name": "stdout",
     "output_type": "stream",
     "text": [
      "1640400\n",
      "CPU times: user 870 ms, sys: 6.83 ms, total: 877 ms\n",
      "Wall time: 878 ms\n"
     ]
    }
   ],
   "source": [
    "%%time\n",
    "query = fitness_res[\"births\"] > 30e3\n",
    "fit_30k_res = fitness_res[query]\n",
    "\n",
    "print(len(fit_30k_res))"
   ]
  },
  {
   "cell_type": "code",
   "execution_count": 18,
   "metadata": {
    "colab": {
     "base_uri": "https://localhost:8080/",
     "height": 35
    },
    "colab_type": "code",
    "executionInfo": {
     "elapsed": 1879,
     "status": "ok",
     "timestamp": 1561438212523,
     "user": {
      "displayName": "Eloy Ruiz Donayre",
      "photoUrl": "https://lh5.googleusercontent.com/-eCyR1x8lRb0/AAAAAAAAAAI/AAAAAAAAABI/hEiDwzQwWs0/s64/photo.jpg",
      "userId": "04104170300566764648"
     },
     "user_tz": -120
    },
    "id": "v8E6MF7PWXeS",
    "outputId": "2bb7e5be-10f3-410a-9dd8-fe943424ad32"
   },
   "outputs": [],
   "source": [
    "index = [\n",
    "    \"exp\",\n",
    "    \"pop\",\n",
    "    \"b_ratio\",\n",
    "    \"cx_pb\",\n",
    "    \"mut_pb\",\n",
    "    \"mut_sig\",\n",
    "    \"k_par\",\n",
    "    \"k_sur\",\n",
    "    \"rep\",\n",
    "    \"seed\",\n",
    "]\n",
    "fit_30k_res = fit_30k_res.sort_values(\"births\").groupby(index, as_index=False).first()"
   ]
  },
  {
   "cell_type": "code",
   "execution_count": 18,
   "metadata": {
    "colab": {
     "base_uri": "https://localhost:8080/",
     "height": 35
    },
    "colab_type": "code",
    "executionInfo": {
     "elapsed": 1879,
     "status": "ok",
     "timestamp": 1561438212523,
     "user": {
      "displayName": "Eloy Ruiz Donayre",
      "photoUrl": "https://lh5.googleusercontent.com/-eCyR1x8lRb0/AAAAAAAAAAI/AAAAAAAAABI/hEiDwzQwWs0/s64/photo.jpg",
      "userId": "04104170300566764648"
     },
     "user_tz": -120
    },
    "id": "v8E6MF7PWXeS",
    "outputId": "2bb7e5be-10f3-410a-9dd8-fe943424ad32"
   },
   "outputs": [
    {
     "data": {
      "text/plain": [
       "1440"
      ]
     },
     "execution_count": 18,
     "metadata": {
      "tags": []
     },
     "output_type": "execute_result"
    }
   ],
   "source": [
    "fit_30k_df_file = pickle_dir + file_sufix + \"_fit_30k_df.xz\"\n",
    "fit_30k_res.to_pickle(fit_30k_df_file)\n",
    "len(fit_30k_res)"
   ]
  }
 ],
 "metadata": {
  "jupytext": {
   "encoding": "# -*- coding: utf-8 -*-",
   "formats": "ipynb,scripts//py:percent"
  },
  "kernelspec": {
   "display_name": "Python [conda env:ea_thesis] *",
   "language": "python",
   "name": "conda-env-ea_thesis-py"
  },
  "language_info": {
   "codemirror_mode": {
    "name": "ipython",
    "version": 3
   },
   "file_extension": ".py",
   "mimetype": "text/x-python",
   "name": "python",
   "nbconvert_exporter": "python",
   "pygments_lexer": "ipython3",
   "version": "3.7.3"
  }
 },
 "nbformat": 4,
 "nbformat_minor": 2
}
