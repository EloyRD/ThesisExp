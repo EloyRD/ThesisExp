{
 "cells": [
  {
   "cell_type": "raw",
   "metadata": {},
   "source": [
    "\\author{Eloy Ruiz-Donayre}\n",
    "\\title{TESTCASE B - One Parameter Set}\n",
    "\\date{\\today}\n",
    "\\maketitle"
   ]
  },
  {
   "cell_type": "raw",
   "metadata": {},
   "source": [
    "\\tableofcontents"
   ]
  },
  {
   "cell_type": "markdown",
   "metadata": {},
   "source": [
    "# Preliminaries"
   ]
  },
  {
   "cell_type": "markdown",
   "metadata": {},
   "source": [
    "Importing python packages and setting display parameters"
   ]
  },
  {
   "cell_type": "code",
   "execution_count": 1,
   "metadata": {},
   "outputs": [],
   "source": [
    "import math as mt\n",
    "import random as rnd\n",
    "import numpy as np\n",
    "\n",
    "from deap import base, creator, tools\n",
    "\n",
    "import numba\n",
    "from numba import jit\n",
    "import joblib\n",
    "\n",
    "import matplotlib as mpl\n",
    "import seaborn as sns\n",
    "import matplotlib.pyplot as plt\n",
    "import matplotlib.ticker as ticker\n",
    "\n",
    "import pandas as pd\n",
    "import statistics as stats"
   ]
  },
  {
   "cell_type": "code",
   "execution_count": 2,
   "metadata": {},
   "outputs": [],
   "source": [
    "%matplotlib inline\n",
    "#%config InlineBackend.figure_format = \"retina\"\n",
    "\n",
    "plt.style.use(\"default\")\n",
    "plt.style.use(\"bmh\")\n",
    "# plt.rcParams.update({\"figure.autolayout\": True})\n",
    "plt.rcParams[\"figure.figsize\"] = (12, 9)\n",
    "mpl.rcParams[\"figure.dpi\"] = 100\n",
    "mpl.rcParams[\"savefig.dpi\"] = 100"
   ]
  },
  {
   "cell_type": "code",
   "execution_count": 3,
   "metadata": {},
   "outputs": [],
   "source": [
    "pd.set_option(\"display.latex.repr\", True)"
   ]
  },
  {
   "cell_type": "code",
   "execution_count": 4,
   "metadata": {},
   "outputs": [],
   "source": [
    "pd.set_option(\"display.latex.longtable\", True)"
   ]
  },
  {
   "cell_type": "markdown",
   "metadata": {
    "toc-hr-collapsed": false
   },
   "source": [
    "# Fitness Landscape Definition"
   ]
  },
  {
   "cell_type": "code",
   "execution_count": 5,
   "metadata": {},
   "outputs": [],
   "source": [
    "# Problem domain\n",
    "x_min = -15\n",
    "x_max = 15\n",
    "y_min = -15\n",
    "y_max = 15\n",
    "\n",
    "# Known minimum\n",
    "x_point = -1\n",
    "y_point = -1\n",
    "\n",
    "\n",
    "domain = (x_min, x_max, y_min, y_max)\n",
    "point = (x_point, y_point)\n",
    "img_size = (8.5, 4.25)\n",
    "\n",
    "# Problem definition\n",
    "\n",
    "\n",
    "@jit\n",
    "def g_fun(x, y):\n",
    "    mag = np.sqrt(x ** 2.0 + y ** 2.0)\n",
    "    val = -(50.0 * np.sinc(mag / np.pi) - mag)\n",
    "    return val.item()\n",
    "\n",
    "\n",
    "@jit\n",
    "def f_fun(x, y):\n",
    "    D = 2\n",
    "    alpha = 1 / 8\n",
    "\n",
    "    x = (x - 5) / 6\n",
    "    y = (y - 5) / 6\n",
    "\n",
    "    a = np.abs(x ** 2 + y ** 2 - D) ** (alpha * D)\n",
    "    b = (0.5 * (x ** 2 + y ** 2) + (x + y)) / D\n",
    "\n",
    "    return a + b + 0.5"
   ]
  },
  {
   "cell_type": "code",
   "execution_count": 6,
   "metadata": {},
   "outputs": [],
   "source": [
    "@jit\n",
    "def evaluate(individual):\n",
    "    x = individual[0]\n",
    "    y = individual[1]\n",
    "    fitness = f_fun(x, y)\n",
    "    return (fitness,)"
   ]
  },
  {
   "cell_type": "code",
   "execution_count": 7,
   "metadata": {},
   "outputs": [
    {
     "name": "stdout",
     "output_type": "stream",
     "text": [
      "0.0\n"
     ]
    }
   ],
   "source": [
    "# Testing the minimum\n",
    "print(f_fun(-1, -1))"
   ]
  },
  {
   "cell_type": "code",
   "execution_count": 8,
   "metadata": {},
   "outputs": [
    {
     "name": "stdout",
     "output_type": "stream",
     "text": [
      "0.0 2.941368139329697 2.082094654525758 2.0272404522465126\n"
     ]
    }
   ],
   "source": [
    "# Testing the function\n",
    "print(f_fun(-1.0, -1.0), f_fun(-11.0, -9.0), f_fun(11.0, 3.0), f_fun(-6.0, 9.0))"
   ]
  },
  {
   "cell_type": "markdown",
   "metadata": {
    "toc-hr-collapsed": false
   },
   "source": [
    "# Running the Evolutionary Algorithm"
   ]
  },
  {
   "cell_type": "markdown",
   "metadata": {
    "toc-hr-collapsed": true
   },
   "source": [
    "## Setting the EA's parameters"
   ]
  },
  {
   "cell_type": "markdown",
   "metadata": {},
   "source": [
    "From TLFL"
   ]
  },
  {
   "cell_type": "code",
   "execution_count": 9,
   "metadata": {},
   "outputs": [],
   "source": [
    "# Algorithm parameters\n",
    "# Number of replicates, and generations per experiment\n",
    "rep_end = 40\n",
    "births_end = 120e3\n",
    "\n",
    "# Genes\n",
    "gen_size = 2\n",
    "# Population size\n",
    "pop_size = 160\n",
    "# Progeny and parents size\n",
    "b_ratio = 2\n",
    "par_size = b_ratio * pop_size\n",
    "\n",
    "# Progeny parameters\n",
    "## Crossover probability per gene\n",
    "cx_pb = 0.3\n",
    "## Mutation probability per gene\n",
    "mut_pb = 0.5\n",
    "## Mutation strength\n",
    "mut_sig = 0.5\n",
    "\n",
    "# Selection by tournament\n",
    "# Tournament size parent selection\n",
    "k_par = 4\n",
    "# Tournament size survivor selection\n",
    "k_sur = 6"
   ]
  },
  {
   "cell_type": "markdown",
   "metadata": {},
   "source": [
    "## Defining the EA elements"
   ]
  },
  {
   "cell_type": "markdown",
   "metadata": {},
   "source": [
    "We define that the fitness is related to a minimizing problem, and that each individual is represented with a list of numbers"
   ]
  },
  {
   "cell_type": "code",
   "execution_count": 10,
   "metadata": {},
   "outputs": [],
   "source": [
    "creator.create(\"FitnessMin\", base.Fitness, weights=(-1.0,))\n",
    "creator.create(\"Individual\", list, fitness=creator.FitnessMin)"
   ]
  },
  {
   "cell_type": "markdown",
   "metadata": {},
   "source": [
    "We start the DEAP toolset. At creation, each individual will have 2 genes of type \"float\" that are randomly initialized in the range [-15; 15]."
   ]
  },
  {
   "cell_type": "code",
   "execution_count": 11,
   "metadata": {},
   "outputs": [],
   "source": [
    "toolbox = base.Toolbox()"
   ]
  },
  {
   "cell_type": "code",
   "execution_count": 12,
   "metadata": {},
   "outputs": [],
   "source": [
    "toolbox.register(\"attr_float\", rnd.uniform, -15, 15)\n",
    "toolbox.register(\n",
    "    \"individual\", tools.initRepeat, creator.Individual, toolbox.attr_float, n=gen_size\n",
    ")\n",
    "toolbox.register(\"population\", tools.initRepeat, list, toolbox.individual)"
   ]
  },
  {
   "cell_type": "markdown",
   "metadata": {},
   "source": [
    "We add our landscape to the toolset, indicate that the mating will use a uniform crossover on a per-gene basis, that the mutation will be also on a per-gene basis with a value taken from a gaussian distribution, and that parent and survivor selections will use tournament selection."
   ]
  },
  {
   "cell_type": "code",
   "execution_count": 13,
   "metadata": {},
   "outputs": [],
   "source": [
    "toolbox.register(\"evaluate\", evaluate)\n",
    "\n",
    "toolbox.register(\"mate\", tools.cxUniform)\n",
    "toolbox.register(\"mutate\", tools.mutGaussian, mu=0)\n",
    "\n",
    "toolbox.register(\"par_select\", tools.selTournament)\n",
    "toolbox.register(\"sur_select\", tools.selTournament)"
   ]
  },
  {
   "cell_type": "markdown",
   "metadata": {},
   "source": [
    "We define that for each generation we'll summarize the fitnesses with median, mean, standard deviation, and store the best and worst fitnesses in the generation."
   ]
  },
  {
   "cell_type": "code",
   "execution_count": 14,
   "metadata": {},
   "outputs": [],
   "source": [
    "stat = tools.Statistics(key=lambda ind: ind.fitness.values[0])\n",
    "\n",
    "stat.register(\"med\", stats.median)\n",
    "stat.register(\"avg\", stats.mean)\n",
    "stat.register(\"std\", stats.stdev)\n",
    "stat.register(\"best\", min)\n",
    "stat.register(\"worst\", max)"
   ]
  },
  {
   "cell_type": "markdown",
   "metadata": {},
   "source": [
    "We invoque the data recording logbook."
   ]
  },
  {
   "cell_type": "code",
   "execution_count": 15,
   "metadata": {},
   "outputs": [],
   "source": [
    "logbook = tools.Logbook()"
   ]
  },
  {
   "cell_type": "markdown",
   "metadata": {
    "toc-hr-collapsed": false
   },
   "source": [
    "## Single Run of the EA Experiments\n",
    "1 Experiment\n",
    "L-> 1 Parameter set for the experiment.\n",
    ">L-> 1 Replicate.\n",
    ">>L-> The replicate is affected due to the randomness seed."
   ]
  },
  {
   "cell_type": "markdown",
   "metadata": {
    "toc-hr-collapsed": false
   },
   "source": [
    "## 100 Executions of the EA\n",
    "1 Experiment\n",
    ">L-> 1 Parameter set for the experiment.\n",
    ">>L-> 100 Replicate.\n",
    ">>>L-> Each replicate is different due to randomness effects."
   ]
  },
  {
   "cell_type": "markdown",
   "metadata": {},
   "source": [
    "### Changing parameters"
   ]
  },
  {
   "cell_type": "code",
   "execution_count": 16,
   "metadata": {
    "lines_to_next_cell": 2
   },
   "outputs": [],
   "source": [
    "# Restarting seed\n",
    "rnd.seed(42)"
   ]
  },
  {
   "cell_type": "markdown",
   "metadata": {},
   "source": [
    "### Execution"
   ]
  },
  {
   "cell_type": "code",
   "execution_count": 17,
   "metadata": {},
   "outputs": [
    {
     "name": "stderr",
     "output_type": "stream",
     "text": [
      "C:\\Anaconda3\\envs\\ea_thesis\\lib\\site-packages\\numba\\ir_utils.py:1958: NumbaPendingDeprecationWarning: \u001b[1m\n",
      "Encountered the use of a type that is scheduled for deprecation: type 'reflected list' found for argument 'individual' of function 'evaluate'.\n",
      "\n",
      "For more information visit http://numba.pydata.org/numba-doc/latest/reference/deprecation.html#deprecation-of-reflection-for-list-and-set-types\n",
      "\u001b[1m\n",
      "File \"<ipython-input-6-8d5bf46f22a6>\", line 2:\u001b[0m\n",
      "\u001b[1m@jit\n",
      "\u001b[1mdef evaluate(individual):\n",
      "\u001b[0m\u001b[1m^\u001b[0m\u001b[0m\n",
      "\u001b[0m\n",
      "  warnings.warn(NumbaPendingDeprecationWarning(msg, loc=loc))\n"
     ]
    },
    {
     "name": "stdout",
     "output_type": "stream",
     "text": [
      "Wall time: 7min 10s\n"
     ]
    }
   ],
   "source": [
    "%%time\n",
    "logbook.clear()\n",
    "\n",
    "if __name__ == \"__main__\":\n",
    "    for rep_n in range(rep_end):\n",
    "        rep_seed = rnd.randint(0, 999)\n",
    "        rnd.seed(rep_seed)\n",
    "        # We initialize the population and evaluate the individuals' fitnesses\n",
    "        pop = toolbox.population(n=pop_size)\n",
    "        fitnesses = toolbox.map(toolbox.evaluate, pop)\n",
    "        for ind, fit in zip(pop, fitnesses):\n",
    "            ind.fitness.values = fit\n",
    "        # We start the logbook\n",
    "        record = stat.compile(pop)\n",
    "        births = len(pop)\n",
    "        logbook.record(\n",
    "            rep=rep_n + 1, \n",
    "            seed=rep_seed, \n",
    "            births=births, \n",
    "            **record)\n",
    "\n",
    "        while births < births_end:\n",
    "            # Select Parents and clone them as base for offsprings\n",
    "            parents = toolbox.par_select(pop, k=par_size, tournsize=k_par)\n",
    "            offspring = [toolbox.clone(ind) for ind in parents]\n",
    "            births = births + len(offspring)\n",
    "\n",
    "            # Aplly crossover\n",
    "            for child1, child2 in zip(offspring[::2], offspring[1::2]):\n",
    "                toolbox.mate(child1, child2, indpb=cx_pb)\n",
    "\n",
    "            # Apply mutation\n",
    "            for mutant in offspring:\n",
    "                toolbox.mutate(mutant, sigma=mut_sig, indpb=mut_pb)\n",
    "                del mutant.fitness.values\n",
    "\n",
    "            fitnesses = toolbox.map(toolbox.evaluate, offspring)\n",
    "            for ind, fit in zip(offspring, fitnesses):\n",
    "                ind.fitness.values = fit\n",
    "\n",
    "            pop = toolbox.sur_select((pop + offspring), k=pop_size, tournsize=k_sur)\n",
    "\n",
    "            record = stat.compile(pop)\n",
    "            logbook.record(\n",
    "                rep=rep_n + 1, \n",
    "                seed=rep_seed, \n",
    "                births=births + 1, \n",
    "                **record)"
   ]
  },
  {
   "cell_type": "markdown",
   "metadata": {
    "toc-hr-collapsed": false
   },
   "source": [
    "### Data Analysis"
   ]
  },
  {
   "cell_type": "markdown",
   "metadata": {},
   "source": [
    "We transform the records into a Data Frame"
   ]
  },
  {
   "cell_type": "code",
   "execution_count": 18,
   "metadata": {},
   "outputs": [
    {
     "data": {
      "text/html": [
       "<div>\n",
       "<style scoped>\n",
       "    .dataframe tbody tr th:only-of-type {\n",
       "        vertical-align: middle;\n",
       "    }\n",
       "\n",
       "    .dataframe tbody tr th {\n",
       "        vertical-align: top;\n",
       "    }\n",
       "\n",
       "    .dataframe thead th {\n",
       "        text-align: right;\n",
       "    }\n",
       "</style>\n",
       "<table border=\"1\" class=\"dataframe\">\n",
       "  <thead>\n",
       "    <tr style=\"text-align: right;\">\n",
       "      <th></th>\n",
       "      <th>rep</th>\n",
       "      <th>seed</th>\n",
       "      <th>births</th>\n",
       "      <th>avg</th>\n",
       "      <th>std</th>\n",
       "      <th>med</th>\n",
       "      <th>worst</th>\n",
       "      <th>best</th>\n",
       "    </tr>\n",
       "  </thead>\n",
       "  <tbody>\n",
       "    <tr>\n",
       "      <th>0</th>\n",
       "      <td>1</td>\n",
       "      <td>654</td>\n",
       "      <td>160</td>\n",
       "      <td>2.303040</td>\n",
       "      <td>0.837745</td>\n",
       "      <td>2.273725</td>\n",
       "      <td>4.301838</td>\n",
       "      <td>0.380553</td>\n",
       "    </tr>\n",
       "    <tr>\n",
       "      <th>1</th>\n",
       "      <td>1</td>\n",
       "      <td>654</td>\n",
       "      <td>481</td>\n",
       "      <td>0.999787</td>\n",
       "      <td>0.267537</td>\n",
       "      <td>1.042822</td>\n",
       "      <td>1.735657</td>\n",
       "      <td>0.380553</td>\n",
       "    </tr>\n",
       "    <tr>\n",
       "      <th>2</th>\n",
       "      <td>1</td>\n",
       "      <td>654</td>\n",
       "      <td>801</td>\n",
       "      <td>0.565522</td>\n",
       "      <td>0.132523</td>\n",
       "      <td>0.567964</td>\n",
       "      <td>0.948049</td>\n",
       "      <td>0.279257</td>\n",
       "    </tr>\n",
       "    <tr>\n",
       "      <th>3</th>\n",
       "      <td>1</td>\n",
       "      <td>654</td>\n",
       "      <td>1121</td>\n",
       "      <td>0.396316</td>\n",
       "      <td>0.084548</td>\n",
       "      <td>0.380553</td>\n",
       "      <td>0.627210</td>\n",
       "      <td>0.078415</td>\n",
       "    </tr>\n",
       "    <tr>\n",
       "      <th>4</th>\n",
       "      <td>1</td>\n",
       "      <td>654</td>\n",
       "      <td>1441</td>\n",
       "      <td>0.314478</td>\n",
       "      <td>0.083426</td>\n",
       "      <td>0.309694</td>\n",
       "      <td>0.638247</td>\n",
       "      <td>0.078415</td>\n",
       "    </tr>\n",
       "  </tbody>\n",
       "</table>\n",
       "</div>"
      ],
      "text/latex": [
       "\\begin{longtable}{lrrrrrrrr}\n",
       "\\toprule\n",
       "{} &  rep &  seed &  births &       avg &       std &       med &     worst &      best \\\\\n",
       "\\midrule\n",
       "\\endhead\n",
       "\\midrule\n",
       "\\multicolumn{9}{r}{{Continued on next page}} \\\\\n",
       "\\midrule\n",
       "\\endfoot\n",
       "\n",
       "\\bottomrule\n",
       "\\endlastfoot\n",
       "0 &    1 &   654 &     160 &  2.303040 &  0.837745 &  2.273725 &  4.301838 &  0.380553 \\\\\n",
       "1 &    1 &   654 &     481 &  0.999787 &  0.267537 &  1.042822 &  1.735657 &  0.380553 \\\\\n",
       "2 &    1 &   654 &     801 &  0.565522 &  0.132523 &  0.567964 &  0.948049 &  0.279257 \\\\\n",
       "3 &    1 &   654 &    1121 &  0.396316 &  0.084548 &  0.380553 &  0.627210 &  0.078415 \\\\\n",
       "4 &    1 &   654 &    1441 &  0.314478 &  0.083426 &  0.309694 &  0.638247 &  0.078415 \\\\\n",
       "\\end{longtable}\n"
      ],
      "text/plain": [
       "   rep  seed  births       avg       std       med     worst      best\n",
       "0    1   654     160  2.303040  0.837745  2.273725  4.301838  0.380553\n",
       "1    1   654     481  0.999787  0.267537  1.042822  1.735657  0.380553\n",
       "2    1   654     801  0.565522  0.132523  0.567964  0.948049  0.279257\n",
       "3    1   654    1121  0.396316  0.084548  0.380553  0.627210  0.078415\n",
       "4    1   654    1441  0.314478  0.083426  0.309694  0.638247  0.078415"
      ]
     },
     "execution_count": 18,
     "metadata": {},
     "output_type": "execute_result"
    }
   ],
   "source": [
    "fitness_res = pd.DataFrame.from_dict(logbook)\n",
    "fitness_res = fitness_res[\n",
    "    [\"rep\", \"seed\", \"births\", \"avg\", \"std\", \"med\", \"worst\", \"best\"]\n",
    "]\n",
    "fitness_res.head()"
   ]
  },
  {
   "cell_type": "markdown",
   "metadata": {},
   "source": [
    "We filter the values of the last generation"
   ]
  },
  {
   "cell_type": "code",
   "execution_count": 19,
   "metadata": {
    "lines_to_next_cell": 2
   },
   "outputs": [],
   "source": [
    "query = fitness_res[\"births\"] >= births_end\n",
    "fit_120k = fitness_res[query]\n",
    "query = fitness_res[\"births\"] == 60001\n",
    "fit_60k = fitness_res[query]\n",
    "query = fitness_res[\"births\"] == 30241\n",
    "fit_30k = fitness_res[query]\n",
    "\n",
    "query_exact = fit_30k[\"best\"] < 1e-6\n",
    "fit_30k_exact = fit_30k[query_exact]\n",
    "query_exact = fit_60k[\"best\"] < 1e-6\n",
    "fit_60k_exact = fit_60k[query_exact]\n",
    "query_exact = fit_120k[\"best\"] < 1e-6\n",
    "fit_120k_exact = fit_120k[query_exact]"
   ]
  },
  {
   "cell_type": "code",
   "execution_count": 20,
   "metadata": {},
   "outputs": [
    {
     "name": "stdout",
     "output_type": "stream",
     "text": [
      "40\n",
      "40\n",
      "40\n",
      "0\n",
      "0\n",
      "0\n"
     ]
    }
   ],
   "source": [
    "print(len(fit_30k))\n",
    "print(len(fit_60k))\n",
    "print(len(fit_120k))\n",
    "\n",
    "print(len(fit_30k_exact))\n",
    "print(len(fit_60k_exact))\n",
    "print(len(fit_120k_exact))"
   ]
  },
  {
   "cell_type": "code",
   "execution_count": 21,
   "metadata": {},
   "outputs": [
    {
     "name": "stdout",
     "output_type": "stream",
     "text": [
      "0.021055303476944898\n",
      "0.08942185507880501\n"
     ]
    }
   ],
   "source": [
    "print(fit_120k.best.min())\n",
    "print(fit_120k.best.max())"
   ]
  },
  {
   "cell_type": "code",
   "execution_count": null,
   "metadata": {},
   "outputs": [],
   "source": []
  },
  {
   "cell_type": "code",
   "execution_count": 22,
   "metadata": {},
   "outputs": [],
   "source": [
    "## Mutation strength\n",
    "mut_sig = 5e-4\n",
    "# Restarting seed\n",
    "rnd.seed(42)"
   ]
  },
  {
   "cell_type": "code",
   "execution_count": 23,
   "metadata": {},
   "outputs": [
    {
     "name": "stdout",
     "output_type": "stream",
     "text": [
      "Wall time: 7min 20s\n"
     ]
    }
   ],
   "source": [
    "%%time\n",
    "logbook.clear()\n",
    "\n",
    "if __name__ == \"__main__\":\n",
    "    for rep_n in range(rep_end):\n",
    "        rep_seed = rnd.randint(0, 999)\n",
    "        rnd.seed(rep_seed)\n",
    "        # We initialize the population and evaluate the individuals' fitnesses\n",
    "        pop = toolbox.population(n=pop_size)\n",
    "        fitnesses = toolbox.map(toolbox.evaluate, pop)\n",
    "        for ind, fit in zip(pop, fitnesses):\n",
    "            ind.fitness.values = fit\n",
    "        # We start the logbook\n",
    "        record = stat.compile(pop)\n",
    "        births = len(pop)\n",
    "        logbook.record(\n",
    "            rep=rep_n + 1, \n",
    "            seed=rep_seed, \n",
    "            births=births, \n",
    "            **record)\n",
    "\n",
    "        while births < births_end:\n",
    "            # Select Parents and clone them as base for offsprings\n",
    "            parents = toolbox.par_select(pop, k=par_size, tournsize=k_par)\n",
    "            offspring = [toolbox.clone(ind) for ind in parents]\n",
    "            births = births + len(offspring)\n",
    "\n",
    "            # Aplly crossover\n",
    "            for child1, child2 in zip(offspring[::2], offspring[1::2]):\n",
    "                toolbox.mate(child1, child2, indpb=cx_pb)\n",
    "\n",
    "            # Apply mutation\n",
    "            for mutant in offspring:\n",
    "                toolbox.mutate(mutant, sigma=mut_sig, indpb=mut_pb)\n",
    "                del mutant.fitness.values\n",
    "\n",
    "            fitnesses = toolbox.map(toolbox.evaluate, offspring)\n",
    "            for ind, fit in zip(offspring, fitnesses):\n",
    "                ind.fitness.values = fit\n",
    "\n",
    "            pop = toolbox.sur_select((pop + offspring), k=pop_size, tournsize=k_sur)\n",
    "\n",
    "            record = stat.compile(pop)\n",
    "            logbook.record(\n",
    "                rep=rep_n + 1, \n",
    "                seed=rep_seed, \n",
    "                births=births + 1, \n",
    "                **record)"
   ]
  },
  {
   "cell_type": "code",
   "execution_count": 24,
   "metadata": {},
   "outputs": [
    {
     "data": {
      "text/html": [
       "<div>\n",
       "<style scoped>\n",
       "    .dataframe tbody tr th:only-of-type {\n",
       "        vertical-align: middle;\n",
       "    }\n",
       "\n",
       "    .dataframe tbody tr th {\n",
       "        vertical-align: top;\n",
       "    }\n",
       "\n",
       "    .dataframe thead th {\n",
       "        text-align: right;\n",
       "    }\n",
       "</style>\n",
       "<table border=\"1\" class=\"dataframe\">\n",
       "  <thead>\n",
       "    <tr style=\"text-align: right;\">\n",
       "      <th></th>\n",
       "      <th>rep</th>\n",
       "      <th>seed</th>\n",
       "      <th>births</th>\n",
       "      <th>avg</th>\n",
       "      <th>std</th>\n",
       "      <th>med</th>\n",
       "      <th>worst</th>\n",
       "      <th>best</th>\n",
       "    </tr>\n",
       "  </thead>\n",
       "  <tbody>\n",
       "    <tr>\n",
       "      <th>0</th>\n",
       "      <td>1</td>\n",
       "      <td>654</td>\n",
       "      <td>160</td>\n",
       "      <td>2.303040</td>\n",
       "      <td>0.837745</td>\n",
       "      <td>2.273725</td>\n",
       "      <td>4.301838</td>\n",
       "      <td>0.380553</td>\n",
       "    </tr>\n",
       "    <tr>\n",
       "      <th>1</th>\n",
       "      <td>1</td>\n",
       "      <td>654</td>\n",
       "      <td>481</td>\n",
       "      <td>0.986895</td>\n",
       "      <td>0.286546</td>\n",
       "      <td>1.052427</td>\n",
       "      <td>1.746848</td>\n",
       "      <td>0.380553</td>\n",
       "    </tr>\n",
       "    <tr>\n",
       "      <th>2</th>\n",
       "      <td>1</td>\n",
       "      <td>654</td>\n",
       "      <td>801</td>\n",
       "      <td>0.481102</td>\n",
       "      <td>0.127213</td>\n",
       "      <td>0.423306</td>\n",
       "      <td>0.865288</td>\n",
       "      <td>0.279257</td>\n",
       "    </tr>\n",
       "    <tr>\n",
       "      <th>3</th>\n",
       "      <td>1</td>\n",
       "      <td>654</td>\n",
       "      <td>1121</td>\n",
       "      <td>0.362194</td>\n",
       "      <td>0.035483</td>\n",
       "      <td>0.379357</td>\n",
       "      <td>0.382517</td>\n",
       "      <td>0.276279</td>\n",
       "    </tr>\n",
       "    <tr>\n",
       "      <th>4</th>\n",
       "      <td>1</td>\n",
       "      <td>654</td>\n",
       "      <td>1441</td>\n",
       "      <td>0.286815</td>\n",
       "      <td>0.026557</td>\n",
       "      <td>0.279100</td>\n",
       "      <td>0.379842</td>\n",
       "      <td>0.271726</td>\n",
       "    </tr>\n",
       "  </tbody>\n",
       "</table>\n",
       "</div>"
      ],
      "text/latex": [
       "\\begin{longtable}{lrrrrrrrr}\n",
       "\\toprule\n",
       "{} &  rep &  seed &  births &       avg &       std &       med &     worst &      best \\\\\n",
       "\\midrule\n",
       "\\endhead\n",
       "\\midrule\n",
       "\\multicolumn{9}{r}{{Continued on next page}} \\\\\n",
       "\\midrule\n",
       "\\endfoot\n",
       "\n",
       "\\bottomrule\n",
       "\\endlastfoot\n",
       "0 &    1 &   654 &     160 &  2.303040 &  0.837745 &  2.273725 &  4.301838 &  0.380553 \\\\\n",
       "1 &    1 &   654 &     481 &  0.986895 &  0.286546 &  1.052427 &  1.746848 &  0.380553 \\\\\n",
       "2 &    1 &   654 &     801 &  0.481102 &  0.127213 &  0.423306 &  0.865288 &  0.279257 \\\\\n",
       "3 &    1 &   654 &    1121 &  0.362194 &  0.035483 &  0.379357 &  0.382517 &  0.276279 \\\\\n",
       "4 &    1 &   654 &    1441 &  0.286815 &  0.026557 &  0.279100 &  0.379842 &  0.271726 \\\\\n",
       "\\end{longtable}\n"
      ],
      "text/plain": [
       "   rep  seed  births       avg       std       med     worst      best\n",
       "0    1   654     160  2.303040  0.837745  2.273725  4.301838  0.380553\n",
       "1    1   654     481  0.986895  0.286546  1.052427  1.746848  0.380553\n",
       "2    1   654     801  0.481102  0.127213  0.423306  0.865288  0.279257\n",
       "3    1   654    1121  0.362194  0.035483  0.379357  0.382517  0.276279\n",
       "4    1   654    1441  0.286815  0.026557  0.279100  0.379842  0.271726"
      ]
     },
     "execution_count": 24,
     "metadata": {},
     "output_type": "execute_result"
    }
   ],
   "source": [
    "fitness_res = pd.DataFrame.from_dict(logbook)\n",
    "fitness_res = fitness_res[\n",
    "    [\"rep\", \"seed\", \"births\", \"avg\", \"std\", \"med\", \"worst\", \"best\"]\n",
    "]\n",
    "fitness_res.head()"
   ]
  },
  {
   "cell_type": "code",
   "execution_count": 25,
   "metadata": {},
   "outputs": [],
   "source": [
    "query = fitness_res[\"births\"] >= births_end\n",
    "fit_120k = fitness_res[query]\n",
    "query = fitness_res[\"births\"] == 60001\n",
    "fit_60k = fitness_res[query]\n",
    "query = fitness_res[\"births\"] == 30241\n",
    "fit_30k = fitness_res[query]\n",
    "\n",
    "query_exact = fit_30k[\"best\"] < 1e-6\n",
    "fit_30k_exact = fit_30k[query_exact]\n",
    "query_exact = fit_60k[\"best\"] < 1e-6\n",
    "fit_60k_exact = fit_60k[query_exact]\n",
    "query_exact = fit_120k[\"best\"] < 1e-6\n",
    "fit_120k_exact = fit_120k[query_exact]"
   ]
  },
  {
   "cell_type": "code",
   "execution_count": 26,
   "metadata": {},
   "outputs": [
    {
     "name": "stdout",
     "output_type": "stream",
     "text": [
      "40\n",
      "40\n",
      "40\n",
      "0\n",
      "0\n",
      "0\n"
     ]
    }
   ],
   "source": [
    "print(len(fit_30k))\n",
    "print(len(fit_60k))\n",
    "print(len(fit_120k))\n",
    "\n",
    "print(len(fit_30k_exact))\n",
    "print(len(fit_60k_exact))\n",
    "print(len(fit_120k_exact))"
   ]
  },
  {
   "cell_type": "code",
   "execution_count": 27,
   "metadata": {},
   "outputs": [
    {
     "name": "stdout",
     "output_type": "stream",
     "text": [
      "0.0054711849483679575\n",
      "0.23567870461192253\n"
     ]
    }
   ],
   "source": [
    "print(fit_120k.best.min())\n",
    "print(fit_120k.best.max())"
   ]
  },
  {
   "cell_type": "code",
   "execution_count": null,
   "metadata": {},
   "outputs": [],
   "source": []
  },
  {
   "cell_type": "markdown",
   "metadata": {},
   "source": [
    "From OFAT"
   ]
  },
  {
   "cell_type": "code",
   "execution_count": 28,
   "metadata": {},
   "outputs": [],
   "source": [
    "# Algorithm parameters\n",
    "# Number of replicates, and generations per experiment\n",
    "rep_end = 40\n",
    "births_end = 120e3\n",
    "\n",
    "# Genes\n",
    "gen_size = 2\n",
    "# Population size\n",
    "pop_size = 160\n",
    "# Progeny and parents size\n",
    "b_ratio = 3\n",
    "par_size = b_ratio * pop_size\n",
    "\n",
    "# Progeny parameters\n",
    "## Crossover probability per gene\n",
    "cx_pb = 0.25\n",
    "## Mutation probability per gene\n",
    "mut_pb = 0.5\n",
    "## Mutation strength\n",
    "mut_sig = 1.25\n",
    "\n",
    "# Selection by tournament\n",
    "# Tournament size parent selection\n",
    "k_par = 4\n",
    "# Tournament size survivor selection\n",
    "k_sur = 6"
   ]
  },
  {
   "cell_type": "code",
   "execution_count": 29,
   "metadata": {},
   "outputs": [],
   "source": [
    "# Restarting seed\n",
    "rnd.seed(42)"
   ]
  },
  {
   "cell_type": "code",
   "execution_count": 30,
   "metadata": {},
   "outputs": [
    {
     "name": "stdout",
     "output_type": "stream",
     "text": [
      "Wall time: 6min 46s\n"
     ]
    }
   ],
   "source": [
    "%%time\n",
    "logbook.clear()\n",
    "\n",
    "if __name__ == \"__main__\":\n",
    "    for rep_n in range(rep_end):\n",
    "        rep_seed = rnd.randint(0, 999)\n",
    "        rnd.seed(rep_seed)\n",
    "        # We initialize the population and evaluate the individuals' fitnesses\n",
    "        pop = toolbox.population(n=pop_size)\n",
    "        fitnesses = toolbox.map(toolbox.evaluate, pop)\n",
    "        for ind, fit in zip(pop, fitnesses):\n",
    "            ind.fitness.values = fit\n",
    "        # We start the logbook\n",
    "        record = stat.compile(pop)\n",
    "        births = len(pop)\n",
    "        logbook.record(\n",
    "            rep=rep_n + 1, \n",
    "            seed=rep_seed, \n",
    "            births=births, \n",
    "            **record)\n",
    "\n",
    "        while births < births_end:\n",
    "            # Select Parents and clone them as base for offsprings\n",
    "            parents = toolbox.par_select(pop, k=par_size, tournsize=k_par)\n",
    "            offspring = [toolbox.clone(ind) for ind in parents]\n",
    "            births = births + len(offspring)\n",
    "\n",
    "            # Aplly crossover\n",
    "            for child1, child2 in zip(offspring[::2], offspring[1::2]):\n",
    "                toolbox.mate(child1, child2, indpb=cx_pb)\n",
    "\n",
    "            # Apply mutation\n",
    "            for mutant in offspring:\n",
    "                toolbox.mutate(mutant, sigma=mut_sig, indpb=mut_pb)\n",
    "                del mutant.fitness.values\n",
    "\n",
    "            fitnesses = toolbox.map(toolbox.evaluate, offspring)\n",
    "            for ind, fit in zip(offspring, fitnesses):\n",
    "                ind.fitness.values = fit\n",
    "\n",
    "            pop = toolbox.sur_select((pop + offspring), k=pop_size, tournsize=k_sur)\n",
    "\n",
    "            record = stat.compile(pop)\n",
    "            logbook.record(\n",
    "                rep=rep_n + 1, \n",
    "                seed=rep_seed, \n",
    "                births=births + 1, \n",
    "                **record)"
   ]
  },
  {
   "cell_type": "code",
   "execution_count": 31,
   "metadata": {},
   "outputs": [
    {
     "data": {
      "text/html": [
       "<div>\n",
       "<style scoped>\n",
       "    .dataframe tbody tr th:only-of-type {\n",
       "        vertical-align: middle;\n",
       "    }\n",
       "\n",
       "    .dataframe tbody tr th {\n",
       "        vertical-align: top;\n",
       "    }\n",
       "\n",
       "    .dataframe thead th {\n",
       "        text-align: right;\n",
       "    }\n",
       "</style>\n",
       "<table border=\"1\" class=\"dataframe\">\n",
       "  <thead>\n",
       "    <tr style=\"text-align: right;\">\n",
       "      <th></th>\n",
       "      <th>rep</th>\n",
       "      <th>seed</th>\n",
       "      <th>births</th>\n",
       "      <th>avg</th>\n",
       "      <th>std</th>\n",
       "      <th>med</th>\n",
       "      <th>worst</th>\n",
       "      <th>best</th>\n",
       "    </tr>\n",
       "  </thead>\n",
       "  <tbody>\n",
       "    <tr>\n",
       "      <th>0</th>\n",
       "      <td>1</td>\n",
       "      <td>654</td>\n",
       "      <td>160</td>\n",
       "      <td>2.303040</td>\n",
       "      <td>0.837745</td>\n",
       "      <td>2.273725</td>\n",
       "      <td>4.301838</td>\n",
       "      <td>0.380553</td>\n",
       "    </tr>\n",
       "    <tr>\n",
       "      <th>1</th>\n",
       "      <td>1</td>\n",
       "      <td>654</td>\n",
       "      <td>641</td>\n",
       "      <td>1.030528</td>\n",
       "      <td>0.256305</td>\n",
       "      <td>1.087489</td>\n",
       "      <td>1.716696</td>\n",
       "      <td>0.423220</td>\n",
       "    </tr>\n",
       "    <tr>\n",
       "      <th>2</th>\n",
       "      <td>1</td>\n",
       "      <td>654</td>\n",
       "      <td>1121</td>\n",
       "      <td>0.646550</td>\n",
       "      <td>0.153157</td>\n",
       "      <td>0.651217</td>\n",
       "      <td>1.000158</td>\n",
       "      <td>0.360033</td>\n",
       "    </tr>\n",
       "    <tr>\n",
       "      <th>3</th>\n",
       "      <td>1</td>\n",
       "      <td>654</td>\n",
       "      <td>1601</td>\n",
       "      <td>0.472623</td>\n",
       "      <td>0.103205</td>\n",
       "      <td>0.447761</td>\n",
       "      <td>0.963772</td>\n",
       "      <td>0.277700</td>\n",
       "    </tr>\n",
       "    <tr>\n",
       "      <th>4</th>\n",
       "      <td>1</td>\n",
       "      <td>654</td>\n",
       "      <td>2081</td>\n",
       "      <td>0.400260</td>\n",
       "      <td>0.077666</td>\n",
       "      <td>0.376788</td>\n",
       "      <td>0.691305</td>\n",
       "      <td>0.254370</td>\n",
       "    </tr>\n",
       "  </tbody>\n",
       "</table>\n",
       "</div>"
      ],
      "text/latex": [
       "\\begin{longtable}{lrrrrrrrr}\n",
       "\\toprule\n",
       "{} &  rep &  seed &  births &       avg &       std &       med &     worst &      best \\\\\n",
       "\\midrule\n",
       "\\endhead\n",
       "\\midrule\n",
       "\\multicolumn{9}{r}{{Continued on next page}} \\\\\n",
       "\\midrule\n",
       "\\endfoot\n",
       "\n",
       "\\bottomrule\n",
       "\\endlastfoot\n",
       "0 &    1 &   654 &     160 &  2.303040 &  0.837745 &  2.273725 &  4.301838 &  0.380553 \\\\\n",
       "1 &    1 &   654 &     641 &  1.030528 &  0.256305 &  1.087489 &  1.716696 &  0.423220 \\\\\n",
       "2 &    1 &   654 &    1121 &  0.646550 &  0.153157 &  0.651217 &  1.000158 &  0.360033 \\\\\n",
       "3 &    1 &   654 &    1601 &  0.472623 &  0.103205 &  0.447761 &  0.963772 &  0.277700 \\\\\n",
       "4 &    1 &   654 &    2081 &  0.400260 &  0.077666 &  0.376788 &  0.691305 &  0.254370 \\\\\n",
       "\\end{longtable}\n"
      ],
      "text/plain": [
       "   rep  seed  births       avg       std       med     worst      best\n",
       "0    1   654     160  2.303040  0.837745  2.273725  4.301838  0.380553\n",
       "1    1   654     641  1.030528  0.256305  1.087489  1.716696  0.423220\n",
       "2    1   654    1121  0.646550  0.153157  0.651217  1.000158  0.360033\n",
       "3    1   654    1601  0.472623  0.103205  0.447761  0.963772  0.277700\n",
       "4    1   654    2081  0.400260  0.077666  0.376788  0.691305  0.254370"
      ]
     },
     "execution_count": 31,
     "metadata": {},
     "output_type": "execute_result"
    }
   ],
   "source": [
    "fitness_res = pd.DataFrame.from_dict(logbook)\n",
    "fitness_res = fitness_res[\n",
    "    [\"rep\", \"seed\", \"births\", \"avg\", \"std\", \"med\", \"worst\", \"best\"]\n",
    "]\n",
    "fitness_res.head()"
   ]
  },
  {
   "cell_type": "code",
   "execution_count": 32,
   "metadata": {},
   "outputs": [],
   "source": [
    "query = fitness_res[\"births\"] >= births_end\n",
    "fit_120k = fitness_res[query]\n",
    "query = fitness_res[\"births\"] == 60001\n",
    "fit_60k = fitness_res[query]\n",
    "query = fitness_res[\"births\"] == 30241\n",
    "fit_30k = fitness_res[query]\n",
    "\n",
    "query_exact = fit_30k[\"best\"] < 1e-6\n",
    "fit_30k_exact = fit_30k[query_exact]\n",
    "query_exact = fit_60k[\"best\"] < 1e-6\n",
    "fit_60k_exact = fit_60k[query_exact]\n",
    "query_exact = fit_120k[\"best\"] < 1e-6\n",
    "fit_120k_exact = fit_120k[query_exact]"
   ]
  },
  {
   "cell_type": "code",
   "execution_count": 33,
   "metadata": {},
   "outputs": [
    {
     "name": "stdout",
     "output_type": "stream",
     "text": [
      "0\n",
      "0\n",
      "40\n",
      "0\n",
      "0\n",
      "0\n"
     ]
    }
   ],
   "source": [
    "print(len(fit_30k))\n",
    "print(len(fit_60k))\n",
    "print(len(fit_120k))\n",
    "\n",
    "print(len(fit_30k_exact))\n",
    "print(len(fit_60k_exact))\n",
    "print(len(fit_120k_exact))"
   ]
  },
  {
   "cell_type": "code",
   "execution_count": 34,
   "metadata": {},
   "outputs": [
    {
     "name": "stdout",
     "output_type": "stream",
     "text": [
      "0.02036037389988221\n",
      "0.10823705873188094\n"
     ]
    }
   ],
   "source": [
    "print(fit_120k.best.min())\n",
    "print(fit_120k.best.max())"
   ]
  },
  {
   "cell_type": "code",
   "execution_count": null,
   "metadata": {},
   "outputs": [],
   "source": []
  },
  {
   "cell_type": "code",
   "execution_count": 41,
   "metadata": {},
   "outputs": [],
   "source": [
    "## Mutation strength\n",
    "mut_sig = 5e-4\n",
    "# Restarting seed\n",
    "rnd.seed(42)"
   ]
  },
  {
   "cell_type": "code",
   "execution_count": 42,
   "metadata": {},
   "outputs": [
    {
     "name": "stdout",
     "output_type": "stream",
     "text": [
      "Wall time: 7min 1s\n"
     ]
    }
   ],
   "source": [
    "%%time\n",
    "logbook.clear()\n",
    "\n",
    "if __name__ == \"__main__\":\n",
    "    for rep_n in range(rep_end):\n",
    "        rep_seed = rnd.randint(0, 999)\n",
    "        rnd.seed(rep_seed)\n",
    "        # We initialize the population and evaluate the individuals' fitnesses\n",
    "        pop = toolbox.population(n=pop_size)\n",
    "        fitnesses = toolbox.map(toolbox.evaluate, pop)\n",
    "        for ind, fit in zip(pop, fitnesses):\n",
    "            ind.fitness.values = fit\n",
    "        # We start the logbook\n",
    "        record = stat.compile(pop)\n",
    "        births = len(pop)\n",
    "        logbook.record(\n",
    "            rep=rep_n + 1, \n",
    "            seed=rep_seed, \n",
    "            births=births, \n",
    "            **record)\n",
    "\n",
    "        while births < births_end:\n",
    "            # Select Parents and clone them as base for offsprings\n",
    "            parents = toolbox.par_select(pop, k=par_size, tournsize=k_par)\n",
    "            offspring = [toolbox.clone(ind) for ind in parents]\n",
    "            births = births + len(offspring)\n",
    "\n",
    "            # Aplly crossover\n",
    "            for child1, child2 in zip(offspring[::2], offspring[1::2]):\n",
    "                toolbox.mate(child1, child2, indpb=cx_pb)\n",
    "\n",
    "            # Apply mutation\n",
    "            for mutant in offspring:\n",
    "                toolbox.mutate(mutant, sigma=mut_sig, indpb=mut_pb)\n",
    "                del mutant.fitness.values\n",
    "\n",
    "            fitnesses = toolbox.map(toolbox.evaluate, offspring)\n",
    "            for ind, fit in zip(offspring, fitnesses):\n",
    "                ind.fitness.values = fit\n",
    "\n",
    "            pop = toolbox.sur_select((pop + offspring), k=pop_size, tournsize=k_sur)\n",
    "\n",
    "            record = stat.compile(pop)\n",
    "            logbook.record(\n",
    "                rep=rep_n + 1, \n",
    "                seed=rep_seed, \n",
    "                births=births + 1, \n",
    "                **record)"
   ]
  },
  {
   "cell_type": "code",
   "execution_count": 43,
   "metadata": {},
   "outputs": [
    {
     "data": {
      "text/html": [
       "<div>\n",
       "<style scoped>\n",
       "    .dataframe tbody tr th:only-of-type {\n",
       "        vertical-align: middle;\n",
       "    }\n",
       "\n",
       "    .dataframe tbody tr th {\n",
       "        vertical-align: top;\n",
       "    }\n",
       "\n",
       "    .dataframe thead th {\n",
       "        text-align: right;\n",
       "    }\n",
       "</style>\n",
       "<table border=\"1\" class=\"dataframe\">\n",
       "  <thead>\n",
       "    <tr style=\"text-align: right;\">\n",
       "      <th></th>\n",
       "      <th>rep</th>\n",
       "      <th>seed</th>\n",
       "      <th>births</th>\n",
       "      <th>avg</th>\n",
       "      <th>std</th>\n",
       "      <th>med</th>\n",
       "      <th>worst</th>\n",
       "      <th>best</th>\n",
       "    </tr>\n",
       "  </thead>\n",
       "  <tbody>\n",
       "    <tr>\n",
       "      <th>0</th>\n",
       "      <td>1</td>\n",
       "      <td>654</td>\n",
       "      <td>160</td>\n",
       "      <td>2.303040</td>\n",
       "      <td>0.837745</td>\n",
       "      <td>2.273725</td>\n",
       "      <td>4.301838</td>\n",
       "      <td>0.380553</td>\n",
       "    </tr>\n",
       "    <tr>\n",
       "      <th>1</th>\n",
       "      <td>1</td>\n",
       "      <td>654</td>\n",
       "      <td>641</td>\n",
       "      <td>0.955305</td>\n",
       "      <td>0.307456</td>\n",
       "      <td>0.988815</td>\n",
       "      <td>1.794843</td>\n",
       "      <td>0.367720</td>\n",
       "    </tr>\n",
       "    <tr>\n",
       "      <th>2</th>\n",
       "      <td>1</td>\n",
       "      <td>654</td>\n",
       "      <td>1121</td>\n",
       "      <td>0.431305</td>\n",
       "      <td>0.115766</td>\n",
       "      <td>0.383236</td>\n",
       "      <td>0.988697</td>\n",
       "      <td>0.366991</td>\n",
       "    </tr>\n",
       "    <tr>\n",
       "      <th>3</th>\n",
       "      <td>1</td>\n",
       "      <td>654</td>\n",
       "      <td>1601</td>\n",
       "      <td>0.374904</td>\n",
       "      <td>0.007898</td>\n",
       "      <td>0.378235</td>\n",
       "      <td>0.381269</td>\n",
       "      <td>0.345158</td>\n",
       "    </tr>\n",
       "    <tr>\n",
       "      <th>4</th>\n",
       "      <td>1</td>\n",
       "      <td>654</td>\n",
       "      <td>2081</td>\n",
       "      <td>0.356256</td>\n",
       "      <td>0.013497</td>\n",
       "      <td>0.360348</td>\n",
       "      <td>0.379415</td>\n",
       "      <td>0.307810</td>\n",
       "    </tr>\n",
       "  </tbody>\n",
       "</table>\n",
       "</div>"
      ],
      "text/latex": [
       "\\begin{longtable}{lrrrrrrrr}\n",
       "\\toprule\n",
       "{} &  rep &  seed &  births &       avg &       std &       med &     worst &      best \\\\\n",
       "\\midrule\n",
       "\\endhead\n",
       "\\midrule\n",
       "\\multicolumn{9}{r}{{Continued on next page}} \\\\\n",
       "\\midrule\n",
       "\\endfoot\n",
       "\n",
       "\\bottomrule\n",
       "\\endlastfoot\n",
       "0 &    1 &   654 &     160 &  2.303040 &  0.837745 &  2.273725 &  4.301838 &  0.380553 \\\\\n",
       "1 &    1 &   654 &     641 &  0.955305 &  0.307456 &  0.988815 &  1.794843 &  0.367720 \\\\\n",
       "2 &    1 &   654 &    1121 &  0.431305 &  0.115766 &  0.383236 &  0.988697 &  0.366991 \\\\\n",
       "3 &    1 &   654 &    1601 &  0.374904 &  0.007898 &  0.378235 &  0.381269 &  0.345158 \\\\\n",
       "4 &    1 &   654 &    2081 &  0.356256 &  0.013497 &  0.360348 &  0.379415 &  0.307810 \\\\\n",
       "\\end{longtable}\n"
      ],
      "text/plain": [
       "   rep  seed  births       avg       std       med     worst      best\n",
       "0    1   654     160  2.303040  0.837745  2.273725  4.301838  0.380553\n",
       "1    1   654     641  0.955305  0.307456  0.988815  1.794843  0.367720\n",
       "2    1   654    1121  0.431305  0.115766  0.383236  0.988697  0.366991\n",
       "3    1   654    1601  0.374904  0.007898  0.378235  0.381269  0.345158\n",
       "4    1   654    2081  0.356256  0.013497  0.360348  0.379415  0.307810"
      ]
     },
     "execution_count": 43,
     "metadata": {},
     "output_type": "execute_result"
    }
   ],
   "source": [
    "fitness_res = pd.DataFrame.from_dict(logbook)\n",
    "fitness_res = fitness_res[\n",
    "    [\"rep\", \"seed\", \"births\", \"avg\", \"std\", \"med\", \"worst\", \"best\"]\n",
    "]\n",
    "fitness_res.head()"
   ]
  },
  {
   "cell_type": "code",
   "execution_count": 44,
   "metadata": {},
   "outputs": [],
   "source": [
    "query = fitness_res[\"births\"] >= births_end\n",
    "fit_120k = fitness_res[query]\n",
    "query = fitness_res[\"births\"] == 60001\n",
    "fit_60k = fitness_res[query]\n",
    "query = fitness_res[\"births\"] == 30241\n",
    "fit_30k = fitness_res[query]\n",
    "\n",
    "query_exact = fit_30k[\"best\"] < 1e-6\n",
    "fit_30k_exact = fit_30k[query_exact]\n",
    "query_exact = fit_60k[\"best\"] < 1e-6\n",
    "fit_60k_exact = fit_60k[query_exact]\n",
    "query_exact = fit_120k[\"best\"] < 1e-6\n",
    "fit_120k_exact = fit_120k[query_exact]"
   ]
  },
  {
   "cell_type": "code",
   "execution_count": 45,
   "metadata": {},
   "outputs": [
    {
     "name": "stdout",
     "output_type": "stream",
     "text": [
      "0\n",
      "0\n",
      "40\n",
      "0\n",
      "0\n",
      "0\n"
     ]
    }
   ],
   "source": [
    "print(len(fit_30k))\n",
    "print(len(fit_60k))\n",
    "print(len(fit_120k))\n",
    "\n",
    "print(len(fit_30k_exact))\n",
    "print(len(fit_60k_exact))\n",
    "print(len(fit_120k_exact))"
   ]
  },
  {
   "cell_type": "code",
   "execution_count": 46,
   "metadata": {},
   "outputs": [
    {
     "name": "stdout",
     "output_type": "stream",
     "text": [
      "0.006297994041366439\n",
      "0.28014480469145675\n"
     ]
    }
   ],
   "source": [
    "print(fit_120k.best.min())\n",
    "print(fit_120k.best.max())"
   ]
  },
  {
   "cell_type": "code",
   "execution_count": null,
   "metadata": {},
   "outputs": [],
   "source": []
  },
  {
   "cell_type": "code",
   "execution_count": null,
   "metadata": {},
   "outputs": [],
   "source": []
  },
  {
   "cell_type": "code",
   "execution_count": null,
   "metadata": {},
   "outputs": [],
   "source": []
  },
  {
   "cell_type": "code",
   "execution_count": null,
   "metadata": {},
   "outputs": [],
   "source": []
  }
 ],
 "metadata": {
  "jupytext": {
   "encoding": "# -*- coding: utf-8 -*-",
   "formats": "ipynb,scripts//py:percent"
  },
  "kernelspec": {
   "display_name": "Python [conda env:ea_thesis] *",
   "language": "python",
   "name": "conda-env-ea_thesis-py"
  },
  "language_info": {
   "codemirror_mode": {
    "name": "ipython",
    "version": 3
   },
   "file_extension": ".py",
   "mimetype": "text/x-python",
   "name": "python",
   "nbconvert_exporter": "python",
   "pygments_lexer": "ipython3",
   "version": "3.7.3"
  }
 },
 "nbformat": 4,
 "nbformat_minor": 2
}
