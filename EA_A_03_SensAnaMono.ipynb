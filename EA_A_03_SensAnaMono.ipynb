{
 "cells": [
  {
   "cell_type": "markdown",
   "metadata": {},
   "source": [
    "# Constructing a monovariate sensitivity analysis"
   ]
  },
  {
   "cell_type": "markdown",
   "metadata": {},
   "source": [
    "# Preliminaries\n",
    "## Importing packages"
   ]
  },
  {
   "cell_type": "code",
   "execution_count": 1,
   "metadata": {},
   "outputs": [],
   "source": [
    "import numpy as np\n",
    "import pandas as pd\n",
    "\n",
    "import seaborn as sns\n",
    "#sns.set()\n",
    "#sns.set_style('whitegrid')\n",
    "#sns.set_context('notebook')\n",
    "import matplotlib.pyplot as plt\n",
    "plt.style.use('bmh')\n",
    "%matplotlib inline\n",
    "\n",
    "from thesis_EAfunc import *\n",
    "from thesis_visfunc import *"
   ]
  },
  {
   "cell_type": "code",
   "execution_count": 2,
   "metadata": {},
   "outputs": [
    {
     "name": "stdout",
     "output_type": "stream",
     "text": [
      "2019-05-12 15:39:44.261286\n"
     ]
    }
   ],
   "source": [
    "import datetime\n",
    "time_a = datetime.datetime.now()\n",
    "print(time_a)"
   ]
  },
  {
   "cell_type": "markdown",
   "metadata": {},
   "source": [
    "# Define Landscape"
   ]
  },
  {
   "cell_type": "code",
   "execution_count": 3,
   "metadata": {},
   "outputs": [
    {
     "data": {
      "text/plain": [
       "0.0"
      ]
     },
     "execution_count": 3,
     "metadata": {},
     "output_type": "execute_result"
    }
   ],
   "source": [
    "#Problem domain\n",
    "x_min = -15\n",
    "x_max = 15\n",
    "y_min = -15\n",
    "y_max = 15\n",
    "\n",
    "#Known minimum\n",
    "x_point = -1\n",
    "y_point = -1\n",
    "\n",
    "domain = (x_min, x_max, y_min, y_max)\n",
    "point = (x_point, y_point)\n",
    "img_size = (8.5, 4.25)\n",
    "\n",
    "#Problem definition\n",
    "def f(x, y):\n",
    "    D = 2\n",
    "    alpha = 1/8\n",
    "    \n",
    "    x=(x-5)/6\n",
    "    y=(y-5)/6\n",
    "    \n",
    "    a = np.abs(x ** 2 + y ** 2 - D) ** (alpha * D)\n",
    "    b = ( 0.5 * (x ** 2 + y ** 2) + (x + y) ) / D\n",
    "        \n",
    "    return (a + b + 0.5)\n",
    "\n",
    "#Testing the minimum\n",
    "f(-1,-1)"
   ]
  },
  {
   "cell_type": "markdown",
   "metadata": {},
   "source": [
    "# Running the Evolutionary Algorithm\n",
    "2 Experiments -> Each with a 100 runs -> Each with different maximum step for mutation\n",
    "## Setting the EA's parameters"
   ]
  },
  {
   "cell_type": "code",
   "execution_count": 4,
   "metadata": {},
   "outputs": [],
   "source": [
    "#starting seed\n",
    "np.random.seed(42)"
   ]
  },
  {
   "cell_type": "markdown",
   "metadata": {},
   "source": [
    "## Setting data storage"
   ]
  },
  {
   "cell_type": "code",
   "execution_count": 5,
   "metadata": {},
   "outputs": [],
   "source": [
    "mult_res_cols = ['exp'] + ['mut_s'] + ['run', 'generation', 'fitness_min', 'fitness_max', 'fitness_mean', 'fitness_std']\n",
    "multi_res = pd.DataFrame(columns=mult_res_cols)\n",
    "multi_res = multi_res.infer_objects()"
   ]
  },
  {
   "cell_type": "markdown",
   "metadata": {},
   "source": [
    "## Parameters common to all experiments"
   ]
  },
  {
   "cell_type": "code",
   "execution_count": 6,
   "metadata": {},
   "outputs": [],
   "source": [
    "#Algorithm parameters\n",
    "## Number of experiments, and generations per experiment\n",
    "run_n = 50\n",
    "gen_f = 50\n",
    "\n",
    "## Population size\n",
    "pop_s = 20\n",
    "\n",
    "## Parent subpopulation's selection method and size\n",
    "par_selection = 'fitness_proportional_selection'\n",
    "par_s = 60\n",
    "\n",
    "## Progeny subpopulation's and size\n",
    "prog_s = par_s\n",
    "### Crossover Method\n",
    "crossover = 'uniform'\n",
    "### Mutation method, probability and size\n",
    "mutation = 'random_all_gau_dis'\n",
    "mut_p = 0.5\n",
    "mut_s = [.1, .5, 1, 5, 10]\n",
    "\n",
    "## New population selection method\n",
    "population_new='tournament_k3'"
   ]
  },
  {
   "cell_type": "markdown",
   "metadata": {},
   "source": [
    "### First experiment\n",
    "Maximum mutation step = 1"
   ]
  },
  {
   "cell_type": "code",
   "execution_count": 7,
   "metadata": {},
   "outputs": [],
   "source": [
    "#Algorithm parameters\n",
    "##Experiment number\n",
    "exp_n = 1\n",
    "## Progeny subpopulation's and size\n",
    "### Mutation method, probability and size\n",
    "a = mut_s[0]"
   ]
  },
  {
   "cell_type": "code",
   "execution_count": 8,
   "metadata": {},
   "outputs": [
    {
     "name": "stdout",
     "output_type": "stream",
     "text": [
      "Wall time: 1min 6s\n"
     ]
    }
   ],
   "source": [
    "%%time\n",
    "genera_res, fitness_res = EA_exp(run_n, gen_f, f, domain, pop_s, par_s, prog_s, mut_p, a, par_selection, crossover, mutation, population_new)"
   ]
  },
  {
   "cell_type": "code",
   "execution_count": 9,
   "metadata": {},
   "outputs": [],
   "source": [
    "fitness_res.insert(0,'mut_s',int(a))\n",
    "fitness_res.insert(0,'exp',int(exp_n))\n",
    "multi_res = multi_res.append(fitness_res, ignore_index=True)\n",
    "multi_res = multi_res.infer_objects()"
   ]
  },
  {
   "cell_type": "markdown",
   "metadata": {},
   "source": [
    "### Second experiment\n",
    "Maximum mutation step = 2.5"
   ]
  },
  {
   "cell_type": "code",
   "execution_count": 10,
   "metadata": {},
   "outputs": [],
   "source": [
    "exp_n += 1\n",
    "a = mut_s[1]"
   ]
  },
  {
   "cell_type": "code",
   "execution_count": 11,
   "metadata": {},
   "outputs": [
    {
     "name": "stdout",
     "output_type": "stream",
     "text": [
      "Wall time: 59.1 s\n"
     ]
    }
   ],
   "source": [
    "%%time\n",
    "genera_res, fitness_res = EA_exp(run_n, gen_f, f, domain, pop_s, par_s, prog_s, mut_p, a, par_selection, crossover, mutation, population_new)"
   ]
  },
  {
   "cell_type": "code",
   "execution_count": 12,
   "metadata": {},
   "outputs": [],
   "source": [
    "#query = (fitness_res['generation']==gen_f)\n",
    "#a = fitness_res[query]\n",
    "fitness_res.insert(0,'mut_s',a)\n",
    "fitness_res.insert(0,'exp',exp_n)\n",
    "multi_res = multi_res.append(fitness_res, ignore_index=True)"
   ]
  },
  {
   "cell_type": "markdown",
   "metadata": {},
   "source": [
    "### Third experiment\n",
    "Maximum mutation step = 5"
   ]
  },
  {
   "cell_type": "code",
   "execution_count": 13,
   "metadata": {},
   "outputs": [],
   "source": [
    "exp_n += 1\n",
    "a = mut_s[2]"
   ]
  },
  {
   "cell_type": "code",
   "execution_count": 14,
   "metadata": {},
   "outputs": [
    {
     "name": "stdout",
     "output_type": "stream",
     "text": [
      "Wall time: 55.5 s\n"
     ]
    }
   ],
   "source": [
    "%%time\n",
    "genera_res, fitness_res = EA_exp(run_n, gen_f, f, domain, pop_s, par_s, prog_s, mut_p, a, par_selection, crossover, mutation, population_new)"
   ]
  },
  {
   "cell_type": "code",
   "execution_count": 15,
   "metadata": {},
   "outputs": [],
   "source": [
    "#query = (fitness_res['generation']==gen_f)\n",
    "#a = fitness_res[query]\n",
    "fitness_res.insert(0,'mut_s',a)\n",
    "fitness_res.insert(0,'exp',exp_n)\n",
    "multi_res = multi_res.append(fitness_res, ignore_index=True)"
   ]
  },
  {
   "cell_type": "markdown",
   "metadata": {},
   "source": [
    "### Fourth experiment\n",
    "Maximum mutation step = 7.5"
   ]
  },
  {
   "cell_type": "code",
   "execution_count": 16,
   "metadata": {},
   "outputs": [],
   "source": [
    "exp_n += 1\n",
    "a = mut_s[3]"
   ]
  },
  {
   "cell_type": "code",
   "execution_count": 17,
   "metadata": {},
   "outputs": [
    {
     "name": "stdout",
     "output_type": "stream",
     "text": [
      "Wall time: 45.1 s\n"
     ]
    }
   ],
   "source": [
    "%%time\n",
    "genera_res, fitness_res = EA_exp(run_n, gen_f, f, domain, pop_s, par_s, prog_s, mut_p, a, par_selection, crossover, mutation, population_new)"
   ]
  },
  {
   "cell_type": "code",
   "execution_count": 18,
   "metadata": {},
   "outputs": [],
   "source": [
    "#query = (fitness_res['generation']==gen_f)\n",
    "#a = fitness_res[query]\n",
    "fitness_res.insert(0,'mut_s',a)\n",
    "fitness_res.insert(0,'exp',exp_n)\n",
    "multi_res = multi_res.append(fitness_res, ignore_index=True)"
   ]
  },
  {
   "cell_type": "markdown",
   "metadata": {},
   "source": [
    "### Fifth experiment\n",
    "Maximum mutation step = 10"
   ]
  },
  {
   "cell_type": "code",
   "execution_count": 19,
   "metadata": {},
   "outputs": [],
   "source": [
    "exp_n += 1\n",
    "a = mut_s[4]"
   ]
  },
  {
   "cell_type": "code",
   "execution_count": 20,
   "metadata": {},
   "outputs": [
    {
     "name": "stdout",
     "output_type": "stream",
     "text": [
      "Wall time: 44.5 s\n"
     ]
    }
   ],
   "source": [
    "%%time\n",
    "genera_res, fitness_res = EA_exp(run_n, gen_f, f, domain, pop_s, par_s, prog_s, mut_p, a, par_selection, crossover, mutation, population_new)"
   ]
  },
  {
   "cell_type": "code",
   "execution_count": 21,
   "metadata": {},
   "outputs": [],
   "source": [
    "#query = (fitness_res['generation']==gen_f)\n",
    "#a = fitness_res[query]\n",
    "fitness_res.insert(0,'mut_s',int(a))\n",
    "fitness_res.insert(0,'exp',int(exp_n))\n",
    "multi_res = multi_res.append(fitness_res, ignore_index=True)"
   ]
  },
  {
   "cell_type": "markdown",
   "metadata": {},
   "source": [
    "# Data Analysis"
   ]
  },
  {
   "cell_type": "code",
   "execution_count": 22,
   "metadata": {},
   "outputs": [],
   "source": [
    "query = (multi_res['generation']==gen_f)\n",
    "multi_final_fitness_res = multi_res[query].apply(pd.to_numeric)"
   ]
  },
  {
   "cell_type": "code",
   "execution_count": 23,
   "metadata": {},
   "outputs": [
    {
     "data": {
      "text/plain": [
       "(0, 0.9072132050150454)"
      ]
     },
     "execution_count": 23,
     "metadata": {},
     "output_type": "execute_result"
    },
    {
     "data": {
      "image/png": "[encoded data removed]",
      "text/plain": [
       "<Figure size 360x360 with 1 Axes>"
      ]
     },
     "metadata": {
      "needs_background": "light"
     },
     "output_type": "display_data"
    }
   ],
   "source": [
    "sns.lmplot(x='mut_s', y='fitness_min', order=3, data=multi_final_fitness_res)\n",
    "plt.xlim(0,None)\n",
    "plt.ylim(0,None)"
   ]
  },
  {
   "cell_type": "code",
   "execution_count": 24,
   "metadata": {},
   "outputs": [
    {
     "data": {
      "text/plain": [
       "(0, 0.502934314456299)"
      ]
     },
     "execution_count": 24,
     "metadata": {},
     "output_type": "execute_result"
    },
    {
     "data": {
      "image/png": "[encoded data removed]",
      "text/plain": [
       "<Figure size 360x360 with 1 Axes>"
      ]
     },
     "metadata": {
      "needs_background": "light"
     },
     "output_type": "display_data"
    }
   ],
   "source": [
    "sns.lmplot(x='mut_s', y='fitness_min', order=3, data=multi_final_fitness_res, x_bins=5, x_ci='sd')\n",
    "plt.xlim(0,None)\n",
    "plt.ylim(0,None)"
   ]
  },
  {
   "cell_type": "code",
   "execution_count": 25,
   "metadata": {},
   "outputs": [
    {
     "name": "stdout",
     "output_type": "stream",
     "text": [
      "2019-05-12 15:44:17.255125\n",
      "0:04:32.993839\n"
     ]
    }
   ],
   "source": [
    "time_b = datetime.datetime.now()\n",
    "print(time_b)\n",
    "print(time_b-time_a)"
   ]
  },
  {
   "cell_type": "code",
   "execution_count": 26,
   "metadata": {},
   "outputs": [
    {
     "name": "stdout",
     "output_type": "stream",
     "text": [
      "<class 'pandas.core.frame.DataFrame'>\n",
      "Int64Index: 201000 entries, 0 to 200999\n",
      "Data columns (total 7 columns):\n",
      "run           201000 non-null int64\n",
      "generation    201000 non-null float64\n",
      "birthdate     201000 non-null float64\n",
      "function      201000 non-null object\n",
      "fitness       201000 non-null float64\n",
      "gen_x         201000 non-null float64\n",
      "gen_y         201000 non-null float64\n",
      "dtypes: float64(5), int64(1), object(1)\n",
      "memory usage: 12.3+ MB\n",
      "\n",
      "<class 'pandas.core.frame.DataFrame'>\n",
      "Int64Index: 2550 entries, 0 to 2549\n",
      "Data columns (total 8 columns):\n",
      "exp             2550 non-null int64\n",
      "mut_s           2550 non-null int64\n",
      "run             2550 non-null int64\n",
      "generation      2550 non-null float64\n",
      "fitness_min     2550 non-null float64\n",
      "fitness_max     2550 non-null float64\n",
      "fitness_mean    2550 non-null float64\n",
      "fitness_std     2550 non-null float64\n",
      "dtypes: float64(5), int64(3)\n",
      "memory usage: 179.3 KB\n"
     ]
    }
   ],
   "source": [
    "genera_res.info()\n",
    "print()\n",
    "fitness_res.info()"
   ]
  },
  {
   "cell_type": "code",
   "execution_count": 27,
   "metadata": {},
   "outputs": [
    {
     "name": "stdout",
     "output_type": "stream",
     "text": [
      "<class 'pandas.core.frame.DataFrame'>\n",
      "RangeIndex: 12750 entries, 0 to 12749\n",
      "Data columns (total 8 columns):\n",
      "exp             12750 non-null int64\n",
      "mut_s           12750 non-null float64\n",
      "run             12750 non-null int64\n",
      "generation      12750 non-null float64\n",
      "fitness_min     12750 non-null float64\n",
      "fitness_max     12750 non-null float64\n",
      "fitness_mean    12750 non-null float64\n",
      "fitness_std     12750 non-null float64\n",
      "dtypes: float64(6), int64(2)\n",
      "memory usage: 797.0 KB\n"
     ]
    }
   ],
   "source": [
    "multi_res.info()"
   ]
  },
  {
   "cell_type": "code",
   "execution_count": 28,
   "metadata": {},
   "outputs": [
    {
     "name": "stdout",
     "output_type": "stream",
     "text": [
      "<class 'pandas.core.frame.DataFrame'>\n",
      "Int64Index: 250 entries, 50 to 12749\n",
      "Data columns (total 8 columns):\n",
      "exp             250 non-null int64\n",
      "mut_s           250 non-null float64\n",
      "run             250 non-null int64\n",
      "generation      250 non-null float64\n",
      "fitness_min     250 non-null float64\n",
      "fitness_max     250 non-null float64\n",
      "fitness_mean    250 non-null float64\n",
      "fitness_std     250 non-null float64\n",
      "dtypes: float64(6), int64(2)\n",
      "memory usage: 17.6 KB\n"
     ]
    }
   ],
   "source": [
    "multi_final_fitness_res.info()"
   ]
  },
  {
   "cell_type": "code",
   "execution_count": null,
   "metadata": {},
   "outputs": [],
   "source": []
  }
 ],
 "metadata": {
  "kernelspec": {
   "display_name": "Python [conda env:thesis] *",
   "language": "python",
   "name": "conda-env-thesis-py"
  },
  "language_info": {
   "codemirror_mode": {
    "name": "ipython",
    "version": 3
   },
   "file_extension": ".py",
   "mimetype": "text/x-python",
   "name": "python",
   "nbconvert_exporter": "python",
   "pygments_lexer": "ipython3",
   "version": "3.6.7"
  }
 },
 "nbformat": 4,
 "nbformat_minor": 2
}
