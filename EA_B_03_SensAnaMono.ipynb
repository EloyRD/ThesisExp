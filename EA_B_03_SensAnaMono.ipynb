{
  "metadata": {
    "language_info": {
      "mimetype": "text/x-python",
      "nbconvert_exporter": "python",
      "name": "python",
      "pygments_lexer": "ipython3",
      "version": "3.6.6",
      "file_extension": ".py",
      "codemirror_mode": {
        "version": 3,
        "name": "ipython"
      }
    },
    "kernelspec": {
      "name": "python36",
      "display_name": "Python 3.6",
      "language": "python"
    }
  },
  "nbformat_minor": 2,
  "nbformat": 4,
  "cells": [
    {
      "cell_type": "markdown",
      "source": "# Constructing a monovariate sensitivity analysis",
      "metadata": {}
    },
    {
      "cell_type": "markdown",
      "source": "# Preliminaries\n## Importing packages",
      "metadata": {}
    },
    {
      "cell_type": "code",
      "source": "import numpy as np\nimport pandas as pd\n\nimport seaborn as sns\n#sns.set()\n#sns.set_style('whitegrid')\n#sns.set_context('notebook')\nimport matplotlib.pyplot as plt\nplt.style.use('bmh')\n%matplotlib inline\n\nfrom thesis_EAfunc import *\nfrom thesis_visfunc import *",
      "metadata": {
        "trusted": true
      },
      "execution_count": 1,
      "outputs": []
    },
    {
      "cell_type": "code",
      "source": "import datetime\ntime_a = datetime.datetime.now()\nprint(time_a)",
      "metadata": {
        "trusted": true
      },
      "execution_count": 2,
      "outputs": [
        {
          "text": "2019-05-03 08:20:36.662039\n",
          "name": "stdout",
          "output_type": "stream"
        }
      ]
    },
    {
      "cell_type": "markdown",
      "source": "# Define Landscape",
      "metadata": {}
    },
    {
      "cell_type": "code",
      "source": "#Problem domain\nx_min = -15\nx_max = 15\ny_min = -15\ny_max = 15\n\n#Known minimum\nx_point = -1\ny_point = -1\n\ndomain = (x_min, x_max, y_min, y_max)\npoint = (x_point, y_point)\nimg_size = (8.5, 4.25)\n\n#Problem definition\ndef f(x, y):\n    D = 2\n    alpha = 1/8\n    \n    x=(x-5)/6\n    y=(y-5)/6\n    \n    a = np.abs(x ** 2 + y ** 2 - D) ** (alpha * D)\n    b = ( 0.5 * (x ** 2 + y ** 2) + (x + y) ) / D\n        \n    return (a + b + 0.5)\n\n#Testing the minimum\nf(-1,-1)",
      "metadata": {
        "trusted": true
      },
      "execution_count": 3,
      "outputs": [
        {
          "execution_count": 3,
          "output_type": "execute_result",
          "data": {
            "text/plain": "0.0"
          },
          "metadata": {}
        }
      ]
    },
    {
      "cell_type": "markdown",
      "source": "# Running the Evolutionary Algorithm\n2 Experiments -> Each with a 100 runs -> Each with different maximum step for mutation\n## Setting the EA's parameters",
      "metadata": {}
    },
    {
      "cell_type": "code",
      "source": "#starting seed\nnp.random.seed(654321)",
      "metadata": {
        "trusted": true
      },
      "execution_count": 4,
      "outputs": []
    },
    {
      "cell_type": "markdown",
      "source": "## Setting data storage",
      "metadata": {}
    },
    {
      "cell_type": "code",
      "source": "mult_res_cols = ['exp'] + ['mut_s'] + ['run', 'generation', 'fitness_min', 'fitness_max', 'fitness_mean', 'fitness_std']\nmulti_res = pd.DataFrame(columns=mult_res_cols)\nmulti_res = multi_res.infer_objects()",
      "metadata": {
        "trusted": true
      },
      "execution_count": 5,
      "outputs": []
    },
    {
      "cell_type": "markdown",
      "source": "## Parameters common to all experiments",
      "metadata": {}
    },
    {
      "cell_type": "code",
      "source": "#Algorithm parameters\n## Number of experiments, and generations per experiment\nrun_n = 50\ngen_f = 40\n\n## Population size\npop_s = 20\n\n## Parent subpopulation's selection method and size\npar_selection = 'Ranking'\npar_s = 10\n\n## Progeny subpopulation's and size\nprog_s = par_s\n### Crossover Method\ncrossover = 'Simple'\n### Mutation method, probability and size\nmutation = 'random_co_dis'\nmut_p = 0.5\nmut_s = [1, 2.5, 5, 7.5, 10]\n\n## New population selection method\npopulation_new='Ranking'",
      "metadata": {
        "trusted": true
      },
      "execution_count": 6,
      "outputs": []
    },
    {
      "cell_type": "markdown",
      "source": "### First experiment\nMaximum mutation step = 1",
      "metadata": {}
    },
    {
      "cell_type": "code",
      "source": "#Algorithm parameters\n##Experiment number\nexp_n = 1\n## Progeny subpopulation's and size\n### Mutation method, probability and size\na = mut_s[0]",
      "metadata": {
        "trusted": true
      },
      "execution_count": 7,
      "outputs": []
    },
    {
      "cell_type": "code",
      "source": "genera_res, fitness_res = EA_exp(run_n, gen_f, f, domain, pop_s, par_s, prog_s, mut_p, a, par_selection, crossover, mutation, population_new)",
      "metadata": {
        "trusted": true
      },
      "execution_count": 8,
      "outputs": []
    },
    {
      "cell_type": "code",
      "source": "fitness_res.insert(0,'mut_s',int(a))\nfitness_res.insert(0,'exp',int(exp_n))\nmulti_res = multi_res.append(fitness_res, ignore_index=True)\nmulti_res = multi_res.infer_objects()",
      "metadata": {
        "trusted": true
      },
      "execution_count": 9,
      "outputs": []
    },
    {
      "cell_type": "markdown",
      "source": "### Second experiment\nMaximum mutation step = 2.5",
      "metadata": {}
    },
    {
      "cell_type": "code",
      "source": "exp_n += 1\na = mut_s[1]",
      "metadata": {
        "trusted": true
      },
      "execution_count": 10,
      "outputs": []
    },
    {
      "cell_type": "code",
      "source": "genera_res, fitness_res = EA_exp(run_n, gen_f, f, domain, pop_s, par_s, prog_s, mut_p, a, par_selection, crossover, mutation, population_new)",
      "metadata": {
        "trusted": true
      },
      "execution_count": 11,
      "outputs": []
    },
    {
      "cell_type": "code",
      "source": "#query = (fitness_res['generation']==gen_f)\n#a = fitness_res[query]\nfitness_res.insert(0,'mut_s',a)\nfitness_res.insert(0,'exp',exp_n)\nmulti_res = multi_res.append(fitness_res, ignore_index=True)",
      "metadata": {
        "trusted": true
      },
      "execution_count": 12,
      "outputs": []
    },
    {
      "cell_type": "markdown",
      "source": "### Third experiment\nMaximum mutation step = 5",
      "metadata": {}
    },
    {
      "cell_type": "code",
      "source": "exp_n += 1\na = mut_s[2]",
      "metadata": {
        "trusted": true
      },
      "execution_count": 13,
      "outputs": []
    },
    {
      "cell_type": "code",
      "source": "genera_res, fitness_res = EA_exp(run_n, gen_f, f, domain, pop_s, par_s, prog_s, mut_p, a, par_selection, crossover, mutation, population_new)",
      "metadata": {
        "trusted": true
      },
      "execution_count": 14,
      "outputs": []
    },
    {
      "cell_type": "code",
      "source": "#query = (fitness_res['generation']==gen_f)\n#a = fitness_res[query]\nfitness_res.insert(0,'mut_s',a)\nfitness_res.insert(0,'exp',exp_n)\nmulti_res = multi_res.append(fitness_res, ignore_index=True)",
      "metadata": {
        "trusted": true
      },
      "execution_count": 15,
      "outputs": []
    },
    {
      "cell_type": "markdown",
      "source": "### Fourth experiment\nMaximum mutation step = 7.5",
      "metadata": {}
    },
    {
      "cell_type": "code",
      "source": "exp_n += 1\na = mut_s[3]",
      "metadata": {
        "trusted": true
      },
      "execution_count": 16,
      "outputs": []
    },
    {
      "cell_type": "code",
      "source": "genera_res, fitness_res = EA_exp(run_n, gen_f, f, domain, pop_s, par_s, prog_s, mut_p, a, par_selection, crossover, mutation, population_new)",
      "metadata": {
        "trusted": true
      },
      "execution_count": 17,
      "outputs": []
    },
    {
      "cell_type": "code",
      "source": "#query = (fitness_res['generation']==gen_f)\n#a = fitness_res[query]\nfitness_res.insert(0,'mut_s',a)\nfitness_res.insert(0,'exp',exp_n)\nmulti_res = multi_res.append(fitness_res, ignore_index=True)",
      "metadata": {
        "trusted": true
      },
      "execution_count": 18,
      "outputs": []
    },
    {
      "cell_type": "markdown",
      "source": "### Fifth experiment\nMaximum mutation step = 10",
      "metadata": {}
    },
    {
      "cell_type": "code",
      "source": "exp_n += 1\na = mut_s[4]",
      "metadata": {
        "trusted": true
      },
      "execution_count": 19,
      "outputs": []
    },
    {
      "cell_type": "code",
      "source": "genera_res, fitness_res = EA_exp(run_n, gen_f, f, domain, pop_s, par_s, prog_s, mut_p, a, par_selection, crossover, mutation, population_new)",
      "metadata": {
        "trusted": true
      },
      "execution_count": 20,
      "outputs": []
    },
    {
      "cell_type": "code",
      "source": "#query = (fitness_res['generation']==gen_f)\n#a = fitness_res[query]\nfitness_res.insert(0,'mut_s',int(a))\nfitness_res.insert(0,'exp',int(exp_n))\nmulti_res = multi_res.append(fitness_res, ignore_index=True)",
      "metadata": {
        "trusted": true
      },
      "execution_count": 21,
      "outputs": []
    },
    {
      "cell_type": "markdown",
      "source": "# Data Analysis",
      "metadata": {}
    },
    {
      "cell_type": "code",
      "source": "query = (multi_res['generation']==gen_f)\nmulti_final_fitness_res = multi_res[query].apply(pd.to_numeric)",
      "metadata": {
        "trusted": true
      },
      "execution_count": 32,
      "outputs": []
    },
    {
      "cell_type": "code",
      "source": "sns.lmplot(x='mut_s', y='fitness_mean', order=3, data=multi_final_fitness_res)\nplt.xlim(0,None)\nplt.ylim(0,None)",
      "metadata": {
        "trusted": true
      },
      "execution_count": 33,
      "outputs": [
        {
          "execution_count": 33,
          "output_type": "execute_result",
          "data": {
            "text/plain": "(0, 0.6141859810496545)"
          },
          "metadata": {}
        },
        {
          "output_type": "display_data",
          "data": {
            "image/png": "[encoded data removed]",
            "text/plain": "<Figure size 360x360 with 1 Axes>"
          },
          "metadata": {
            "needs_background": "light"
          }
        }
      ]
    },
    {
      "cell_type": "code",
      "source": "sns.lmplot(x='mut_s', y='fitness_mean', order=3, data=multi_final_fitness_res, x_bins=5, x_ci='sd')\nplt.xlim(0,None)\nplt.ylim(0,None)",
      "metadata": {
        "trusted": true
      },
      "execution_count": 35,
      "outputs": [
        {
          "execution_count": 35,
          "output_type": "execute_result",
          "data": {
            "text/plain": "(0, 0.5059164209562547)"
          },
          "metadata": {}
        },
        {
          "output_type": "display_data",
          "data": {
            "image/png": "[encoded data removed]",
            "text/plain": "<Figure size 360x360 with 1 Axes>"
          },
          "metadata": {
            "needs_background": "light"
          }
        }
      ]
    },
    {
      "cell_type": "code",
      "source": "time_b = datetime.datetime.now()\nprint(time_b)\nprint(time_b-time_a)",
      "metadata": {
        "trusted": true
      },
      "execution_count": 27,
      "outputs": [
        {
          "text": "2019-05-03 08:23:09.491338\n0:02:32.829299\n",
          "name": "stdout",
          "output_type": "stream"
        }
      ]
    },
    {
      "cell_type": "code",
      "source": "genera_res.info()\nprint()\nfitness_res.info()",
      "metadata": {
        "trusted": true
      },
      "execution_count": 15,
      "outputs": [
        {
          "text": "<class 'pandas.core.frame.DataFrame'>\nInt64Index: 61000 entries, 0 to 60999\nData columns (total 7 columns):\nrun           61000 non-null int64\ngeneration    61000 non-null int64\nbirthdate     61000 non-null int64\nfunction      61000 non-null object\nfitness       61000 non-null float64\ngen_x         61000 non-null float64\ngen_y         61000 non-null float64\ndtypes: float64(3), int64(3), object(1)\nmemory usage: 3.7+ MB\n\n<class 'pandas.core.frame.DataFrame'>\nInt64Index: 2050 entries, 0 to 2049\nData columns (total 8 columns):\nexp             2050 non-null int64\nmut_s           2050 non-null int64\nrun             2050 non-null int64\ngeneration      2050 non-null int64\nfitness_min     2050 non-null float64\nfitness_max     2050 non-null float64\nfitness_mean    2050 non-null float64\nfitness_std     2050 non-null float64\ndtypes: float64(4), int64(4)\nmemory usage: 144.1 KB\n",
          "name": "stdout",
          "output_type": "stream"
        }
      ]
    },
    {
      "cell_type": "code",
      "source": "multi_res.info()",
      "metadata": {
        "trusted": true
      },
      "execution_count": 31,
      "outputs": [
        {
          "text": "<class 'pandas.core.frame.DataFrame'>\nRangeIndex: 10250 entries, 0 to 10249\nData columns (total 8 columns):\nexp             10250 non-null int64\nmut_s           10250 non-null float64\nrun             10250 non-null int64\ngeneration      10250 non-null int64\nfitness_min     10250 non-null float64\nfitness_max     10250 non-null float64\nfitness_mean    10250 non-null float64\nfitness_std     10250 non-null float64\ndtypes: float64(5), int64(3)\nmemory usage: 640.7 KB\n",
          "name": "stdout",
          "output_type": "stream"
        }
      ]
    },
    {
      "cell_type": "code",
      "source": "multi_final_fitness_res.info()",
      "metadata": {
        "trusted": true
      },
      "execution_count": 36,
      "outputs": [
        {
          "text": "<class 'pandas.core.frame.DataFrame'>\nInt64Index: 250 entries, 40 to 10249\nData columns (total 8 columns):\nexp             250 non-null int64\nmut_s           250 non-null float64\nrun             250 non-null int64\ngeneration      250 non-null int64\nfitness_min     250 non-null float64\nfitness_max     250 non-null float64\nfitness_mean    250 non-null float64\nfitness_std     250 non-null float64\ndtypes: float64(5), int64(3)\nmemory usage: 17.6 KB\n",
          "name": "stdout",
          "output_type": "stream"
        }
      ]
    },
    {
      "cell_type": "code",
      "source": "",
      "metadata": {},
      "execution_count": null,
      "outputs": []
    }
  ]
}