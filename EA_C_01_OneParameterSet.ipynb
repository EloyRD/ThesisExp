{
 "cells": [
  {
   "cell_type": "raw",
   "metadata": {},
   "source": [
    "\\author{Eloy Ruiz-Donayre}\n",
    "\\title{TESTCASE B - One Parameter Set}\n",
    "\\date{\\today}\n",
    "\\maketitle"
   ]
  },
  {
   "cell_type": "raw",
   "metadata": {},
   "source": [
    "\\tableofcontents"
   ]
  },
  {
   "cell_type": "markdown",
   "metadata": {},
   "source": [
    "# Preliminaries"
   ]
  },
  {
   "cell_type": "markdown",
   "metadata": {},
   "source": [
    "Importing python packages and setting display parameters"
   ]
  },
  {
   "cell_type": "code",
   "execution_count": 1,
   "metadata": {},
   "outputs": [],
   "source": [
    "import math as mt\n",
    "import random as rnd\n",
    "import numpy as np\n",
    "\n",
    "from deap import base, creator, tools\n",
    "\n",
    "import numba\n",
    "from numba import jit\n",
    "import joblib\n",
    "\n",
    "import matplotlib as mpl\n",
    "import seaborn as sns\n",
    "import matplotlib.pyplot as plt\n",
    "import matplotlib.ticker as ticker\n",
    "\n",
    "import pandas as pd\n",
    "import statistics as stats"
   ]
  },
  {
   "cell_type": "code",
   "execution_count": 2,
   "metadata": {},
   "outputs": [],
   "source": [
    "%matplotlib inline\n",
    "#%config InlineBackend.figure_format = \"retina\"\n",
    "\n",
    "plt.style.use(\"default\")\n",
    "plt.style.use(\"bmh\")\n",
    "# plt.rcParams.update({\"figure.autolayout\": True})\n",
    "plt.rcParams[\"figure.figsize\"] = (12, 9)\n",
    "mpl.rcParams[\"figure.dpi\"] = 100\n",
    "mpl.rcParams[\"savefig.dpi\"] = 100"
   ]
  },
  {
   "cell_type": "code",
   "execution_count": 3,
   "metadata": {},
   "outputs": [],
   "source": [
    "pd.set_option(\"display.latex.repr\", True)"
   ]
  },
  {
   "cell_type": "code",
   "execution_count": null,
   "metadata": {},
   "outputs": [],
   "source": [
    "pd.set_option(\"display.latex.longtable\", True)"
   ]
  },
  {
   "cell_type": "markdown",
   "metadata": {
    "toc-hr-collapsed": false
   },
   "source": [
    "# Fitness Landscape Definition"
   ]
  },
  {
   "cell_type": "code",
   "execution_count": 4,
   "metadata": {},
   "outputs": [],
   "source": [
    "# Problem domain\n",
    "x_min = -15\n",
    "x_max = 15\n",
    "y_min = -15\n",
    "y_max = 15\n",
    "\n",
    "# Known minimum\n",
    "x_point = -6.01717\n",
    "y_point = 9.06022\n",
    "\n",
    "domain = (x_min, x_max, y_min, y_max)\n",
    "point = (x_point, y_point)\n",
    "img_size = (8.5, 4.25)\n",
    "\n",
    "# Problem definition\n",
    "\n",
    "\n",
    "@jit\n",
    "def g_fun(x, y):\n",
    "    mag = np.sqrt(x ** 2.0 + y ** 2.0)\n",
    "    val = -(50.0 * np.sinc(mag / np.pi) - mag)\n",
    "    return val.item()\n",
    "\n",
    "\n",
    "@jit\n",
    "def f_fun(x, y):\n",
    "    x_min = -6.01717\n",
    "    y_min = 9.06022\n",
    "    f_min = (\n",
    "        g_fun(x_min + 11.0, y_min + 9.0)\n",
    "        + g_fun(x_min - 11.0, y_min - 3.0)\n",
    "        + g_fun(x_min + 6.0, y_min - 9.0)\n",
    "    )\n",
    "    tripsinc = (\n",
    "        g_fun(x + 11.0, y + 9.0)\n",
    "        + g_fun(x - 11.0, y - 3.0)\n",
    "        + g_fun(x + 6.0, y - 9.0)\n",
    "        - (f_min)\n",
    "    )\n",
    "    return tripsinc"
   ]
  },
  {
   "cell_type": "code",
   "execution_count": 5,
   "metadata": {},
   "outputs": [],
   "source": [
    "@jit\n",
    "def evaluate(individual):\n",
    "    x = individual[0]\n",
    "    y = individual[1]\n",
    "    fitness = f_fun(x, y)\n",
    "    return (fitness,)"
   ]
  },
  {
   "cell_type": "code",
   "execution_count": 6,
   "metadata": {},
   "outputs": [
    {
     "name": "stdout",
     "output_type": "stream",
     "text": [
      "0.0\n"
     ]
    }
   ],
   "source": [
    "# Testing the minimum\n",
    "print(f_fun(-6.01717, 9.06022))"
   ]
  },
  {
   "cell_type": "code",
   "execution_count": 7,
   "metadata": {},
   "outputs": [
    {
     "name": "stdout",
     "output_type": "stream",
     "text": [
      "50.62059878583003 5.177364279021976 6.107247239602234 0.031278340140559635\n"
     ]
    }
   ],
   "source": [
    "# Testing the function\n",
    "print(f_fun(-1.0, -1.0), f_fun(-11.0, -9.0), f_fun(11.0, 3.0), f_fun(-6.0, 9.0))"
   ]
  },
  {
   "cell_type": "code",
   "execution_count": 23,
   "metadata": {},
   "outputs": [
    {
     "data": {
      "text/plain": [
       "-10.843177780950036"
      ]
     },
     "execution_count": 23,
     "metadata": {},
     "output_type": "execute_result"
    }
   ],
   "source": [
    "x_min = -6.01717\n",
    "y_min = 9.06022\n",
    "f_min = (\n",
    "        g_fun(x_min + 11.0, y_min + 9.0)\n",
    "        + g_fun(x_min - 11.0, y_min - 3.0)\n",
    "        + g_fun(x_min + 6.0, y_min - 9.0)\n",
    "    )\n",
    "f_min"
   ]
  },
  {
   "cell_type": "code",
   "execution_count": 15,
   "metadata": {},
   "outputs": [
    {
     "data": {
      "text/plain": [
       "[<matplotlib.lines.Line2D at 0x2a4fa3abe80>]"
      ]
     },
     "execution_count": 15,
     "metadata": {},
     "output_type": "execute_result"
    },
    {
     "data": {
      "image/png": "[encoded data removed]",
      "text/plain": [
       "<Figure size 600x200 with 1 Axes>"
      ]
     },
     "metadata": {},
     "output_type": "display_data"
    }
   ],
   "source": [
    "plot_x = np.linspace(-50,50,100)\n",
    "plot_y = np.sinc(plot_x/np.pi)\n",
    "\n",
    "fig,ax = plt.subplots(figsize=(6,2))\n",
    "plt.plot(plot_x,plot_y)"
   ]
  },
  {
   "cell_type": "code",
   "execution_count": 14,
   "metadata": {},
   "outputs": [
    {
     "data": {
      "text/plain": [
       "[<matplotlib.lines.Line2D at 0x2a4fa351be0>]"
      ]
     },
     "execution_count": 14,
     "metadata": {},
     "output_type": "execute_result"
    },
    {
     "data": {
      "image/png": "[encoded data removed]",
      "text/plain": [
       "<Figure size 600x200 with 1 Axes>"
      ]
     },
     "metadata": {},
     "output_type": "display_data"
    }
   ],
   "source": [
    "def g_fun_mono(z):\n",
    "    mag = np.sqrt(z ** 2.0)\n",
    "    val = -(50.0 * np.sinc(mag / np.pi) - mag)\n",
    "    return val\n",
    "\n",
    "plot_x = np.linspace(-50,50,100)\n",
    "plot_y = g_fun_mono(plot_x)\n",
    "\n",
    "fix,ax = plt.subplots(figsize=(6,2))\n",
    "plt.plot(plot_x,plot_y)"
   ]
  },
  {
   "cell_type": "code",
   "execution_count": 22,
   "metadata": {},
   "outputs": [
    {
     "data": {
      "text/plain": [
       "[<matplotlib.lines.Line2D at 0x2a4fa63f978>]"
      ]
     },
     "execution_count": 22,
     "metadata": {},
     "output_type": "execute_result"
    },
    {
     "data": {
      "image/png": "[encoded data removed]",
      "text/plain": [
       "<Figure size 600x200 with 1 Axes>"
      ]
     },
     "metadata": {},
     "output_type": "display_data"
    }
   ],
   "source": [
    "plot_x = np.linspace(-60,60,100)\n",
    "plot_y = g_fun_mono(plot_x) + g_fun_mono(plot_x-15) + g_fun_mono(plot_x+15)\n",
    "\n",
    "fix,ax = plt.subplots(figsize=(6,2))\n",
    "plt.plot(plot_x,plot_y)"
   ]
  },
  {
   "cell_type": "markdown",
   "metadata": {
    "toc-hr-collapsed": false
   },
   "source": [
    "# Running the Evolutionary Algorithm"
   ]
  },
  {
   "cell_type": "markdown",
   "metadata": {
    "toc-hr-collapsed": true
   },
   "source": [
    "## Setting the EA's parameters"
   ]
  },
  {
   "cell_type": "code",
   "execution_count": 7,
   "metadata": {},
   "outputs": [],
   "source": [
    "# Algorithm parameters\n",
    "# Number of replicates, and generations per experiment\n",
    "rep_end = 1\n",
    "births_end = 120e3\n",
    "\n",
    "# Genes\n",
    "gen_size = 2\n",
    "# Population size\n",
    "pop_size = 20\n",
    "# Progeny and parents size\n",
    "b_ratio = 3\n",
    "par_size = b_ratio * pop_size\n",
    "\n",
    "# Progeny parameters\n",
    "## Crossover probability per gene\n",
    "cx_pb = 0.5\n",
    "## Mutation probability per gene\n",
    "mut_pb = 0.5\n",
    "## Mutation strength\n",
    "sigma = 2.5\n",
    "\n",
    "# Selection by tournament\n",
    "# Tournament size parent selection\n",
    "k_p = 2\n",
    "# Tournament size survivor selection\n",
    "k_s = 6"
   ]
  },
  {
   "cell_type": "markdown",
   "metadata": {},
   "source": [
    "## Defining the EA elements"
   ]
  },
  {
   "cell_type": "markdown",
   "metadata": {},
   "source": [
    "We define that the fitness is related to a minimizing problem, and that each individual is represented with a list of numbers"
   ]
  },
  {
   "cell_type": "code",
   "execution_count": 8,
   "metadata": {},
   "outputs": [],
   "source": [
    "creator.create(\"FitnessMin\", base.Fitness, weights=(-1.0,))\n",
    "creator.create(\"Individual\", list, fitness=creator.FitnessMin)"
   ]
  },
  {
   "cell_type": "markdown",
   "metadata": {},
   "source": [
    "We start the DEAP toolset. At creation, each individual will have 2 genes of type \"float\" that are randomly initialized in the range [-15; 15]."
   ]
  },
  {
   "cell_type": "code",
   "execution_count": 9,
   "metadata": {},
   "outputs": [],
   "source": [
    "toolbox = base.Toolbox()"
   ]
  },
  {
   "cell_type": "code",
   "execution_count": 10,
   "metadata": {},
   "outputs": [],
   "source": [
    "toolbox.register(\"attr_float\", rnd.uniform, -15, 15)\n",
    "toolbox.register(\n",
    "    \"individual\", tools.initRepeat, creator.Individual, toolbox.attr_float, n=gen_size\n",
    ")\n",
    "toolbox.register(\"population\", tools.initRepeat, list, toolbox.individual)"
   ]
  },
  {
   "cell_type": "markdown",
   "metadata": {},
   "source": [
    "We add our landscape to the toolset, indicate that the mating will use a uniform crossover on a per-gene basis, that the mutation will be also on a per-gene basis with a value taken from a gaussian distribution, and that parent and survivor selections will use tournament selection."
   ]
  },
  {
   "cell_type": "code",
   "execution_count": 11,
   "metadata": {},
   "outputs": [],
   "source": [
    "toolbox.register(\"evaluate\", evaluate)\n",
    "\n",
    "toolbox.register(\"mate\", tools.cxUniform, indpb=cx_pb)\n",
    "toolbox.register(\"mutate\", tools.mutGaussian, mu=0, sigma=sigma, indpb=mut_pb)\n",
    "\n",
    "toolbox.register(\"par_select\", tools.selTournament, tournsize=k_p)\n",
    "toolbox.register(\"sur_select\", tools.selTournament, tournsize=k_s)"
   ]
  },
  {
   "cell_type": "markdown",
   "metadata": {},
   "source": [
    "We define that for each generation we'll summarize the fitnesses with median, mean, standard deviation, and store the best and worst fitnesses in the generation."
   ]
  },
  {
   "cell_type": "code",
   "execution_count": 12,
   "metadata": {},
   "outputs": [],
   "source": [
    "stat = tools.Statistics(key=lambda ind: ind.fitness.values[0])\n",
    "\n",
    "stat.register(\"med\", stats.median)\n",
    "stat.register(\"avg\", stats.mean)\n",
    "stat.register(\"std\", stats.stdev)\n",
    "stat.register(\"best\", min)\n",
    "stat.register(\"worst\", max)"
   ]
  },
  {
   "cell_type": "markdown",
   "metadata": {},
   "source": [
    "We invoque the data recording logbook."
   ]
  },
  {
   "cell_type": "code",
   "execution_count": 13,
   "metadata": {},
   "outputs": [],
   "source": [
    "logbook = tools.Logbook()"
   ]
  },
  {
   "cell_type": "markdown",
   "metadata": {
    "toc-hr-collapsed": false
   },
   "source": [
    "## Single Run of the EA Experiments\n",
    "1 Experiment\n",
    "L-> 1 Parameter set for the experiment.\n",
    ">L-> 1 Replicate.\n",
    ">>L-> The replicate is affected due to the randomness seed."
   ]
  },
  {
   "cell_type": "code",
   "execution_count": 14,
   "metadata": {},
   "outputs": [],
   "source": [
    "# starting seed\n",
    "rnd.seed(42)"
   ]
  },
  {
   "cell_type": "code",
   "execution_count": 15,
   "metadata": {},
   "outputs": [
    {
     "name": "stderr",
     "output_type": "stream",
     "text": [
      "C:\\Anaconda3\\envs\\ea_thesis\\lib\\site-packages\\numba\\ir_utils.py:1958: NumbaPendingDeprecationWarning: \u001b[1m\n",
      "Encountered the use of a type that is scheduled for deprecation: type 'reflected list' found for argument 'individual' of function 'evaluate'.\n",
      "\n",
      "For more information visit http://numba.pydata.org/numba-doc/latest/reference/deprecation.html#deprecation-of-reflection-for-list-and-set-types\n",
      "\u001b[1m\n",
      "File \"<ipython-input-4-8d5bf46f22a6>\", line 2:\u001b[0m\n",
      "\u001b[1m@jit\n",
      "\u001b[1mdef evaluate(individual):\n",
      "\u001b[0m\u001b[1m^\u001b[0m\u001b[0m\n",
      "\u001b[0m\n",
      "  warnings.warn(NumbaPendingDeprecationWarning(msg, loc=loc))\n"
     ]
    },
    {
     "name": "stdout",
     "output_type": "stream",
     "text": [
      "8.5 s ± 578 ms per loop (mean ± std. dev. of 7 runs, 1 loop each)\n"
     ]
    }
   ],
   "source": [
    "%%timeit\n",
    "if __name__ == \"__main__\":\n",
    "    for rep_n in range(rep_end):\n",
    "        rep_seed = rnd.randint(0, 999)\n",
    "        rnd.seed(rep_seed)\n",
    "        # We initialize the population and evaluate the individuals' fitnesses\n",
    "        pop = toolbox.population(n=pop_size)\n",
    "        fitnesses = toolbox.map(toolbox.evaluate, pop)\n",
    "        for ind, fit in zip(pop, fitnesses):\n",
    "            ind.fitness.values = fit\n",
    "        # We start the logbook\n",
    "        record = stat.compile(pop)\n",
    "        births = len(pop)\n",
    "        logbook.record(rep=rep_n + 1, seed=rep_seed, births=births, **record)\n",
    "\n",
    "        while births < births_end:\n",
    "            # Select Parents and clone them as base for offsprings\n",
    "            parents = toolbox.par_select(pop, par_size)\n",
    "            offspring = [toolbox.clone(ind) for ind in parents]\n",
    "            births = births + len(offspring)\n",
    "\n",
    "            # Aplly crossover\n",
    "            for child1, child2 in zip(offspring[::2], offspring[1::2]):\n",
    "                toolbox.mate(child1, child2)\n",
    "\n",
    "            # Apply mutation\n",
    "            for mutant in offspring:\n",
    "                toolbox.mutate(mutant)\n",
    "                del mutant.fitness.values\n",
    "\n",
    "            fitnesses = toolbox.map(toolbox.evaluate, offspring)\n",
    "            for ind, fit in zip(offspring, fitnesses):\n",
    "                ind.fitness.values = fit\n",
    "\n",
    "            pop = toolbox.sur_select((pop + offspring), pop_size)\n",
    "\n",
    "            record = stat.compile(pop)\n",
    "            logbook.record(rep=rep_n + 1, seed=rep_seed, births=births, **record)"
   ]
  },
  {
   "cell_type": "markdown",
   "metadata": {
    "toc-hr-collapsed": false
   },
   "source": [
    "### Data Analysis"
   ]
  },
  {
   "cell_type": "markdown",
   "metadata": {},
   "source": [
    "We transform the records into a Data Frame"
   ]
  },
  {
   "cell_type": "code",
   "execution_count": 16,
   "metadata": {},
   "outputs": [],
   "source": [
    "pop_records = [record for record in logbook]\n",
    "fitness_res = pd.DataFrame.from_dict(pop_records)"
   ]
  },
  {
   "cell_type": "markdown",
   "metadata": {
    "toc-hr-collapsed": false
   },
   "source": [
    "#### Fitness development"
   ]
  },
  {
   "cell_type": "code",
   "execution_count": 25,
   "metadata": {},
   "outputs": [
    {
     "name": "stdout",
     "output_type": "stream",
     "text": [
      "Wall time: 47.3 s\n"
     ]
    },
    {
     "data": {
      "image/png": "[encoded data removed]",
      "text/plain": [
       "<Figure size 600x200 with 1 Axes>"
      ]
     },
     "metadata": {},
     "output_type": "display_data"
    }
   ],
   "source": [
    "%%time\n",
    "fig, ax = plt.subplots(figsize=(6, 2))\n",
    "ax = sns.lineplot(x=\"births\", y=\"best\", data=fitness_res, label=\"best fitness\")\n",
    "\n",
    "ax.set_axisbelow(True)\n",
    "ax.minorticks_on()\n",
    "\n",
    "ax.set(xscale=\"log\")\n",
    "\n",
    "ax.set_xlabel(\"births\", fontsize=\"medium\")\n",
    "ax.set_ylabel(\"fitness\", fontsize=\"medium\")\n",
    "\n",
    "ax.set_xlim((2e1, 120e3))\n",
    "ax.set_ylim((0, 30))\n",
    "\n",
    "ax.grid(True, axis=\"x\", which=\"major\", alpha=1, color=\"w\", ls=\"-\")\n",
    "ax.yaxis.set_major_locator(ticker.MultipleLocator(10))\n",
    "ax.yaxis.set_minor_locator(ticker.MultipleLocator(5))\n",
    "ax.grid(True, axis=\"y\", which=\"major\", alpha=0.5, ls=\"-\")\n",
    "ax.grid(True, axis=\"y\", which=\"minor\", alpha=0.25, ls=\"--\")\n",
    "\n",
    "ax.legend(fontsize=\"small\", facecolor=\"white\", framealpha=0.5)\n",
    "\n",
    "ax.plot()"
   ]
  },
  {
   "cell_type": "markdown",
   "metadata": {
    "toc-hr-collapsed": false
   },
   "source": [
    "## 100 Executions of the EA\n",
    "1 Experiment\n",
    ">L-> 1 Parameter set for the experiment.\n",
    ">>L-> 100 Replicate.\n",
    ">>>L-> Each replicate is different due to randomness effects."
   ]
  },
  {
   "cell_type": "markdown",
   "metadata": {},
   "source": [
    "### Changing parameters"
   ]
  },
  {
   "cell_type": "code",
   "execution_count": 26,
   "metadata": {},
   "outputs": [],
   "source": [
    "# Restarting seed\n",
    "rnd.seed(42)\n",
    "\n",
    "# Algorithm parameters\n",
    "# Number of replicates\n",
    "rep_end = 50"
   ]
  },
  {
   "cell_type": "markdown",
   "metadata": {},
   "source": [
    "### Execution"
   ]
  },
  {
   "cell_type": "code",
   "execution_count": 27,
   "metadata": {},
   "outputs": [
    {
     "name": "stdout",
     "output_type": "stream",
     "text": [
      "Wall time: 7min 2s\n"
     ]
    }
   ],
   "source": [
    "%%time\n",
    "logbook.clear()\n",
    "\n",
    "if __name__ == \"__main__\":\n",
    "    for rep_n in range(rep_end):\n",
    "        rep_seed = rnd.randint(0, 999)\n",
    "        rnd.seed(rep_seed)\n",
    "        # We initialize the population and evaluate the individuals' fitnesses\n",
    "        pop = toolbox.population(n=pop_size)\n",
    "        fitnesses = toolbox.map(toolbox.evaluate, pop)\n",
    "        for ind, fit in zip(pop, fitnesses):\n",
    "            ind.fitness.values = fit\n",
    "        # We start the logbook\n",
    "        record = stat.compile(pop)\n",
    "        births = len(pop)\n",
    "        logbook.record(rep=rep_n + 1, seed=rep_seed, births=births, **record)\n",
    "\n",
    "        while births < births_end:\n",
    "            # Select Parents and clone them as base for offsprings\n",
    "            parents = toolbox.par_select(pop, par_size)\n",
    "            offspring = [toolbox.clone(ind) for ind in parents]\n",
    "            births = births + len(offspring)\n",
    "\n",
    "            # Aplly crossover\n",
    "            for child1, child2 in zip(offspring[::2], offspring[1::2]):\n",
    "                toolbox.mate(child1, child2)\n",
    "\n",
    "            # Apply mutation\n",
    "            for mutant in offspring:\n",
    "                toolbox.mutate(mutant)\n",
    "                del mutant.fitness.values\n",
    "\n",
    "            fitnesses = toolbox.map(toolbox.evaluate, offspring)\n",
    "            for ind, fit in zip(offspring, fitnesses):\n",
    "                ind.fitness.values = fit\n",
    "\n",
    "            pop = toolbox.sur_select((pop + offspring), pop_size)\n",
    "\n",
    "            record = stat.compile(pop)\n",
    "            logbook.record(rep=rep_n + 1, seed=rep_seed, births=births + 1, **record)"
   ]
  },
  {
   "cell_type": "code",
   "execution_count": 30,
   "metadata": {},
   "outputs": [],
   "source": [
    "pickle_file = \"./pickle/C_01.joblib\""
   ]
  },
  {
   "cell_type": "code",
   "execution_count": null,
   "metadata": {},
   "outputs": [],
   "source": [
    "%%time\n",
    "with open(pickle_file, \"wb\") as handle:\n",
    "    joblib.dump(logbook, handle, compress=(\"xz\", 2))"
   ]
  },
  {
   "cell_type": "code",
   "execution_count": 44,
   "metadata": {},
   "outputs": [
    {
     "name": "stdout",
     "output_type": "stream",
     "text": [
      "Wall time: 4.51 s\n"
     ]
    }
   ],
   "source": [
    "%%time\n",
    "with open(pickle_file, \"rb\") as handle:\n",
    "    logb = joblib.load(handle)"
   ]
  },
  {
   "cell_type": "markdown",
   "metadata": {
    "toc-hr-collapsed": false
   },
   "source": [
    "### Data Analysis"
   ]
  },
  {
   "cell_type": "markdown",
   "metadata": {},
   "source": [
    "We transform the records into a Data Frame"
   ]
  },
  {
   "cell_type": "code",
   "execution_count": 91,
   "metadata": {},
   "outputs": [],
   "source": [
    "fitness_res = pd.DataFrame.from_dict(logb)\n",
    "fitness_res = fitness_res[\n",
    "    [\"rep\", \"seed\", \"births\", \"avg\", \"std\", \"med\", \"worst\", \"best\"]\n",
    "]"
   ]
  },
  {
   "cell_type": "markdown",
   "metadata": {},
   "source": [
    "We filter the values of the last generation"
   ]
  },
  {
   "cell_type": "code",
   "execution_count": 100,
   "metadata": {
    "lines_to_next_cell": 2
   },
   "outputs": [
    {
     "data": {
      "text/plain": [
       "50"
      ]
     },
     "execution_count": 100,
     "metadata": {},
     "output_type": "execute_result"
    }
   ],
   "source": [
    "query = fitness_res[\"births\"] >= births_end\n",
    "fin_fit_120k = fitness_res[query]\n",
    "query = fitness_res[\"births\"] == 60021\n",
    "fin_fit_60k = fitness_res[query]\n",
    "query = fitness_res[\"births\"] == 30021\n",
    "fin_fit_30k = fitness_res[query]"
   ]
  },
  {
   "cell_type": "markdown",
   "metadata": {},
   "source": [
    "Top 10 best (lowest-fitness) individuals"
   ]
  },
  {
   "cell_type": "code",
   "execution_count": 49,
   "metadata": {},
   "outputs": [
    {
     "data": {
      "text/html": [
       "<div>\n",
       "<style scoped>\n",
       "    .dataframe tbody tr th:only-of-type {\n",
       "        vertical-align: middle;\n",
       "    }\n",
       "\n",
       "    .dataframe tbody tr th {\n",
       "        vertical-align: top;\n",
       "    }\n",
       "\n",
       "    .dataframe thead th {\n",
       "        text-align: right;\n",
       "    }\n",
       "</style>\n",
       "<table border=\"1\" class=\"dataframe\">\n",
       "  <thead>\n",
       "    <tr style=\"text-align: right;\">\n",
       "      <th></th>\n",
       "      <th>rep</th>\n",
       "      <th>seed</th>\n",
       "      <th>births</th>\n",
       "      <th>avg</th>\n",
       "      <th>std</th>\n",
       "      <th>med</th>\n",
       "      <th>worst</th>\n",
       "      <th>best</th>\n",
       "    </tr>\n",
       "  </thead>\n",
       "  <tbody>\n",
       "    <tr>\n",
       "      <th>32015</th>\n",
       "      <td>16</td>\n",
       "      <td>998</td>\n",
       "      <td>120021</td>\n",
       "      <td>1.652427e-08</td>\n",
       "      <td>0.000000</td>\n",
       "      <td>1.652427e-08</td>\n",
       "      <td>1.652427e-08</td>\n",
       "      <td>1.652427e-08</td>\n",
       "    </tr>\n",
       "    <tr>\n",
       "      <th>4001</th>\n",
       "      <td>2</td>\n",
       "      <td>830</td>\n",
       "      <td>120021</td>\n",
       "      <td>2.130178e-03</td>\n",
       "      <td>0.008500</td>\n",
       "      <td>4.439901e-08</td>\n",
       "      <td>3.797312e-02</td>\n",
       "      <td>4.439901e-08</td>\n",
       "    </tr>\n",
       "    <tr>\n",
       "      <th>76037</th>\n",
       "      <td>38</td>\n",
       "      <td>830</td>\n",
       "      <td>120021</td>\n",
       "      <td>2.130178e-03</td>\n",
       "      <td>0.008500</td>\n",
       "      <td>4.439901e-08</td>\n",
       "      <td>3.797312e-02</td>\n",
       "      <td>4.439901e-08</td>\n",
       "    </tr>\n",
       "    <tr>\n",
       "      <th>66032</th>\n",
       "      <td>33</td>\n",
       "      <td>438</td>\n",
       "      <td>120021</td>\n",
       "      <td>6.898715e-02</td>\n",
       "      <td>0.308520</td>\n",
       "      <td>5.044252e-08</td>\n",
       "      <td>1.379742e+00</td>\n",
       "      <td>5.044252e-08</td>\n",
       "    </tr>\n",
       "    <tr>\n",
       "      <th>88043</th>\n",
       "      <td>44</td>\n",
       "      <td>372</td>\n",
       "      <td>120021</td>\n",
       "      <td>6.717306e-01</td>\n",
       "      <td>1.621309</td>\n",
       "      <td>6.371828e-08</td>\n",
       "      <td>5.780939e+00</td>\n",
       "      <td>6.371828e-08</td>\n",
       "    </tr>\n",
       "    <tr>\n",
       "      <th>16007</th>\n",
       "      <td>8</td>\n",
       "      <td>372</td>\n",
       "      <td>120021</td>\n",
       "      <td>6.717306e-01</td>\n",
       "      <td>1.621309</td>\n",
       "      <td>6.371828e-08</td>\n",
       "      <td>5.780939e+00</td>\n",
       "      <td>6.371828e-08</td>\n",
       "    </tr>\n",
       "    <tr>\n",
       "      <th>68033</th>\n",
       "      <td>34</td>\n",
       "      <td>377</td>\n",
       "      <td>120021</td>\n",
       "      <td>3.596382e-01</td>\n",
       "      <td>1.608350</td>\n",
       "      <td>1.066240e-07</td>\n",
       "      <td>7.192762e+00</td>\n",
       "      <td>1.066240e-07</td>\n",
       "    </tr>\n",
       "    <tr>\n",
       "      <th>70034</th>\n",
       "      <td>35</td>\n",
       "      <td>492</td>\n",
       "      <td>120021</td>\n",
       "      <td>1.401409e-07</td>\n",
       "      <td>0.000000</td>\n",
       "      <td>1.401409e-07</td>\n",
       "      <td>1.401409e-07</td>\n",
       "      <td>1.401409e-07</td>\n",
       "    </tr>\n",
       "    <tr>\n",
       "      <th>48023</th>\n",
       "      <td>24</td>\n",
       "      <td>567</td>\n",
       "      <td>120021</td>\n",
       "      <td>9.881502e-01</td>\n",
       "      <td>3.500465</td>\n",
       "      <td>2.850990e-07</td>\n",
       "      <td>1.522306e+01</td>\n",
       "      <td>2.850990e-07</td>\n",
       "    </tr>\n",
       "    <tr>\n",
       "      <th>38018</th>\n",
       "      <td>19</td>\n",
       "      <td>834</td>\n",
       "      <td>120021</td>\n",
       "      <td>1.543343e-01</td>\n",
       "      <td>0.579279</td>\n",
       "      <td>3.121537e-07</td>\n",
       "      <td>2.565175e+00</td>\n",
       "      <td>3.121537e-07</td>\n",
       "    </tr>\n",
       "  </tbody>\n",
       "</table>\n",
       "</div>"
      ],
      "text/plain": [
       "       rep  seed  births           avg       std           med         worst  \\\n",
       "32015   16   998  120021  1.652427e-08  0.000000  1.652427e-08  1.652427e-08   \n",
       "4001     2   830  120021  2.130178e-03  0.008500  4.439901e-08  3.797312e-02   \n",
       "76037   38   830  120021  2.130178e-03  0.008500  4.439901e-08  3.797312e-02   \n",
       "66032   33   438  120021  6.898715e-02  0.308520  5.044252e-08  1.379742e+00   \n",
       "88043   44   372  120021  6.717306e-01  1.621309  6.371828e-08  5.780939e+00   \n",
       "16007    8   372  120021  6.717306e-01  1.621309  6.371828e-08  5.780939e+00   \n",
       "68033   34   377  120021  3.596382e-01  1.608350  1.066240e-07  7.192762e+00   \n",
       "70034   35   492  120021  1.401409e-07  0.000000  1.401409e-07  1.401409e-07   \n",
       "48023   24   567  120021  9.881502e-01  3.500465  2.850990e-07  1.522306e+01   \n",
       "38018   19   834  120021  1.543343e-01  0.579279  3.121537e-07  2.565175e+00   \n",
       "\n",
       "               best  \n",
       "32015  1.652427e-08  \n",
       "4001   4.439901e-08  \n",
       "76037  4.439901e-08  \n",
       "66032  5.044252e-08  \n",
       "88043  6.371828e-08  \n",
       "16007  6.371828e-08  \n",
       "68033  1.066240e-07  \n",
       "70034  1.401409e-07  \n",
       "48023  2.850990e-07  \n",
       "38018  3.121537e-07  "
      ]
     },
     "execution_count": 49,
     "metadata": {},
     "output_type": "execute_result"
    }
   ],
   "source": [
    "fin_fit_120k.sort_values(by=[\"best\"]).head(10)"
   ]
  },
  {
   "cell_type": "markdown",
   "metadata": {},
   "source": [
    "Top 10 worst (highest-fitness) individuals"
   ]
  },
  {
   "cell_type": "code",
   "execution_count": 50,
   "metadata": {},
   "outputs": [
    {
     "data": {
      "text/html": [
       "<div>\n",
       "<style scoped>\n",
       "    .dataframe tbody tr th:only-of-type {\n",
       "        vertical-align: middle;\n",
       "    }\n",
       "\n",
       "    .dataframe tbody tr th {\n",
       "        vertical-align: top;\n",
       "    }\n",
       "\n",
       "    .dataframe thead th {\n",
       "        text-align: right;\n",
       "    }\n",
       "</style>\n",
       "<table border=\"1\" class=\"dataframe\">\n",
       "  <thead>\n",
       "    <tr style=\"text-align: right;\">\n",
       "      <th></th>\n",
       "      <th>rep</th>\n",
       "      <th>seed</th>\n",
       "      <th>births</th>\n",
       "      <th>avg</th>\n",
       "      <th>std</th>\n",
       "      <th>med</th>\n",
       "      <th>worst</th>\n",
       "      <th>best</th>\n",
       "    </tr>\n",
       "  </thead>\n",
       "  <tbody>\n",
       "    <tr>\n",
       "      <th>74036</th>\n",
       "      <td>37</td>\n",
       "      <td>35</td>\n",
       "      <td>120021</td>\n",
       "      <td>6.094170</td>\n",
       "      <td>0.041399</td>\n",
       "      <td>6.084913</td>\n",
       "      <td>6.270054</td>\n",
       "      <td>6.084913</td>\n",
       "    </tr>\n",
       "    <tr>\n",
       "      <th>62030</th>\n",
       "      <td>31</td>\n",
       "      <td>68</td>\n",
       "      <td>120021</td>\n",
       "      <td>6.222341</td>\n",
       "      <td>0.610549</td>\n",
       "      <td>6.084911</td>\n",
       "      <td>8.816222</td>\n",
       "      <td>6.084911</td>\n",
       "    </tr>\n",
       "    <tr>\n",
       "      <th>94046</th>\n",
       "      <td>47</td>\n",
       "      <td>944</td>\n",
       "      <td>120021</td>\n",
       "      <td>6.385377</td>\n",
       "      <td>1.286749</td>\n",
       "      <td>6.084910</td>\n",
       "      <td>11.847139</td>\n",
       "      <td>6.084910</td>\n",
       "    </tr>\n",
       "    <tr>\n",
       "      <th>22010</th>\n",
       "      <td>11</td>\n",
       "      <td>944</td>\n",
       "      <td>120021</td>\n",
       "      <td>6.385377</td>\n",
       "      <td>1.286749</td>\n",
       "      <td>6.084910</td>\n",
       "      <td>11.847139</td>\n",
       "      <td>6.084910</td>\n",
       "    </tr>\n",
       "    <tr>\n",
       "      <th>46022</th>\n",
       "      <td>23</td>\n",
       "      <td>23</td>\n",
       "      <td>120021</td>\n",
       "      <td>6.084909</td>\n",
       "      <td>0.000000</td>\n",
       "      <td>6.084909</td>\n",
       "      <td>6.084909</td>\n",
       "      <td>6.084909</td>\n",
       "    </tr>\n",
       "    <tr>\n",
       "      <th>20009</th>\n",
       "      <td>10</td>\n",
       "      <td>689</td>\n",
       "      <td>120021</td>\n",
       "      <td>6.084909</td>\n",
       "      <td>0.000000</td>\n",
       "      <td>6.084909</td>\n",
       "      <td>6.084909</td>\n",
       "      <td>6.084909</td>\n",
       "    </tr>\n",
       "    <tr>\n",
       "      <th>92045</th>\n",
       "      <td>46</td>\n",
       "      <td>689</td>\n",
       "      <td>120021</td>\n",
       "      <td>6.084909</td>\n",
       "      <td>0.000000</td>\n",
       "      <td>6.084909</td>\n",
       "      <td>6.084909</td>\n",
       "      <td>6.084909</td>\n",
       "    </tr>\n",
       "    <tr>\n",
       "      <th>84041</th>\n",
       "      <td>42</td>\n",
       "      <td>164</td>\n",
       "      <td>120021</td>\n",
       "      <td>6.084909</td>\n",
       "      <td>0.000000</td>\n",
       "      <td>6.084909</td>\n",
       "      <td>6.084909</td>\n",
       "      <td>6.084909</td>\n",
       "    </tr>\n",
       "    <tr>\n",
       "      <th>12005</th>\n",
       "      <td>6</td>\n",
       "      <td>164</td>\n",
       "      <td>120021</td>\n",
       "      <td>6.084909</td>\n",
       "      <td>0.000000</td>\n",
       "      <td>6.084909</td>\n",
       "      <td>6.084909</td>\n",
       "      <td>6.084909</td>\n",
       "    </tr>\n",
       "    <tr>\n",
       "      <th>60029</th>\n",
       "      <td>30</td>\n",
       "      <td>815</td>\n",
       "      <td>120021</td>\n",
       "      <td>6.126880</td>\n",
       "      <td>0.129184</td>\n",
       "      <td>6.084909</td>\n",
       "      <td>6.504619</td>\n",
       "      <td>6.084909</td>\n",
       "    </tr>\n",
       "  </tbody>\n",
       "</table>\n",
       "</div>"
      ],
      "text/plain": [
       "       rep  seed  births       avg       std       med      worst      best\n",
       "74036   37    35  120021  6.094170  0.041399  6.084913   6.270054  6.084913\n",
       "62030   31    68  120021  6.222341  0.610549  6.084911   8.816222  6.084911\n",
       "94046   47   944  120021  6.385377  1.286749  6.084910  11.847139  6.084910\n",
       "22010   11   944  120021  6.385377  1.286749  6.084910  11.847139  6.084910\n",
       "46022   23    23  120021  6.084909  0.000000  6.084909   6.084909  6.084909\n",
       "20009   10   689  120021  6.084909  0.000000  6.084909   6.084909  6.084909\n",
       "92045   46   689  120021  6.084909  0.000000  6.084909   6.084909  6.084909\n",
       "84041   42   164  120021  6.084909  0.000000  6.084909   6.084909  6.084909\n",
       "12005    6   164  120021  6.084909  0.000000  6.084909   6.084909  6.084909\n",
       "60029   30   815  120021  6.126880  0.129184  6.084909   6.504619  6.084909"
      ]
     },
     "execution_count": 50,
     "metadata": {},
     "output_type": "execute_result"
    }
   ],
   "source": [
    "fin_fit_120k.sort_values(by=[\"best\"], ascending=False).head(10)"
   ]
  },
  {
   "cell_type": "markdown",
   "metadata": {
    "toc-hr-collapsed": false
   },
   "source": [
    "### Visualization"
   ]
  },
  {
   "cell_type": "markdown",
   "metadata": {},
   "source": [
    "#### Aggregated results"
   ]
  },
  {
   "cell_type": "code",
   "execution_count": 101,
   "metadata": {
    "lines_to_next_cell": 2
   },
   "outputs": [],
   "source": [
    "fin_fit_best_120k = fin_fit_120k[\"best\"]\n",
    "fin_fit_best_60k = fin_fit_60k[\"best\"]\n",
    "fin_fit_best_30k = fin_fit_30k[\"best\"]"
   ]
  },
  {
   "cell_type": "code",
   "execution_count": 106,
   "metadata": {},
   "outputs": [
    {
     "name": "stdout",
     "output_type": "stream",
     "text": [
      "Wall time: 158 ms\n"
     ]
    },
    {
     "data": {
      "image/png": "[encoded data removed]",
      "text/plain": [
       "<Figure size 1200x200 with 3 Axes>"
      ]
     },
     "metadata": {},
     "output_type": "display_data"
    }
   ],
   "source": [
    "%%time\n",
    "fig, axs = plt.subplots(\n",
    "    nrows=1,\n",
    "    ncols=3,\n",
    "    sharey=\"row\",\n",
    "    sharex=\"row\",\n",
    "    constrained_layout=True,\n",
    "    figsize=(12, 2),\n",
    ")\n",
    "\n",
    "bins = np.linspace(-0.01, 6.99, 7 + 1)\n",
    "axs[0].hist(fin_fit_best_30k, bins, label=\"best\", alpha=0.5)\n",
    "axs[1].hist(fin_fit_best_60k, bins, label=\"best\", alpha=0.5)\n",
    "axs[2].hist(fin_fit_best_120k, bins, label=\"best\", alpha=0.5)\n",
    "\n",
    "axs[0].set_title(\"(a) at 30k\", fontsize=\"medium\")\n",
    "axs[1].set_title(\"(a) at 60k\", fontsize=\"medium\")\n",
    "axs[2].set_title(\"(a) at 120k\", fontsize=\"medium\")\n",
    "\n",
    "axs[0].set_ylabel(\"frequency\", fontsize=\"medium\")\n",
    "\n",
    "for ax in axs.flatten():\n",
    "    ax.vlines(bins, 0, 40, colors=\"xkcd:teal\", linestyles=(0, (5, 10)), linewidths=0.75)\n",
    "\n",
    "    ax.set_ylim((0, 40 + 1))\n",
    "    ax.set_xlim((-0.05, 7.05))\n",
    "\n",
    "    ax.set_xlabel(\"fitness\", fontsize=\"medium\")\n",
    "\n",
    "    ax.minorticks_on()\n",
    "    ax.set_axisbelow(True)\n",
    "    ax.yaxis.set_major_locator(ticker.MultipleLocator(10))\n",
    "    ax.yaxis.set_minor_locator(ticker.MultipleLocator(5))\n",
    "    ax.grid(True, axis=\"y\", which=\"major\", alpha=0.5, ls=\"-\")\n",
    "    ax.grid(True, axis=\"y\", which=\"minor\", alpha=0.25, ls=\"--\")\n",
    "    ax.xaxis.set_minor_locator(ticker.NullLocator())\n",
    "    ax.grid(True, axis=\"x\", which=\"major\", alpha=1, color=\"w\", ls=\"-\")\n",
    "\n",
    "    ax.legend(fontsize=\"small\", facecolor=\"white\", framealpha=0.5)"
   ]
  },
  {
   "cell_type": "code",
   "execution_count": 108,
   "metadata": {},
   "outputs": [
    {
     "name": "stdout",
     "output_type": "stream",
     "text": [
      "Wall time: 123 ms\n"
     ]
    },
    {
     "data": {
      "image/png": "[encoded data removed]",
      "text/plain": [
       "<Figure size 1200x200 with 3 Axes>"
      ]
     },
     "metadata": {},
     "output_type": "display_data"
    }
   ],
   "source": [
    "%%time\n",
    "fig, axs = plt.subplots(\n",
    "    nrows=1,\n",
    "    ncols=3,\n",
    "    sharey=\"row\",\n",
    "    sharex=\"row\",\n",
    "    constrained_layout=True,\n",
    "    figsize=(12, 2),\n",
    ")\n",
    "bins = np.linspace(-1e-8, 1e-6 - 1e-8, num=6)\n",
    "axs[0].hist(fin_fit_best_30k, bins, label=\"best\", alpha=0.5)\n",
    "axs[1].hist(fin_fit_best_60k, bins, label=\"best\", alpha=0.5)\n",
    "axs[2].hist(fin_fit_best_120k, bins, label=\"best\", alpha=0.5)\n",
    "\n",
    "axs[0].set_title(\"(a) at 30k\", fontsize=\"medium\")\n",
    "axs[1].set_title(\"(a) at 60k\", fontsize=\"medium\")\n",
    "axs[2].set_title(\"(a) at 120k\", fontsize=\"medium\")\n",
    "\n",
    "axs[0].set_ylabel(\"frequency\", fontsize=\"medium\")\n",
    "\n",
    "for ax in axs.flatten():\n",
    "    ax.vlines(bins, 0, 10, colors=\"xkcd:teal\", linestyles=(0, (5, 10)), linewidths=0.75)\n",
    "\n",
    "    ax.set_ylim((0, None))\n",
    "\n",
    "    ax.set_xlabel(\"fitness\", fontsize=\"medium\")\n",
    "\n",
    "    ax.minorticks_on()\n",
    "    ax.set_axisbelow(True)\n",
    "    ax.yaxis.set_major_locator(ticker.MultipleLocator(5))\n",
    "    ax.yaxis.set_minor_locator(ticker.MultipleLocator(1))\n",
    "    ax.grid(True, axis=\"y\", which=\"major\", alpha=0.5, ls=\"-\")\n",
    "    ax.grid(True, axis=\"y\", which=\"minor\", alpha=0.25, ls=\"--\")\n",
    "    ax.xaxis.set_minor_locator(ticker.NullLocator())\n",
    "    ax.grid(True, axis=\"x\", which=\"major\", alpha=1, color=\"w\", ls=\"-\")\n",
    "    ax.ticklabel_format(style=\"sci\", axis=\"x\", scilimits=(0, 0))\n",
    "\n",
    "    ax.legend(fontsize=\"small\", facecolor=\"white\", framealpha=0.5)"
   ]
  },
  {
   "cell_type": "code",
   "execution_count": 72,
   "metadata": {},
   "outputs": [
    {
     "name": "stdout",
     "output_type": "stream",
     "text": [
      "Wall time: 49.6 s\n"
     ]
    },
    {
     "data": {
      "image/png": "[encoded data removed]",
      "text/plain": [
       "<Figure size 600x200 with 1 Axes>"
      ]
     },
     "metadata": {},
     "output_type": "display_data"
    }
   ],
   "source": [
    "%%time\n",
    "fig, ax = plt.subplots(figsize=(6, 2))\n",
    "ax = sns.lineplot(x=\"births\", y=\"best\", data=fitness_res, label=\"best fitness\")\n",
    "\n",
    "ax.set_axisbelow(True)\n",
    "ax.minorticks_on()\n",
    "\n",
    "ax.set(xscale=\"log\")\n",
    "\n",
    "ax.set_xlabel(\"births\", fontsize=\"medium\")\n",
    "ax.set_ylabel(\"fitness\", fontsize=\"medium\")\n",
    "\n",
    "ax.set_xlim((2e1, 120e3))\n",
    "ax.set_ylim((0, 30))\n",
    "\n",
    "ax.grid(True, axis=\"x\", which=\"major\", alpha=1, color=\"w\", ls=\"-\")\n",
    "ax.yaxis.set_major_locator(ticker.MultipleLocator(10))\n",
    "ax.yaxis.set_minor_locator(ticker.MultipleLocator(5))\n",
    "ax.grid(True, axis=\"y\", which=\"major\", alpha=0.5, ls=\"-\")\n",
    "ax.grid(True, axis=\"y\", which=\"minor\", alpha=0.25, ls=\"--\")\n",
    "\n",
    "ax.legend(fontsize=\"small\", facecolor=\"white\", framealpha=0.5)\n",
    "ax.plot()"
   ]
  },
  {
   "cell_type": "code",
   "execution_count": 75,
   "metadata": {},
   "outputs": [
    {
     "name": "stdout",
     "output_type": "stream",
     "text": [
      "Wall time: 578 ms\n"
     ]
    },
    {
     "data": {
      "image/png": "[encoded data removed]",
      "text/plain": [
       "<Figure size 600x200 with 1 Axes>"
      ]
     },
     "metadata": {},
     "output_type": "display_data"
    }
   ],
   "source": [
    "%%time\n",
    "query = fitness_res[\"births\"] <= 1e3\n",
    "fig, ax = plt.subplots(figsize=(6, 2))\n",
    "ax = sns.lineplot(x=\"births\", y=\"best\", data=fitness_res[query], label=\"best fitness\")\n",
    "\n",
    "ax.set_axisbelow(True)\n",
    "ax.minorticks_on()\n",
    "\n",
    "ax.set(xscale=\"log\")\n",
    "\n",
    "ax.set_xlabel(\"births\", fontsize=\"medium\")\n",
    "ax.set_ylabel(\"fitness\", fontsize=\"medium\")\n",
    "\n",
    "ax.set_xlim((2e1, 1e3))\n",
    "ax.set_ylim((0, 30))\n",
    "\n",
    "ax.grid(True, axis=\"x\", which=\"major\", alpha=1, color=\"w\", ls=\"-\")\n",
    "ax.yaxis.set_major_locator(ticker.MultipleLocator(10))\n",
    "ax.yaxis.set_minor_locator(ticker.MultipleLocator(5))\n",
    "ax.grid(True, axis=\"y\", which=\"major\", alpha=0.5, ls=\"-\")\n",
    "ax.grid(True, axis=\"y\", which=\"minor\", alpha=0.25, ls=\"--\")\n",
    "\n",
    "ax.legend(fontsize=\"small\", facecolor=\"white\", framealpha=0.5)\n",
    "\n",
    "ax.plot()"
   ]
  },
  {
   "cell_type": "code",
   "execution_count": 89,
   "metadata": {},
   "outputs": [
    {
     "name": "stdout",
     "output_type": "stream",
     "text": [
      "Wall time: 50.7 s\n"
     ]
    },
    {
     "data": {
      "image/png": "[encoded data removed]",
      "text/plain": [
       "<Figure size 600x200 with 1 Axes>"
      ]
     },
     "metadata": {},
     "output_type": "display_data"
    }
   ],
   "source": [
    "%%time\n",
    "query = fitness_res[\"births\"] >= 1e3\n",
    "fig, ax = plt.subplots(figsize=(6, 2))\n",
    "ax = sns.lineplot(x=\"births\", y=\"best\", data=fitness_res[query], label=\"best fitness\")\n",
    "\n",
    "ax.set_axisbelow(True)\n",
    "ax.minorticks_on()\n",
    "\n",
    "ax.set(xscale=\"log\")\n",
    "\n",
    "ax.set_xlabel(\"births\", fontsize=\"medium\")\n",
    "ax.set_ylabel(\"fitness\", fontsize=\"medium\")\n",
    "\n",
    "ax.set_xlim((1e3, 120e3))\n",
    "# ax.set_ylim((2.13, 2.18))\n",
    "\n",
    "ax.grid(True, axis=\"x\", which=\"major\", alpha=1, color=\"w\", ls=\"-\")\n",
    "# ax.yaxis.set_major_locator(ticker.MultipleLocator(10))\n",
    "# ax.yaxis.set_minor_locator(ticker.MultipleLocator(5))\n",
    "ax.grid(True, axis=\"y\", which=\"major\", alpha=0.5, ls=\"-\")\n",
    "ax.grid(True, axis=\"y\", which=\"minor\", alpha=0.25, ls=\"--\")\n",
    "\n",
    "ax.legend(fontsize=\"small\", facecolor=\"white\", framealpha=0.5)\n",
    "\n",
    "ax.ticklabel_format(style=\"sci\", axis=\"y\", scilimits=(0, 0))\n",
    "\n",
    "ax.plot()"
   ]
  },
  {
   "cell_type": "code",
   "execution_count": 90,
   "metadata": {},
   "outputs": [
    {
     "name": "stdout",
     "output_type": "stream",
     "text": [
      "Wall time: 50.6 s\n"
     ]
    },
    {
     "data": {
      "image/png": "[encoded data removed]",
      "text/plain": [
       "<Figure size 600x200 with 1 Axes>"
      ]
     },
     "metadata": {},
     "output_type": "display_data"
    }
   ],
   "source": [
    "%%time\n",
    "query = fitness_res[\"births\"] >= 1e3\n",
    "fig, ax = plt.subplots(figsize=(6, 2))\n",
    "ax = sns.lineplot(x=\"births\", y=\"best\", data=fitness_res[query], label=\"best fitness\")\n",
    "\n",
    "ax.set_axisbelow(True)\n",
    "ax.minorticks_on()\n",
    "\n",
    "ax.set(xscale=\"log\")\n",
    "\n",
    "ax.set_xlabel(\"births\", fontsize=\"medium\")\n",
    "ax.set_ylabel(\"fitness\", fontsize=\"medium\")\n",
    "\n",
    "ax.set_xlim((1e3, 120e3))\n",
    "ax.set_ylim((2.135, 2.17))\n",
    "\n",
    "ax.grid(True, axis=\"x\", which=\"major\", alpha=1, color=\"w\", ls=\"-\")\n",
    "# ax.yaxis.set_major_locator(ticker.MultipleLocator(10))\n",
    "# ax.yaxis.set_minor_locator(ticker.MultipleLocator(5))\n",
    "ax.grid(True, axis=\"y\", which=\"major\", alpha=0.5, ls=\"-\")\n",
    "ax.grid(True, axis=\"y\", which=\"minor\", alpha=0.25, ls=\"--\")\n",
    "\n",
    "ax.legend(fontsize=\"small\", facecolor=\"white\", framealpha=0.5)\n",
    "\n",
    "ax.plot()"
   ]
  },
  {
   "cell_type": "code",
   "execution_count": null,
   "metadata": {},
   "outputs": [],
   "source": []
  }
 ],
 "metadata": {
  "jupytext": {
   "encoding": "# -*- coding: utf-8 -*-",
   "formats": "ipynb,scripts//py:percent"
  },
  "kernelspec": {
   "display_name": "Python [conda env:ea_thesis] *",
   "language": "python",
   "name": "conda-env-ea_thesis-py"
  },
  "language_info": {
   "codemirror_mode": {
    "name": "ipython",
    "version": 3
   },
   "file_extension": ".py",
   "mimetype": "text/x-python",
   "name": "python",
   "nbconvert_exporter": "python",
   "pygments_lexer": "ipython3",
   "version": "3.7.3"
  }
 },
 "nbformat": 4,
 "nbformat_minor": 2
}
