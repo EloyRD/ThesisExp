{
  "metadata": {
    "kernelspec": {
      "name": "python36",
      "display_name": "Python 3.6",
      "language": "python"
    },
    "language_info": {
      "mimetype": "text/x-python",
      "nbconvert_exporter": "python",
      "name": "python",
      "pygments_lexer": "ipython3",
      "version": "3.6.6",
      "file_extension": ".py",
      "codemirror_mode": {
        "version": 3,
        "name": "ipython"
      }
    }
  },
  "nbformat_minor": 2,
  "nbformat": 4,
  "cells": [
    {
      "cell_type": "raw",
      "source": "\\author{Eloy Ruiz-Donayre}\n\\title{TESTCASE B - 2-Level 6-Factor Full Factorial (With 30 replicates) - Data Generation}\n\\date{\\today}\n\\maketitle",
      "metadata": {}
    },
    {
      "cell_type": "raw",
      "source": "\\tableofcontents",
      "metadata": {}
    },
    {
      "cell_type": "markdown",
      "source": "# Preliminaries",
      "metadata": {}
    },
    {
      "cell_type": "markdown",
      "source": "Importing python packages and setting display parameters",
      "metadata": {}
    },
    {
      "cell_type": "code",
      "source": "import numpy as np\nimport pandas as pd\nimport itertools as it\nimport scipy.stats as stats\n\nimport seaborn as sns\nimport matplotlib as mpl\nimport matplotlib.pyplot as plt\n\nfrom thesis_EAfunc import *\nfrom thesis_visfunc import *",
      "metadata": {
        "trusted": true
      },
      "execution_count": 1,
      "outputs": []
    },
    {
      "cell_type": "code",
      "source": "plt.style.use('bmh')\n%matplotlib inline\n%config InlineBackend.figure_format = 'retina'\n\npd.set_option('display.latex.repr', True)\npd.set_option('display.latex.longtable', True)",
      "metadata": {
        "trusted": true
      },
      "execution_count": 2,
      "outputs": []
    },
    {
      "cell_type": "markdown",
      "source": "# Fitness Landscape Definition",
      "metadata": {
        "toc-hr-collapsed": false
      }
    },
    {
      "cell_type": "code",
      "source": "#Problem domain\nx_min = -15\nx_max = 15\ny_min = -15\ny_max = 15\n\n#Known minimum\nx_point = -6.01717\ny_point = 9.06022\n\ndomain = (x_min, x_max, y_min, y_max)\npoint = (x_point, y_point)\nimg_size = (8.5, 4.25)\n\n#Problem definition\nimport math\ndef g(x,y):\n    mag = np.sqrt(x**2. + y**2.)\n    return -(50.*np.sinc(mag/np.pi) - mag)\n\ndef f(x, y):\n    x_min = -6.01717\n    y_min = 9.06022\n    f_min = g(x_min+11., y_min+9.) + g(x_min-11., y_min-3.) + g(x_min+6., y_min-9.)\n    tripsinc = g(x+11., y+9.) + g(x-11., y-3.) + g(x+6., y-9.) - (f_min)\n    return tripsinc",
      "metadata": {
        "trusted": true
      },
      "execution_count": 3,
      "outputs": []
    },
    {
      "cell_type": "code",
      "source": "#Testing the minimum\nprint(f(-6.01717,9.06022))",
      "metadata": {
        "trusted": true
      },
      "execution_count": 4,
      "outputs": [
        {
          "text": "0.0\n",
          "name": "stdout",
          "output_type": "stream"
        }
      ]
    },
    {
      "cell_type": "code",
      "source": "#Testing the function\nprint(f(-1.,-1.), f(-11.,-9.), f(11.,3.), f(-6.,9.))",
      "metadata": {
        "trusted": true
      },
      "execution_count": 5,
      "outputs": [
        {
          "text": "50.62059878583003 5.177364279021976 6.107247239602234 0.031278340140559635\n",
          "name": "stdout",
          "output_type": "stream"
        }
      ]
    },
    {
      "cell_type": "markdown",
      "source": "# Setting up the experiment\n64 Experiments\n>L-> In each experiment, one set of parameters is used.\n>>L-> 40 Replicates per experiment.\n>>>L-> Each replicate is different due to randomness effects.",
      "metadata": {
        "toc-hr-collapsed": false
      }
    },
    {
      "cell_type": "code",
      "source": "#starting seed\nnp.random.seed(42)",
      "metadata": {
        "trusted": true
      },
      "execution_count": 6,
      "outputs": []
    },
    {
      "cell_type": "markdown",
      "source": "## Initializing data storage",
      "metadata": {}
    },
    {
      "cell_type": "code",
      "source": "mult_fit_cols = ['exp'] + ['pop_s'] + ['b'] + ['mut_p'] + ['mut_s'] + ['p_sel'] + ['s_sel'] + ['run', 'generation', 'fitness_min', 'fitness_max', 'fitness_mean', 'fitness_std']\nmulti_fit = pd.DataFrame(columns=mult_fit_cols)\nmulti_fit = multi_fit.infer_objects()",
      "metadata": {
        "trusted": true
      },
      "execution_count": 7,
      "outputs": []
    },
    {
      "cell_type": "markdown",
      "source": "## Parameter space for the experiment",
      "metadata": {
        "toc-hr-collapsed": false
      }
    },
    {
      "cell_type": "markdown",
      "source": "### Initializing",
      "metadata": {}
    },
    {
      "cell_type": "code",
      "source": "#Algorithm parameters\n## Number of replicates, and generations per experiment\nrep_n = 30\ngen_f = 200\n\n## Population size\npop_s = [40, 160]\n\n## Parent subpopulation's selection method and size\npar_selection = ['uniform','tournament_k3']\nb = [0.5, 5]\npar_s = [z*y for z in pop_s for y in b]\n\n## Progeny subpopulation's size\nprog_s = par_s\n\n### Crossover Method\ncrossover = 'uniform'\n### Mutation method, probability and size\nmutation = 'random_all_gau_dis'\nmut_p = [0.1, 0.5]\nmut_s = [2.5, 7.5]\n\n## New population selection method\nsur_selection = ['uniform','tournament_k3']",
      "metadata": {
        "trusted": true
      },
      "execution_count": 8,
      "outputs": []
    },
    {
      "cell_type": "markdown",
      "source": "### 2-Level Factors encoded values",
      "metadata": {}
    },
    {
      "cell_type": "code",
      "source": "inputs_labels = {'pop_s' : 'Population size',\n                 'b'     : 'Progeny-to-population ratio',\n                 'mut_p' : 'Mutation Probability',\n                 'mut_s' : 'Mutation size',\n                 'p_sel' : 'Parent selection',\n                 's_sel' : 'Survivor selection method'\n                }\n\ndat = [('pop_s',  40, 160, -1, 1, 'Numerical'),\n       ('b'    , 0.5, 5, -1, 1, 'Numerical'),\n       ('mut_p', 0.1, 0.5, -1, 1, 'Numerical (<1)'),\n       ('mut_s', 2.5, 7.5, -1, 1, 'Numerical'),\n       ('p_sel', 'uniform', 'tournament k3', -1, 1, 'Categorical'),\n       ('s_sel', 'uniform', 'tournament k3', -1, 1, 'Categorical')\n      ]\n\ninputs_df = pd.DataFrame(dat,columns=['index', 'Value_low', 'Value_high', 'encoded_low', 'encoded_high', 'Variable type'])\ninputs_df = inputs_df.set_index(['index'])\ninputs_df['Label'] = inputs_df.index.map( lambda z : inputs_labels[z] )\ninputs_df = inputs_df[['Label', 'Variable type', 'Value_low', 'Value_high', 'encoded_low', 'encoded_high' ]]\n\ninputs_df",
      "metadata": {
        "trusted": true
      },
      "execution_count": 9,
      "outputs": [
        {
          "execution_count": 9,
          "output_type": "execute_result",
          "data": {
            "text/latex": "\\begin{longtable}{lllllrr}\n\\toprule\n{} &                        Label &   Variable type & Value\\_low &     Value\\_high &  encoded\\_low &  encoded\\_high \\\\\nindex &                              &                 &           &                &              &               \\\\\n\\midrule\n\\endhead\n\\midrule\n\\multicolumn{7}{r}{{Continued on next page}} \\\\\n\\midrule\n\\endfoot\n\n\\bottomrule\n\\endlastfoot\npop\\_s &              Population size &       Numerical &        40 &            160 &           -1 &             1 \\\\\nb     &  Progeny-to-population ratio &       Numerical &       0.5 &              5 &           -1 &             1 \\\\\nmut\\_p &         Mutation Probability &  Numerical (<1) &       0.1 &            0.5 &           -1 &             1 \\\\\nmut\\_s &                Mutation size &       Numerical &       2.5 &            7.5 &           -1 &             1 \\\\\np\\_sel &             Parent selection &     Categorical &   uniform &  tournament k3 &           -1 &             1 \\\\\ns\\_sel &    Survivor selection method &     Categorical &   uniform &  tournament k3 &           -1 &             1 \\\\\n\\end{longtable}\n",
            "text/html": "<div>\n<style scoped>\n    .dataframe tbody tr th:only-of-type {\n        vertical-align: middle;\n    }\n\n    .dataframe tbody tr th {\n        vertical-align: top;\n    }\n\n    .dataframe thead th {\n        text-align: right;\n    }\n</style>\n<table border=\"1\" class=\"dataframe\">\n  <thead>\n    <tr style=\"text-align: right;\">\n      <th></th>\n      <th>Label</th>\n      <th>Variable type</th>\n      <th>Value_low</th>\n      <th>Value_high</th>\n      <th>encoded_low</th>\n      <th>encoded_high</th>\n    </tr>\n    <tr>\n      <th>index</th>\n      <th></th>\n      <th></th>\n      <th></th>\n      <th></th>\n      <th></th>\n      <th></th>\n    </tr>\n  </thead>\n  <tbody>\n    <tr>\n      <th>pop_s</th>\n      <td>Population size</td>\n      <td>Numerical</td>\n      <td>40</td>\n      <td>160</td>\n      <td>-1</td>\n      <td>1</td>\n    </tr>\n    <tr>\n      <th>b</th>\n      <td>Progeny-to-population ratio</td>\n      <td>Numerical</td>\n      <td>0.5</td>\n      <td>5</td>\n      <td>-1</td>\n      <td>1</td>\n    </tr>\n    <tr>\n      <th>mut_p</th>\n      <td>Mutation Probability</td>\n      <td>Numerical (&lt;1)</td>\n      <td>0.1</td>\n      <td>0.5</td>\n      <td>-1</td>\n      <td>1</td>\n    </tr>\n    <tr>\n      <th>mut_s</th>\n      <td>Mutation size</td>\n      <td>Numerical</td>\n      <td>2.5</td>\n      <td>7.5</td>\n      <td>-1</td>\n      <td>1</td>\n    </tr>\n    <tr>\n      <th>p_sel</th>\n      <td>Parent selection</td>\n      <td>Categorical</td>\n      <td>uniform</td>\n      <td>tournament k3</td>\n      <td>-1</td>\n      <td>1</td>\n    </tr>\n    <tr>\n      <th>s_sel</th>\n      <td>Survivor selection method</td>\n      <td>Categorical</td>\n      <td>uniform</td>\n      <td>tournament k3</td>\n      <td>-1</td>\n      <td>1</td>\n    </tr>\n  </tbody>\n</table>\n</div>",
            "text/plain": "                             Label   Variable type Value_low     Value_high  \\\nindex                                                                         \npop_s              Population size       Numerical        40            160   \nb      Progeny-to-population ratio       Numerical       0.5              5   \nmut_p         Mutation Probability  Numerical (<1)       0.1            0.5   \nmut_s                Mutation size       Numerical       2.5            7.5   \np_sel             Parent selection     Categorical   uniform  tournament k3   \ns_sel    Survivor selection method     Categorical   uniform  tournament k3   \n\n       encoded_low  encoded_high  \nindex                             \npop_s           -1             1  \nb               -1             1  \nmut_p           -1             1  \nmut_s           -1             1  \np_sel           -1             1  \ns_sel           -1             1  "
          },
          "metadata": {}
        }
      ]
    },
    {
      "cell_type": "markdown",
      "source": "### Combining the 2-level Factors",
      "metadata": {}
    },
    {
      "cell_type": "markdown",
      "source": "We create a list with all the possible combinations of the 2-level factors",
      "metadata": {}
    },
    {
      "cell_type": "code",
      "source": "exp_par = list(it.product(pop_s, b, mut_p, mut_s, par_selection, sur_selection))\nprint('Cantidad de combinaciones de parametros en \"exp_par\" :'+str(len(exp_par)))\nprint()\nprint('Primera y última combinación de parametros en \"exp_par\":')\nprint('Secuencia (pop_s, b, mut_p, mut_s, p_sel, s_sel)')\nprint(exp_par[0])\nprint(exp_par[63])",
      "metadata": {
        "trusted": true
      },
      "execution_count": 10,
      "outputs": [
        {
          "text": "Cantidad de combinaciones de parametros en \"exp_par\" :64\n\nPrimera y última combinación de parametros en \"exp_par\":\nSecuencia (pop_s, b, mut_p, mut_s, p_sel, s_sel)\n(40, 0.5, 0.1, 2.5, 'uniform', 'uniform')\n(160, 5, 0.5, 7.5, 'tournament_k3', 'tournament_k3')\n",
          "name": "stdout",
          "output_type": "stream"
        }
      ]
    },
    {
      "cell_type": "markdown",
      "source": "# Experiment execution",
      "metadata": {}
    },
    {
      "cell_type": "code",
      "source": "%%time\nexp_n = 1\nfor (zz, yy, xx, vv, uu, tt) in exp_par:\n    sur_selection = tt\n    par_selection = uu\n    mut_s = vv\n    mut_p = xx\n    b = yy\n    pop_s = zz\n    prog_s = int(b * pop_s)\n    par_s = prog_s\n    \n    fitness_res = EA_exp_only_fitness(rep_n, gen_f, f, domain, pop_s, par_s, prog_s, mut_p, mut_s, par_selection, crossover, mutation, sur_selection)\n    \n    fitness_res.insert(0, 's_sel', tt)\n    fitness_res.insert(0, 'p_sel', uu)\n    fitness_res.insert(0, 'mut_s', vv)\n    fitness_res.insert(0, 'mut_p', xx)\n    fitness_res.insert(0, 'b', yy)\n    fitness_res.insert(0, 'pop_s', zz)\n    fitness_res.insert(0, 'exp', exp_n)\n    multi_fit = multi_fit.append(fitness_res, ignore_index=True, sort=False)\n    multi_fit = multi_fit.infer_objects()\n    \n    exp_n += 1",
      "metadata": {
        "trusted": true
      },
      "execution_count": 11,
      "outputs": [
        {
          "text": "CPU times: user 2h 13min 24s, sys: 35.9 s, total: 2h 14min\nWall time: 2h 14min 9s\n",
          "name": "stdout",
          "output_type": "stream"
        }
      ]
    },
    {
      "cell_type": "markdown",
      "source": "## Data storage",
      "metadata": {}
    },
    {
      "cell_type": "markdown",
      "source": "Writing the Data Frame to a pickle file",
      "metadata": {}
    },
    {
      "cell_type": "code",
      "source": "multi_fit.to_pickle('./TEST_B_2L_FitData.gz', compression='gzip')",
      "metadata": {
        "trusted": true
      },
      "execution_count": 12,
      "outputs": []
    },
    {
      "cell_type": "markdown",
      "source": "Reading the Data Frame from a pickle file",
      "metadata": {}
    },
    {
      "cell_type": "code",
      "source": "multi_fit = pd.read_pickle('./TEST_B_2L_FitData.gz', compression='gzip')",
      "metadata": {},
      "execution_count": 33,
      "outputs": []
    },
    {
      "cell_type": "markdown",
      "source": "# Processing data for DOE Analysis",
      "metadata": {}
    },
    {
      "cell_type": "code",
      "source": "multi_fit.tail()",
      "metadata": {},
      "execution_count": 35,
      "outputs": [
        {
          "execution_count": 35,
          "output_type": "execute_result",
          "data": {
            "text/html": "<div>\n<style scoped>\n    .dataframe tbody tr th:only-of-type {\n        vertical-align: middle;\n    }\n\n    .dataframe tbody tr th {\n        vertical-align: top;\n    }\n\n    .dataframe thead th {\n        text-align: right;\n    }\n</style>\n<table border=\"1\" class=\"dataframe\">\n  <thead>\n    <tr style=\"text-align: right;\">\n      <th></th>\n      <th>exp</th>\n      <th>pop_s</th>\n      <th>b</th>\n      <th>mut_p</th>\n      <th>mut_s</th>\n      <th>p_sel</th>\n      <th>s_sel</th>\n      <th>run</th>\n      <th>generation</th>\n      <th>fitness_min</th>\n      <th>fitness_max</th>\n      <th>fitness_mean</th>\n      <th>fitness_std</th>\n    </tr>\n  </thead>\n  <tbody>\n    <tr>\n      <th>232315</th>\n      <td>64</td>\n      <td>30</td>\n      <td>5.0</td>\n      <td>0.9</td>\n      <td>10.0</td>\n      <td>tournament_k3</td>\n      <td>tournament_k3</td>\n      <td>29</td>\n      <td>116</td>\n      <td>7.193797</td>\n      <td>71.236066</td>\n      <td>45.619641</td>\n      <td>14.213987</td>\n    </tr>\n    <tr>\n      <th>232316</th>\n      <td>64</td>\n      <td>30</td>\n      <td>5.0</td>\n      <td>0.9</td>\n      <td>10.0</td>\n      <td>tournament_k3</td>\n      <td>tournament_k3</td>\n      <td>29</td>\n      <td>117</td>\n      <td>11.467743</td>\n      <td>73.680178</td>\n      <td>44.388044</td>\n      <td>15.458068</td>\n    </tr>\n    <tr>\n      <th>232317</th>\n      <td>64</td>\n      <td>30</td>\n      <td>5.0</td>\n      <td>0.9</td>\n      <td>10.0</td>\n      <td>tournament_k3</td>\n      <td>tournament_k3</td>\n      <td>29</td>\n      <td>118</td>\n      <td>7.543423</td>\n      <td>64.100916</td>\n      <td>39.732343</td>\n      <td>17.950929</td>\n    </tr>\n    <tr>\n      <th>232318</th>\n      <td>64</td>\n      <td>30</td>\n      <td>5.0</td>\n      <td>0.9</td>\n      <td>10.0</td>\n      <td>tournament_k3</td>\n      <td>tournament_k3</td>\n      <td>29</td>\n      <td>119</td>\n      <td>7.100332</td>\n      <td>66.171390</td>\n      <td>42.403105</td>\n      <td>17.924494</td>\n    </tr>\n    <tr>\n      <th>232319</th>\n      <td>64</td>\n      <td>30</td>\n      <td>5.0</td>\n      <td>0.9</td>\n      <td>10.0</td>\n      <td>tournament_k3</td>\n      <td>tournament_k3</td>\n      <td>29</td>\n      <td>120</td>\n      <td>7.100332</td>\n      <td>61.400337</td>\n      <td>41.825771</td>\n      <td>16.100210</td>\n    </tr>\n  </tbody>\n</table>\n</div>",
            "text/latex": "\\begin{longtable}{lrrrrrllrrrrrr}\n\\toprule\n{} &  exp &  pop\\_s &    b &  mut\\_p &  mut\\_s &          p\\_sel &          s\\_sel &  run &  generation &  fitness\\_min &  fitness\\_max &  fitness\\_mean &  fitness\\_std \\\\\n\\midrule\n\\endhead\n\\midrule\n\\multicolumn{14}{r}{{Continued on next page}} \\\\\n\\midrule\n\\endfoot\n\n\\bottomrule\n\\endlastfoot\n232315 &   64 &     30 &  5.0 &    0.9 &   10.0 &  tournament\\_k3 &  tournament\\_k3 &   29 &         116 &     7.193797 &    71.236066 &     45.619641 &    14.213987 \\\\\n232316 &   64 &     30 &  5.0 &    0.9 &   10.0 &  tournament\\_k3 &  tournament\\_k3 &   29 &         117 &    11.467743 &    73.680178 &     44.388044 &    15.458068 \\\\\n232317 &   64 &     30 &  5.0 &    0.9 &   10.0 &  tournament\\_k3 &  tournament\\_k3 &   29 &         118 &     7.543423 &    64.100916 &     39.732343 &    17.950929 \\\\\n232318 &   64 &     30 &  5.0 &    0.9 &   10.0 &  tournament\\_k3 &  tournament\\_k3 &   29 &         119 &     7.100332 &    66.171390 &     42.403105 &    17.924494 \\\\\n232319 &   64 &     30 &  5.0 &    0.9 &   10.0 &  tournament\\_k3 &  tournament\\_k3 &   29 &         120 &     7.100332 &    61.400337 &     41.825771 &    16.100210 \\\\\n\\end{longtable}\n",
            "text/plain": "        exp  pop_s    b  mut_p  mut_s          p_sel          s_sel  run  \\\n232315   64     30  5.0    0.9   10.0  tournament_k3  tournament_k3   29   \n232316   64     30  5.0    0.9   10.0  tournament_k3  tournament_k3   29   \n232317   64     30  5.0    0.9   10.0  tournament_k3  tournament_k3   29   \n232318   64     30  5.0    0.9   10.0  tournament_k3  tournament_k3   29   \n232319   64     30  5.0    0.9   10.0  tournament_k3  tournament_k3   29   \n\n        generation  fitness_min  fitness_max  fitness_mean  fitness_std  \n232315         116     7.193797    71.236066     45.619641    14.213987  \n232316         117    11.467743    73.680178     44.388044    15.458068  \n232317         118     7.543423    64.100916     39.732343    17.950929  \n232318         119     7.100332    66.171390     42.403105    17.924494  \n232319         120     7.100332    61.400337     41.825771    16.100210  "
          },
          "metadata": {}
        }
      ]
    },
    {
      "cell_type": "code",
      "source": "# Storing the latest generation's population of each replicate\nquery = (multi_fit['generation']==gen_f)\nmulti_final_fitness_res = multi_fit[query]\n\n# Reordering columns\nmulti_final_fitness_res.drop(['exp', 'generation'], axis=1, inplace=True)\nmulti_final_fitness_res.columns = ['pop_s', 'b', 'mut_p', 'mut_s', 'p_sel', 's_sel', 'run', 'f_min', 'f_max', 'f_mean', 'f_std']\nmulti_final_fitness_res = multi_final_fitness_res[['run', 'pop_s', 'b', 'mut_p', 'mut_s', 'p_sel', 's_sel', 'f_min', 'f_max', 'f_mean', 'f_std']]\n\n# Encoding values for DOE's Factos\nmulti_final_fitness_res['pop_s'] = multi_final_fitness_res['pop_s'].replace([10, 30], [-1, 1]).infer_objects()\nmulti_final_fitness_res['b'] = multi_final_fitness_res['b'].replace([.5, 5], [-1, 1]).infer_objects()\nmulti_final_fitness_res['mut_p'] = multi_final_fitness_res['mut_p'].replace([.1, .9], [-1, 1]).infer_objects()\nmulti_final_fitness_res['mut_s'] = multi_final_fitness_res['mut_s'].replace([.1, 10], [-1, 1]).infer_objects()\nmulti_final_fitness_res['p_sel'] = multi_final_fitness_res['p_sel'].replace(['fitness_proportional_selection','tournament_k3'], [-1, 1]).infer_objects()\nmulti_final_fitness_res['s_sel'] = multi_final_fitness_res['s_sel'].replace(['fitness_proportional_selection','tournament_k3'], [-1, 1]).infer_objects()\nmulti_final_fitness_res = multi_final_fitness_res.set_index('run')\nmulti_final_fitness_res.head()",
      "metadata": {},
      "execution_count": 23,
      "outputs": [
        {
          "execution_count": 23,
          "output_type": "execute_result",
          "data": {
            "text/html": "<div>\n<style scoped>\n    .dataframe tbody tr th:only-of-type {\n        vertical-align: middle;\n    }\n\n    .dataframe tbody tr th {\n        vertical-align: top;\n    }\n\n    .dataframe thead th {\n        text-align: right;\n    }\n</style>\n<table border=\"1\" class=\"dataframe\">\n  <thead>\n    <tr style=\"text-align: right;\">\n      <th></th>\n      <th>pop_s</th>\n      <th>b</th>\n      <th>mut_p</th>\n      <th>mut_s</th>\n      <th>p_sel</th>\n      <th>s_sel</th>\n      <th>f_min</th>\n      <th>f_max</th>\n      <th>f_mean</th>\n      <th>f_std</th>\n    </tr>\n    <tr>\n      <th>run</th>\n      <th></th>\n      <th></th>\n      <th></th>\n      <th></th>\n      <th></th>\n      <th></th>\n      <th></th>\n      <th></th>\n      <th></th>\n      <th></th>\n    </tr>\n  </thead>\n  <tbody>\n    <tr>\n      <th>0</th>\n      <td>-1</td>\n      <td>-1.0</td>\n      <td>-1.0</td>\n      <td>-1.0</td>\n      <td>-1</td>\n      <td>-1</td>\n      <td>5.143290</td>\n      <td>5.143290</td>\n      <td>5.143290</td>\n      <td>0.000000</td>\n    </tr>\n    <tr>\n      <th>1</th>\n      <td>-1</td>\n      <td>-1.0</td>\n      <td>-1.0</td>\n      <td>-1.0</td>\n      <td>-1</td>\n      <td>-1</td>\n      <td>42.836483</td>\n      <td>42.959203</td>\n      <td>42.898512</td>\n      <td>0.044530</td>\n    </tr>\n    <tr>\n      <th>2</th>\n      <td>-1</td>\n      <td>-1.0</td>\n      <td>-1.0</td>\n      <td>-1.0</td>\n      <td>-1</td>\n      <td>-1</td>\n      <td>45.071924</td>\n      <td>45.071924</td>\n      <td>45.071924</td>\n      <td>0.000000</td>\n    </tr>\n    <tr>\n      <th>3</th>\n      <td>-1</td>\n      <td>-1.0</td>\n      <td>-1.0</td>\n      <td>-1.0</td>\n      <td>-1</td>\n      <td>-1</td>\n      <td>0.024066</td>\n      <td>0.024066</td>\n      <td>0.024066</td>\n      <td>0.000000</td>\n    </tr>\n    <tr>\n      <th>4</th>\n      <td>-1</td>\n      <td>-1.0</td>\n      <td>-1.0</td>\n      <td>-1.0</td>\n      <td>-1</td>\n      <td>-1</td>\n      <td>17.900133</td>\n      <td>24.086404</td>\n      <td>18.518760</td>\n      <td>1.956271</td>\n    </tr>\n  </tbody>\n</table>\n</div>",
            "text/plain": "     pop_s    b  mut_p  mut_s  p_sel  s_sel      f_min      f_max     f_mean  \\\nrun                                                                            \n0       -1 -1.0   -1.0   -1.0     -1     -1   5.143290   5.143290   5.143290   \n1       -1 -1.0   -1.0   -1.0     -1     -1  42.836483  42.959203  42.898512   \n2       -1 -1.0   -1.0   -1.0     -1     -1  45.071924  45.071924  45.071924   \n3       -1 -1.0   -1.0   -1.0     -1     -1   0.024066   0.024066   0.024066   \n4       -1 -1.0   -1.0   -1.0     -1     -1  17.900133  24.086404  18.518760   \n\n        f_std  \nrun            \n0    0.000000  \n1    0.044530  \n2    0.000000  \n3    0.000000  \n4    1.956271  "
          },
          "metadata": {}
        }
      ]
    },
    {
      "cell_type": "code",
      "source": "inputs_df.to_pickle('./TEST_B_DOE_data.gz', compression='gzip')\nmulti_final_fitness_res.to_pickle('./TEST_B_DOE_code.gz', compression='gzip')",
      "metadata": {},
      "execution_count": 25,
      "outputs": []
    },
    {
      "cell_type": "code",
      "source": "",
      "metadata": {},
      "execution_count": null,
      "outputs": []
    }
  ]
}