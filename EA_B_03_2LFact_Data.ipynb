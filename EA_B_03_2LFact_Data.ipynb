{
 "cells": [
  {
   "cell_type": "raw",
   "metadata": {},
   "source": [
    "\\author{Eloy Ruiz-Donayre}\n",
    "\\title{TESTCASE B - 2-Level 6-Factor Full Factorial (With 30 replicates) - Data Generation}\n",
    "\\date{\\today}\n",
    "\\maketitle"
   ]
  },
  {
   "cell_type": "raw",
   "metadata": {},
   "source": [
    "\\tableofcontents"
   ]
  },
  {
   "cell_type": "markdown",
   "metadata": {},
   "source": [
    "# Preliminaries"
   ]
  },
  {
   "cell_type": "markdown",
   "metadata": {},
   "source": [
    "Importing python packages and setting display parameters"
   ]
  },
  {
   "cell_type": "code",
   "execution_count": null,
   "metadata": {},
   "outputs": [],
   "source": [
    "import numpy as np\n",
    "import pandas as pd\n",
    "import itertools as it\n",
    "import scipy.stats as stats\n",
    "\n",
    "import seaborn as sns\n",
    "import matplotlib as mpl\n",
    "import matplotlib.pyplot as plt\n",
    "\n",
    "import thesis_EAfunc as EAf\n",
    "import thesis_visfunc as EAv"
   ]
  },
  {
   "cell_type": "code",
   "execution_count": 3,
   "metadata": {},
   "outputs": [],
   "source": [
    "plt.style.use(\"bmh\")\n",
    "%matplotlib inline\n",
    "%config InlineBackend.figure_format = 'retina'\n",
    "\n",
    "pd.set_option(\"display.latex.repr\", True)\n",
    "pd.set_option(\"display.latex.longtable\", True)"
   ]
  },
  {
   "cell_type": "markdown",
   "metadata": {
    "toc-hr-collapsed": false
   },
   "source": [
    "# Fitness Landscape Definition"
   ]
  },
  {
   "cell_type": "code",
   "execution_count": null,
   "metadata": {},
   "outputs": [],
   "source": [
    "# Problem domain\n",
    "x_min = -15\n",
    "x_max = 15\n",
    "y_min = -15\n",
    "y_max = 15\n",
    "\n",
    "# Known minimum\n",
    "x_point = -6.01717\n",
    "y_point = 9.06022\n",
    "\n",
    "domain = (x_min, x_max, y_min, y_max)\n",
    "point = (x_point, y_point)\n",
    "img_size = (8.5, 4.25)\n",
    "\n",
    "# Problem definition\n",
    "\n",
    "\n",
    "def g(x, y):\n",
    "    mag = np.sqrt(x ** 2.0 + y ** 2.0)\n",
    "    return -(50.0 * np.sinc(mag / np.pi) - mag)\n",
    "\n",
    "\n",
    "def f(x, y):\n",
    "    x_min = -6.01717\n",
    "    y_min = 9.06022\n",
    "    f_min = (\n",
    "        g(x_min + 11.0, y_min + 9.0)\n",
    "        + g(x_min - 11.0, y_min - 3.0)\n",
    "        + g(x_min + 6.0, y_min - 9.0)\n",
    "    )\n",
    "    tripsinc = (\n",
    "        g(x + 11.0, y + 9.0) + g(x - 11.0, y - 3.0) + g(x + 6.0, y - 9.0) - (f_min)\n",
    "    )\n",
    "    return tripsinc"
   ]
  },
  {
   "cell_type": "code",
   "execution_count": 5,
   "metadata": {},
   "outputs": [
    {
     "name": "stdout",
     "output_type": "stream",
     "text": [
      "0.0\n"
     ]
    }
   ],
   "source": [
    "# Testing the minimum\n",
    "print(f(-6.01717, 9.06022))"
   ]
  },
  {
   "cell_type": "code",
   "execution_count": null,
   "metadata": {},
   "outputs": [],
   "source": [
    "# Testing the function\n",
    "print(f(-1.0, -1.0), f(-11.0, -9.0), f(11.0, 3.0), f(-6.0, 9.0))"
   ]
  },
  {
   "cell_type": "markdown",
   "metadata": {
    "toc-hr-collapsed": false
   },
   "source": [
    "# Setting up the experiment\n",
    "64 Experiments\n",
    ">L-> In each experiment, one set of parameters is used.\n",
    ">>L-> 40 Replicates per experiment.\n",
    ">>>L-> Each replicate is different due to randomness effects."
   ]
  },
  {
   "cell_type": "code",
   "execution_count": 7,
   "metadata": {},
   "outputs": [],
   "source": [
    "# starting seed\n",
    "np.random.seed(42)"
   ]
  },
  {
   "cell_type": "markdown",
   "metadata": {},
   "source": [
    "## Initializing data storage"
   ]
  },
  {
   "cell_type": "code",
   "execution_count": 8,
   "metadata": {},
   "outputs": [],
   "source": [
    "mult_fit_cols = (\n",
    "    [\"exp\"]\n",
    "    + [\"pop_s\"]\n",
    "    + [\"b\"]\n",
    "    + [\"mut_p\"]\n",
    "    + [\"mut_s\"]\n",
    "    + [\"p_sel\"]\n",
    "    + [\"s_sel\"]\n",
    "    + [\"run\", \"generation\", \"fitness_min\", \"fitness_max\", \"fitness_mean\", \"fitness_std\"]\n",
    ")\n",
    "multi_fit = pd.DataFrame(columns=mult_fit_cols)\n",
    "multi_fit = multi_fit.infer_objects()"
   ]
  },
  {
   "cell_type": "markdown",
   "metadata": {
    "toc-hr-collapsed": false
   },
   "source": [
    "## Parameter space for the experiment"
   ]
  },
  {
   "cell_type": "markdown",
   "metadata": {},
   "source": [
    "### Initializing"
   ]
  },
  {
   "cell_type": "code",
   "execution_count": null,
   "metadata": {},
   "outputs": [],
   "source": [
    "# Algorithm parameters\n",
    "# Number of replicates, and generations per experiment\n",
    "rep_n = 30\n",
    "gen_f = 200\n",
    "\n",
    "# Population size\n",
    "pop_s = [40, 160]\n",
    "\n",
    "# Parent subpopulation's selection method and size\n",
    "par_selection = [\"uniform\", \"tournament_k3\"]\n",
    "b = [0.5, 5]\n",
    "par_s = [z * y for z in pop_s for y in b]\n",
    "\n",
    "# Progeny subpopulation's size\n",
    "prog_s = par_s\n",
    "\n",
    "# Crossover Method\n",
    "crossover = \"uniform\"\n",
    "# Mutation method, probability and size\n",
    "mutation = \"random_all_gau_dis\"\n",
    "mut_p = [0.1, 0.5]\n",
    "mut_s = [2.5, 7.5]\n",
    "\n",
    "# New population selection method\n",
    "sur_selection = [\"uniform\", \"tournament_k3\"]"
   ]
  },
  {
   "cell_type": "markdown",
   "metadata": {},
   "source": [
    "### 2-Level Factors encoded values"
   ]
  },
  {
   "cell_type": "code",
   "execution_count": 10,
   "metadata": {},
   "outputs": [
    {
     "data": {
      "text/html": [
       "<div>\n",
       "<style scoped>\n",
       "    .dataframe tbody tr th:only-of-type {\n",
       "        vertical-align: middle;\n",
       "    }\n",
       "\n",
       "    .dataframe tbody tr th {\n",
       "        vertical-align: top;\n",
       "    }\n",
       "\n",
       "    .dataframe thead th {\n",
       "        text-align: right;\n",
       "    }\n",
       "</style>\n",
       "<table border=\"1\" class=\"dataframe\">\n",
       "  <thead>\n",
       "    <tr style=\"text-align: right;\">\n",
       "      <th></th>\n",
       "      <th>Label</th>\n",
       "      <th>Variable type</th>\n",
       "      <th>Value_low</th>\n",
       "      <th>Value_high</th>\n",
       "      <th>encoded_low</th>\n",
       "      <th>encoded_high</th>\n",
       "    </tr>\n",
       "    <tr>\n",
       "      <th>Factor</th>\n",
       "      <th></th>\n",
       "      <th></th>\n",
       "      <th></th>\n",
       "      <th></th>\n",
       "      <th></th>\n",
       "      <th></th>\n",
       "    </tr>\n",
       "  </thead>\n",
       "  <tbody>\n",
       "    <tr>\n",
       "      <th>pop_s</th>\n",
       "      <td>Population size</td>\n",
       "      <td>Numerical</td>\n",
       "      <td>40</td>\n",
       "      <td>160</td>\n",
       "      <td>-1</td>\n",
       "      <td>1</td>\n",
       "    </tr>\n",
       "    <tr>\n",
       "      <th>b</th>\n",
       "      <td>Progeny-to-population ratio</td>\n",
       "      <td>Numerical</td>\n",
       "      <td>0.5</td>\n",
       "      <td>5</td>\n",
       "      <td>-1</td>\n",
       "      <td>1</td>\n",
       "    </tr>\n",
       "    <tr>\n",
       "      <th>mut_p</th>\n",
       "      <td>Mutation Probability</td>\n",
       "      <td>Numerical (&lt;1)</td>\n",
       "      <td>0.1</td>\n",
       "      <td>0.5</td>\n",
       "      <td>-1</td>\n",
       "      <td>1</td>\n",
       "    </tr>\n",
       "    <tr>\n",
       "      <th>mut_s</th>\n",
       "      <td>Mutation size</td>\n",
       "      <td>Numerical</td>\n",
       "      <td>2.5</td>\n",
       "      <td>7.5</td>\n",
       "      <td>-1</td>\n",
       "      <td>1</td>\n",
       "    </tr>\n",
       "    <tr>\n",
       "      <th>p_sel</th>\n",
       "      <td>Parent selection</td>\n",
       "      <td>Categorical</td>\n",
       "      <td>uniform</td>\n",
       "      <td>tournament k3</td>\n",
       "      <td>-1</td>\n",
       "      <td>1</td>\n",
       "    </tr>\n",
       "    <tr>\n",
       "      <th>s_sel</th>\n",
       "      <td>Survivor selection method</td>\n",
       "      <td>Categorical</td>\n",
       "      <td>uniform</td>\n",
       "      <td>tournament k3</td>\n",
       "      <td>-1</td>\n",
       "      <td>1</td>\n",
       "    </tr>\n",
       "  </tbody>\n",
       "</table>\n",
       "</div>"
      ],
      "text/latex": [
       "\\begin{longtable}{lllllrr}\n",
       "\\toprule\n",
       "{} &                        Label &   Variable type & Value\\_low &     Value\\_high &  encoded\\_low &  encoded\\_high \\\\\n",
       "Factor &                              &                 &           &                &              &               \\\\\n",
       "\\midrule\n",
       "\\endhead\n",
       "\\midrule\n",
       "\\multicolumn{7}{r}{{Continued on next page}} \\\\\n",
       "\\midrule\n",
       "\\endfoot\n",
       "\n",
       "\\bottomrule\n",
       "\\endlastfoot\n",
       "pop\\_s  &              Population size &       Numerical &        40 &            160 &           -1 &             1 \\\\\n",
       "b      &  Progeny-to-population ratio &       Numerical &       0.5 &              5 &           -1 &             1 \\\\\n",
       "mut\\_p  &         Mutation Probability &  Numerical (<1) &       0.1 &            0.5 &           -1 &             1 \\\\\n",
       "mut\\_s  &                Mutation size &       Numerical &       2.5 &            7.5 &           -1 &             1 \\\\\n",
       "p\\_sel  &             Parent selection &     Categorical &   uniform &  tournament k3 &           -1 &             1 \\\\\n",
       "s\\_sel  &    Survivor selection method &     Categorical &   uniform &  tournament k3 &           -1 &             1 \\\\\n",
       "\\end{longtable}\n"
      ],
      "text/plain": [
       "                              Label   Variable type Value_low     Value_high  \\\n",
       "Factor                                                                         \n",
       "pop_s               Population size       Numerical        40            160   \n",
       "b       Progeny-to-population ratio       Numerical       0.5              5   \n",
       "mut_p          Mutation Probability  Numerical (<1)       0.1            0.5   \n",
       "mut_s                 Mutation size       Numerical       2.5            7.5   \n",
       "p_sel              Parent selection     Categorical   uniform  tournament k3   \n",
       "s_sel     Survivor selection method     Categorical   uniform  tournament k3   \n",
       "\n",
       "        encoded_low  encoded_high  \n",
       "Factor                             \n",
       "pop_s            -1             1  \n",
       "b                -1             1  \n",
       "mut_p            -1             1  \n",
       "mut_s            -1             1  \n",
       "p_sel            -1             1  \n",
       "s_sel            -1             1  "
      ]
     },
     "execution_count": 10,
     "metadata": {},
     "output_type": "execute_result"
    }
   ],
   "source": [
    "inputs_labels = {\n",
    "    \"pop_s\": \"Population size\",\n",
    "    \"b\": \"Progeny-to-population ratio\",\n",
    "    \"mut_p\": \"Mutation Probability\",\n",
    "    \"mut_s\": \"Mutation size\",\n",
    "    \"p_sel\": \"Parent selection\",\n",
    "    \"s_sel\": \"Survivor selection method\",\n",
    "}\n",
    "\n",
    "dat = [\n",
    "    (\"pop_s\", 40, 160, -1, 1, \"Numerical\"),\n",
    "    (\"b\", 0.5, 5, -1, 1, \"Numerical\"),\n",
    "    (\"mut_p\", 0.1, 0.5, -1, 1, \"Numerical (<1)\"),\n",
    "    (\"mut_s\", 2.5, 7.5, -1, 1, \"Numerical\"),\n",
    "    (\"p_sel\", \"uniform\", \"tournament k3\", -1, 1, \"Categorical\"),\n",
    "    (\"s_sel\", \"uniform\", \"tournament k3\", -1, 1, \"Categorical\"),\n",
    "]\n",
    "\n",
    "inputs_df = pd.DataFrame(\n",
    "    dat,\n",
    "    columns=[\n",
    "        \"Factor\",\n",
    "        \"Value_low\",\n",
    "        \"Value_high\",\n",
    "        \"encoded_low\",\n",
    "        \"encoded_high\",\n",
    "        \"Variable type\",\n",
    "    ],\n",
    ")\n",
    "inputs_df = inputs_df.set_index([\"Factor\"])\n",
    "inputs_df[\"Label\"] = inputs_df.index.map(lambda z: inputs_labels[z])\n",
    "inputs_df = inputs_df[\n",
    "    [\"Label\", \"Variable type\", \"Value_low\", \"Value_high\", \"encoded_low\", \"encoded_high\"]\n",
    "]\n",
    "\n",
    "inputs_df"
   ]
  },
  {
   "cell_type": "markdown",
   "metadata": {},
   "source": [
    "### Combining the 2-level Factors"
   ]
  },
  {
   "cell_type": "markdown",
   "metadata": {},
   "source": [
    "We create a list with all the possible combinations of the 2-level factors"
   ]
  },
  {
   "cell_type": "code",
   "execution_count": 11,
   "metadata": {},
   "outputs": [
    {
     "name": "stdout",
     "output_type": "stream",
     "text": [
      "Cantidad de combinaciones de parametros en \"exp_par\" :64\n",
      "\n",
      "Primera y última combinación de parametros en \"exp_par\":\n",
      "Secuencia (pop_s, b, mut_p, mut_s, p_sel, s_sel)\n",
      "(40, 0.5, 0.1, 2.5, 'uniform', 'uniform')\n",
      "(160, 5, 0.5, 7.5, 'tournament_k3', 'tournament_k3')\n"
     ]
    }
   ],
   "source": [
    "exp_par = list(it.product(pop_s, b, mut_p, mut_s, par_selection, sur_selection))\n",
    "print('Cantidad de combinaciones de parametros en \"exp_par\" :' + str(len(exp_par)))\n",
    "print()\n",
    "print('Primera y última combinación de parametros en \"exp_par\":')\n",
    "print(\"Secuencia (pop_s, b, mut_p, mut_s, p_sel, s_sel)\")\n",
    "print(exp_par[0])\n",
    "print(exp_par[63])"
   ]
  },
  {
   "cell_type": "markdown",
   "metadata": {},
   "source": [
    "# Experiment execution"
   ]
  },
  {
   "cell_type": "code",
   "execution_count": null,
   "metadata": {},
   "outputs": [],
   "source": [
    "%%time\n",
    "exp_n = 1\n",
    "for (zz, yy, xx, vv, uu, tt) in exp_par:\n",
    "    sur_selection = tt\n",
    "    par_selection = uu\n",
    "    mut_s = vv\n",
    "    mut_p = xx\n",
    "    b = yy\n",
    "    pop_s = zz\n",
    "    prog_s = int(b * pop_s)\n",
    "    par_s = prog_s\n",
    "\n",
    "    fitness_res = EAf.EA_exp_only_fitness(\n",
    "        rep_n,\n",
    "        gen_f,\n",
    "        f,\n",
    "        domain,\n",
    "        pop_s,\n",
    "        par_s,\n",
    "        prog_s,\n",
    "        mut_p,\n",
    "        mut_s,\n",
    "        par_selection,\n",
    "        crossover,\n",
    "        mutation,\n",
    "        sur_selection,\n",
    "    )\n",
    "\n",
    "    fitness_res.insert(0, \"s_sel\", tt)\n",
    "    fitness_res.insert(0, \"p_sel\", uu)\n",
    "    fitness_res.insert(0, \"mut_s\", vv)\n",
    "    fitness_res.insert(0, \"mut_p\", xx)\n",
    "    fitness_res.insert(0, \"b\", yy)\n",
    "    fitness_res.insert(0, \"pop_s\", zz)\n",
    "    fitness_res.insert(0, \"exp\", exp_n)\n",
    "    multi_fit = multi_fit.append(fitness_res, ignore_index=True, sort=False)\n",
    "    multi_fit = multi_fit.infer_objects()\n",
    "\n",
    "    exp_n += 1"
   ]
  },
  {
   "cell_type": "markdown",
   "metadata": {},
   "source": [
    "## Data storage"
   ]
  },
  {
   "cell_type": "markdown",
   "metadata": {},
   "source": [
    "Writing the Data Frame to a pickle file"
   ]
  },
  {
   "cell_type": "code",
   "execution_count": 12,
   "metadata": {},
   "outputs": [],
   "source": [
    "multi_fit.to_pickle(\"./Data/TEST_B_2L_FitData.gz\", compression=\"gzip\")"
   ]
  },
  {
   "cell_type": "markdown",
   "metadata": {},
   "source": [
    "Reading the Data Frame from a pickle file"
   ]
  },
  {
   "cell_type": "code",
   "execution_count": 12,
   "metadata": {},
   "outputs": [],
   "source": [
    "multi_fit = pd.read_pickle(\"./Data/TEST_B_2L_FitData.gz\", compression=\"gzip\")"
   ]
  },
  {
   "cell_type": "code",
   "execution_count": 13,
   "metadata": {},
   "outputs": [
    {
     "data": {
      "text/html": [
       "<div>\n",
       "<style scoped>\n",
       "    .dataframe tbody tr th:only-of-type {\n",
       "        vertical-align: middle;\n",
       "    }\n",
       "\n",
       "    .dataframe tbody tr th {\n",
       "        vertical-align: top;\n",
       "    }\n",
       "\n",
       "    .dataframe thead th {\n",
       "        text-align: right;\n",
       "    }\n",
       "</style>\n",
       "<table border=\"1\" class=\"dataframe\">\n",
       "  <thead>\n",
       "    <tr style=\"text-align: right;\">\n",
       "      <th></th>\n",
       "      <th>exp</th>\n",
       "      <th>pop_s</th>\n",
       "      <th>b</th>\n",
       "      <th>mut_p</th>\n",
       "      <th>mut_s</th>\n",
       "      <th>p_sel</th>\n",
       "      <th>s_sel</th>\n",
       "      <th>run</th>\n",
       "      <th>generation</th>\n",
       "      <th>fitness_min</th>\n",
       "      <th>fitness_max</th>\n",
       "      <th>fitness_mean</th>\n",
       "      <th>fitness_std</th>\n",
       "      <th>seed</th>\n",
       "    </tr>\n",
       "  </thead>\n",
       "  <tbody>\n",
       "    <tr>\n",
       "      <th>385915</th>\n",
       "      <td>64</td>\n",
       "      <td>160</td>\n",
       "      <td>5.0</td>\n",
       "      <td>0.5</td>\n",
       "      <td>7.5</td>\n",
       "      <td>tournament_k3</td>\n",
       "      <td>tournament_k3</td>\n",
       "      <td>29</td>\n",
       "      <td>196</td>\n",
       "      <td>0.004149</td>\n",
       "      <td>59.287496</td>\n",
       "      <td>3.347259</td>\n",
       "      <td>11.838681</td>\n",
       "      <td>2738.0</td>\n",
       "    </tr>\n",
       "    <tr>\n",
       "      <th>385916</th>\n",
       "      <td>64</td>\n",
       "      <td>160</td>\n",
       "      <td>5.0</td>\n",
       "      <td>0.5</td>\n",
       "      <td>7.5</td>\n",
       "      <td>tournament_k3</td>\n",
       "      <td>tournament_k3</td>\n",
       "      <td>29</td>\n",
       "      <td>197</td>\n",
       "      <td>0.004149</td>\n",
       "      <td>61.012956</td>\n",
       "      <td>4.231400</td>\n",
       "      <td>13.452999</td>\n",
       "      <td>2738.0</td>\n",
       "    </tr>\n",
       "    <tr>\n",
       "      <th>385917</th>\n",
       "      <td>64</td>\n",
       "      <td>160</td>\n",
       "      <td>5.0</td>\n",
       "      <td>0.5</td>\n",
       "      <td>7.5</td>\n",
       "      <td>tournament_k3</td>\n",
       "      <td>tournament_k3</td>\n",
       "      <td>29</td>\n",
       "      <td>198</td>\n",
       "      <td>0.004149</td>\n",
       "      <td>64.198993</td>\n",
       "      <td>3.779497</td>\n",
       "      <td>13.288944</td>\n",
       "      <td>2738.0</td>\n",
       "    </tr>\n",
       "    <tr>\n",
       "      <th>385918</th>\n",
       "      <td>64</td>\n",
       "      <td>160</td>\n",
       "      <td>5.0</td>\n",
       "      <td>0.5</td>\n",
       "      <td>7.5</td>\n",
       "      <td>tournament_k3</td>\n",
       "      <td>tournament_k3</td>\n",
       "      <td>29</td>\n",
       "      <td>199</td>\n",
       "      <td>0.004149</td>\n",
       "      <td>64.675987</td>\n",
       "      <td>4.118537</td>\n",
       "      <td>13.903275</td>\n",
       "      <td>2738.0</td>\n",
       "    </tr>\n",
       "    <tr>\n",
       "      <th>385919</th>\n",
       "      <td>64</td>\n",
       "      <td>160</td>\n",
       "      <td>5.0</td>\n",
       "      <td>0.5</td>\n",
       "      <td>7.5</td>\n",
       "      <td>tournament_k3</td>\n",
       "      <td>tournament_k3</td>\n",
       "      <td>29</td>\n",
       "      <td>200</td>\n",
       "      <td>0.004149</td>\n",
       "      <td>65.189863</td>\n",
       "      <td>4.828361</td>\n",
       "      <td>14.751174</td>\n",
       "      <td>2738.0</td>\n",
       "    </tr>\n",
       "  </tbody>\n",
       "</table>\n",
       "</div>"
      ],
      "text/latex": [
       "\\begin{longtable}{lrrrrrllrrrrrrr}\n",
       "\\toprule\n",
       "{} &  exp &  pop\\_s &    b &  mut\\_p &  mut\\_s &          p\\_sel &          s\\_sel &  run &  generation &  fitness\\_min &  fitness\\_max &  fitness\\_mean &  fitness\\_std &    seed \\\\\n",
       "\\midrule\n",
       "\\endhead\n",
       "\\midrule\n",
       "\\multicolumn{15}{r}{{Continued on next page}} \\\\\n",
       "\\midrule\n",
       "\\endfoot\n",
       "\n",
       "\\bottomrule\n",
       "\\endlastfoot\n",
       "385915 &   64 &    160 &  5.0 &    0.5 &    7.5 &  tournament\\_k3 &  tournament\\_k3 &   29 &         196 &     0.004149 &    59.287496 &      3.347259 &    11.838681 &  2738.0 \\\\\n",
       "385916 &   64 &    160 &  5.0 &    0.5 &    7.5 &  tournament\\_k3 &  tournament\\_k3 &   29 &         197 &     0.004149 &    61.012956 &      4.231400 &    13.452999 &  2738.0 \\\\\n",
       "385917 &   64 &    160 &  5.0 &    0.5 &    7.5 &  tournament\\_k3 &  tournament\\_k3 &   29 &         198 &     0.004149 &    64.198993 &      3.779497 &    13.288944 &  2738.0 \\\\\n",
       "385918 &   64 &    160 &  5.0 &    0.5 &    7.5 &  tournament\\_k3 &  tournament\\_k3 &   29 &         199 &     0.004149 &    64.675987 &      4.118537 &    13.903275 &  2738.0 \\\\\n",
       "385919 &   64 &    160 &  5.0 &    0.5 &    7.5 &  tournament\\_k3 &  tournament\\_k3 &   29 &         200 &     0.004149 &    65.189863 &      4.828361 &    14.751174 &  2738.0 \\\\\n",
       "\\end{longtable}\n"
      ],
      "text/plain": [
       "        exp  pop_s    b  mut_p  mut_s          p_sel          s_sel  run  \\\n",
       "385915   64    160  5.0    0.5    7.5  tournament_k3  tournament_k3   29   \n",
       "385916   64    160  5.0    0.5    7.5  tournament_k3  tournament_k3   29   \n",
       "385917   64    160  5.0    0.5    7.5  tournament_k3  tournament_k3   29   \n",
       "385918   64    160  5.0    0.5    7.5  tournament_k3  tournament_k3   29   \n",
       "385919   64    160  5.0    0.5    7.5  tournament_k3  tournament_k3   29   \n",
       "\n",
       "        generation  fitness_min  fitness_max  fitness_mean  fitness_std  \\\n",
       "385915         196     0.004149    59.287496      3.347259    11.838681   \n",
       "385916         197     0.004149    61.012956      4.231400    13.452999   \n",
       "385917         198     0.004149    64.198993      3.779497    13.288944   \n",
       "385918         199     0.004149    64.675987      4.118537    13.903275   \n",
       "385919         200     0.004149    65.189863      4.828361    14.751174   \n",
       "\n",
       "          seed  \n",
       "385915  2738.0  \n",
       "385916  2738.0  \n",
       "385917  2738.0  \n",
       "385918  2738.0  \n",
       "385919  2738.0  "
      ]
     },
     "execution_count": 13,
     "metadata": {},
     "output_type": "execute_result"
    }
   ],
   "source": [
    "multi_fit.tail()"
   ]
  },
  {
   "cell_type": "markdown",
   "metadata": {},
   "source": [
    "# Processing data for DOE Analysis"
   ]
  },
  {
   "cell_type": "markdown",
   "metadata": {},
   "source": [
    "Storing the latest generation's population of each replicate"
   ]
  },
  {
   "cell_type": "code",
   "execution_count": 17,
   "metadata": {},
   "outputs": [],
   "source": [
    "query = multi_fit[\"generation\"] == gen_f\n",
    "multi_final_fitness_res = multi_fit[query]"
   ]
  },
  {
   "cell_type": "markdown",
   "metadata": {},
   "source": [
    "Reordering columns"
   ]
  },
  {
   "cell_type": "code",
   "execution_count": 17,
   "metadata": {},
   "outputs": [],
   "source": [
    "multi_final_fitness_res = multi_final_fitness_res.drop(\n",
    "    [\"exp\", \"generation\", \"run\", \"seed\"], axis=1\n",
    ")\n",
    "multi_final_fitness_res.columns = [\n",
    "    \"pop_s\",\n",
    "    \"b\",\n",
    "    \"mut_p\",\n",
    "    \"mut_s\",\n",
    "    \"p_sel\",\n",
    "    \"s_sel\",\n",
    "    \"f_min\",\n",
    "    \"f_max\",\n",
    "    \"f_mean\",\n",
    "    \"f_std\",\n",
    "]\n",
    "multi_final_fitness_res = multi_final_fitness_res[\n",
    "    [\n",
    "        \"pop_s\",\n",
    "        \"b\",\n",
    "        \"mut_p\",\n",
    "        \"mut_s\",\n",
    "        \"p_sel\",\n",
    "        \"s_sel\",\n",
    "        \"f_min\",\n",
    "        \"f_max\",\n",
    "        \"f_mean\",\n",
    "        \"f_std\",\n",
    "    ]\n",
    "]\n",
    "multi_final_fitness_res = multi_final_fitness_res.reset_index(drop=True)"
   ]
  },
  {
   "cell_type": "markdown",
   "metadata": {},
   "source": [
    "Encoding values for DOE's Factor"
   ]
  },
  {
   "cell_type": "code",
   "execution_count": null,
   "metadata": {},
   "outputs": [],
   "source": [
    "multi_final_fitness_res[\"pop_s\"] = (\n",
    "    multi_final_fitness_res[\"pop_s\"].replace([40, 160], [-1, 1]).infer_objects()\n",
    ")\n",
    "multi_final_fitness_res[\"b\"] = (\n",
    "    multi_final_fitness_res[\"b\"].replace([0.5, 5], [-1, 1]).infer_objects()\n",
    ")\n",
    "multi_final_fitness_res[\"mut_p\"] = (\n",
    "    multi_final_fitness_res[\"mut_p\"].replace([0.1, 0.5], [-1, 1]).infer_objects()\n",
    ")\n",
    "multi_final_fitness_res[\"mut_s\"] = (\n",
    "    multi_final_fitness_res[\"mut_s\"].replace([2.5, 7.5], [-1, 1]).infer_objects()\n",
    ")\n",
    "multi_final_fitness_res[\"p_sel\"] = (\n",
    "    multi_final_fitness_res[\"p_sel\"]\n",
    "    .replace([\"uniform\", \"tournament_k3\"], [-1, 1])\n",
    "    .infer_objects()\n",
    ")\n",
    "multi_final_fitness_res[\"s_sel\"] = (\n",
    "    multi_final_fitness_res[\"s_sel\"]\n",
    "    .replace([\"uniform\", \"tournament_k3\"], [-1, 1])\n",
    "    .infer_objects()\n",
    ")"
   ]
  },
  {
   "cell_type": "markdown",
   "metadata": {},
   "source": [
    "Exploring the Data Frame"
   ]
  },
  {
   "cell_type": "code",
   "execution_count": 18,
   "metadata": {},
   "outputs": [
    {
     "data": {
      "text/html": [
       "<div>\n",
       "<style scoped>\n",
       "    .dataframe tbody tr th:only-of-type {\n",
       "        vertical-align: middle;\n",
       "    }\n",
       "\n",
       "    .dataframe tbody tr th {\n",
       "        vertical-align: top;\n",
       "    }\n",
       "\n",
       "    .dataframe thead th {\n",
       "        text-align: right;\n",
       "    }\n",
       "</style>\n",
       "<table border=\"1\" class=\"dataframe\">\n",
       "  <thead>\n",
       "    <tr style=\"text-align: right;\">\n",
       "      <th></th>\n",
       "      <th>pop_s</th>\n",
       "      <th>b</th>\n",
       "      <th>mut_p</th>\n",
       "      <th>mut_s</th>\n",
       "      <th>p_sel</th>\n",
       "      <th>s_sel</th>\n",
       "      <th>f_min</th>\n",
       "      <th>f_max</th>\n",
       "      <th>f_mean</th>\n",
       "      <th>f_std</th>\n",
       "    </tr>\n",
       "  </thead>\n",
       "  <tbody>\n",
       "    <tr>\n",
       "      <th>0</th>\n",
       "      <td>-1</td>\n",
       "      <td>-1.0</td>\n",
       "      <td>-1.0</td>\n",
       "      <td>-1.0</td>\n",
       "      <td>-1</td>\n",
       "      <td>-1</td>\n",
       "      <td>69.138906</td>\n",
       "      <td>76.517925</td>\n",
       "      <td>73.478261</td>\n",
       "      <td>1.627989</td>\n",
       "    </tr>\n",
       "    <tr>\n",
       "      <th>1</th>\n",
       "      <td>-1</td>\n",
       "      <td>-1.0</td>\n",
       "      <td>-1.0</td>\n",
       "      <td>-1.0</td>\n",
       "      <td>-1</td>\n",
       "      <td>-1</td>\n",
       "      <td>47.816306</td>\n",
       "      <td>79.037778</td>\n",
       "      <td>63.001853</td>\n",
       "      <td>8.572120</td>\n",
       "    </tr>\n",
       "    <tr>\n",
       "      <th>2</th>\n",
       "      <td>-1</td>\n",
       "      <td>-1.0</td>\n",
       "      <td>-1.0</td>\n",
       "      <td>-1.0</td>\n",
       "      <td>-1</td>\n",
       "      <td>-1</td>\n",
       "      <td>25.005306</td>\n",
       "      <td>58.273419</td>\n",
       "      <td>50.820542</td>\n",
       "      <td>7.926705</td>\n",
       "    </tr>\n",
       "    <tr>\n",
       "      <th>3</th>\n",
       "      <td>-1</td>\n",
       "      <td>-1.0</td>\n",
       "      <td>-1.0</td>\n",
       "      <td>-1.0</td>\n",
       "      <td>-1</td>\n",
       "      <td>-1</td>\n",
       "      <td>47.823369</td>\n",
       "      <td>62.876947</td>\n",
       "      <td>55.003086</td>\n",
       "      <td>4.019893</td>\n",
       "    </tr>\n",
       "    <tr>\n",
       "      <th>4</th>\n",
       "      <td>-1</td>\n",
       "      <td>-1.0</td>\n",
       "      <td>-1.0</td>\n",
       "      <td>-1.0</td>\n",
       "      <td>-1</td>\n",
       "      <td>-1</td>\n",
       "      <td>46.651828</td>\n",
       "      <td>56.345858</td>\n",
       "      <td>52.295988</td>\n",
       "      <td>2.799735</td>\n",
       "    </tr>\n",
       "  </tbody>\n",
       "</table>\n",
       "</div>"
      ],
      "text/latex": [
       "\\begin{longtable}{lrrrrrrrrrr}\n",
       "\\toprule\n",
       "{} &  pop\\_s &    b &  mut\\_p &  mut\\_s &  p\\_sel &  s\\_sel &      f\\_min &      f\\_max &     f\\_mean &     f\\_std \\\\\n",
       "\\midrule\n",
       "\\endhead\n",
       "\\midrule\n",
       "\\multicolumn{11}{r}{{Continued on next page}} \\\\\n",
       "\\midrule\n",
       "\\endfoot\n",
       "\n",
       "\\bottomrule\n",
       "\\endlastfoot\n",
       "0 &     -1 & -1.0 &   -1.0 &   -1.0 &     -1 &     -1 &  69.138906 &  76.517925 &  73.478261 &  1.627989 \\\\\n",
       "1 &     -1 & -1.0 &   -1.0 &   -1.0 &     -1 &     -1 &  47.816306 &  79.037778 &  63.001853 &  8.572120 \\\\\n",
       "2 &     -1 & -1.0 &   -1.0 &   -1.0 &     -1 &     -1 &  25.005306 &  58.273419 &  50.820542 &  7.926705 \\\\\n",
       "3 &     -1 & -1.0 &   -1.0 &   -1.0 &     -1 &     -1 &  47.823369 &  62.876947 &  55.003086 &  4.019893 \\\\\n",
       "4 &     -1 & -1.0 &   -1.0 &   -1.0 &     -1 &     -1 &  46.651828 &  56.345858 &  52.295988 &  2.799735 \\\\\n",
       "\\end{longtable}\n"
      ],
      "text/plain": [
       "   pop_s    b  mut_p  mut_s  p_sel  s_sel      f_min      f_max     f_mean  \\\n",
       "0     -1 -1.0   -1.0   -1.0     -1     -1  69.138906  76.517925  73.478261   \n",
       "1     -1 -1.0   -1.0   -1.0     -1     -1  47.816306  79.037778  63.001853   \n",
       "2     -1 -1.0   -1.0   -1.0     -1     -1  25.005306  58.273419  50.820542   \n",
       "3     -1 -1.0   -1.0   -1.0     -1     -1  47.823369  62.876947  55.003086   \n",
       "4     -1 -1.0   -1.0   -1.0     -1     -1  46.651828  56.345858  52.295988   \n",
       "\n",
       "      f_std  \n",
       "0  1.627989  \n",
       "1  8.572120  \n",
       "2  7.926705  \n",
       "3  4.019893  \n",
       "4  2.799735  "
      ]
     },
     "execution_count": 18,
     "metadata": {},
     "output_type": "execute_result"
    }
   ],
   "source": [
    "multi_final_fitness_res.head()"
   ]
  },
  {
   "cell_type": "code",
   "execution_count": 19,
   "metadata": {},
   "outputs": [
    {
     "data": {
      "text/html": [
       "<div>\n",
       "<style scoped>\n",
       "    .dataframe tbody tr th:only-of-type {\n",
       "        vertical-align: middle;\n",
       "    }\n",
       "\n",
       "    .dataframe tbody tr th {\n",
       "        vertical-align: top;\n",
       "    }\n",
       "\n",
       "    .dataframe thead th {\n",
       "        text-align: right;\n",
       "    }\n",
       "</style>\n",
       "<table border=\"1\" class=\"dataframe\">\n",
       "  <thead>\n",
       "    <tr style=\"text-align: right;\">\n",
       "      <th></th>\n",
       "      <th>pop_s</th>\n",
       "      <th>b</th>\n",
       "      <th>mut_p</th>\n",
       "      <th>mut_s</th>\n",
       "      <th>p_sel</th>\n",
       "      <th>s_sel</th>\n",
       "      <th>f_min</th>\n",
       "      <th>f_max</th>\n",
       "      <th>f_mean</th>\n",
       "      <th>f_std</th>\n",
       "    </tr>\n",
       "  </thead>\n",
       "  <tbody>\n",
       "    <tr>\n",
       "      <th>1915</th>\n",
       "      <td>1</td>\n",
       "      <td>1.0</td>\n",
       "      <td>1.0</td>\n",
       "      <td>1.0</td>\n",
       "      <td>1</td>\n",
       "      <td>1</td>\n",
       "      <td>0.097980</td>\n",
       "      <td>63.659197</td>\n",
       "      <td>3.210782</td>\n",
       "      <td>12.165975</td>\n",
       "    </tr>\n",
       "    <tr>\n",
       "      <th>1916</th>\n",
       "      <td>1</td>\n",
       "      <td>1.0</td>\n",
       "      <td>1.0</td>\n",
       "      <td>1.0</td>\n",
       "      <td>1</td>\n",
       "      <td>1</td>\n",
       "      <td>0.000056</td>\n",
       "      <td>62.265444</td>\n",
       "      <td>2.565227</td>\n",
       "      <td>11.036649</td>\n",
       "    </tr>\n",
       "    <tr>\n",
       "      <th>1917</th>\n",
       "      <td>1</td>\n",
       "      <td>1.0</td>\n",
       "      <td>1.0</td>\n",
       "      <td>1.0</td>\n",
       "      <td>1</td>\n",
       "      <td>1</td>\n",
       "      <td>0.019123</td>\n",
       "      <td>54.797925</td>\n",
       "      <td>2.568530</td>\n",
       "      <td>10.836628</td>\n",
       "    </tr>\n",
       "    <tr>\n",
       "      <th>1918</th>\n",
       "      <td>1</td>\n",
       "      <td>1.0</td>\n",
       "      <td>1.0</td>\n",
       "      <td>1.0</td>\n",
       "      <td>1</td>\n",
       "      <td>1</td>\n",
       "      <td>0.003482</td>\n",
       "      <td>56.579297</td>\n",
       "      <td>1.902245</td>\n",
       "      <td>9.683436</td>\n",
       "    </tr>\n",
       "    <tr>\n",
       "      <th>1919</th>\n",
       "      <td>1</td>\n",
       "      <td>1.0</td>\n",
       "      <td>1.0</td>\n",
       "      <td>1.0</td>\n",
       "      <td>1</td>\n",
       "      <td>1</td>\n",
       "      <td>0.004149</td>\n",
       "      <td>65.189863</td>\n",
       "      <td>4.828361</td>\n",
       "      <td>14.751174</td>\n",
       "    </tr>\n",
       "  </tbody>\n",
       "</table>\n",
       "</div>"
      ],
      "text/latex": [
       "\\begin{longtable}{lrrrrrrrrrr}\n",
       "\\toprule\n",
       "{} &  pop\\_s &    b &  mut\\_p &  mut\\_s &  p\\_sel &  s\\_sel &     f\\_min &      f\\_max &    f\\_mean &      f\\_std \\\\\n",
       "\\midrule\n",
       "\\endhead\n",
       "\\midrule\n",
       "\\multicolumn{11}{r}{{Continued on next page}} \\\\\n",
       "\\midrule\n",
       "\\endfoot\n",
       "\n",
       "\\bottomrule\n",
       "\\endlastfoot\n",
       "1915 &      1 &  1.0 &    1.0 &    1.0 &      1 &      1 &  0.097980 &  63.659197 &  3.210782 &  12.165975 \\\\\n",
       "1916 &      1 &  1.0 &    1.0 &    1.0 &      1 &      1 &  0.000056 &  62.265444 &  2.565227 &  11.036649 \\\\\n",
       "1917 &      1 &  1.0 &    1.0 &    1.0 &      1 &      1 &  0.019123 &  54.797925 &  2.568530 &  10.836628 \\\\\n",
       "1918 &      1 &  1.0 &    1.0 &    1.0 &      1 &      1 &  0.003482 &  56.579297 &  1.902245 &   9.683436 \\\\\n",
       "1919 &      1 &  1.0 &    1.0 &    1.0 &      1 &      1 &  0.004149 &  65.189863 &  4.828361 &  14.751174 \\\\\n",
       "\\end{longtable}\n"
      ],
      "text/plain": [
       "      pop_s    b  mut_p  mut_s  p_sel  s_sel     f_min      f_max    f_mean  \\\n",
       "1915      1  1.0    1.0    1.0      1      1  0.097980  63.659197  3.210782   \n",
       "1916      1  1.0    1.0    1.0      1      1  0.000056  62.265444  2.565227   \n",
       "1917      1  1.0    1.0    1.0      1      1  0.019123  54.797925  2.568530   \n",
       "1918      1  1.0    1.0    1.0      1      1  0.003482  56.579297  1.902245   \n",
       "1919      1  1.0    1.0    1.0      1      1  0.004149  65.189863  4.828361   \n",
       "\n",
       "          f_std  \n",
       "1915  12.165975  \n",
       "1916  11.036649  \n",
       "1917  10.836628  \n",
       "1918   9.683436  \n",
       "1919  14.751174  "
      ]
     },
     "execution_count": 19,
     "metadata": {},
     "output_type": "execute_result"
    }
   ],
   "source": [
    "multi_final_fitness_res.tail()"
   ]
  },
  {
   "cell_type": "markdown",
   "metadata": {},
   "source": [
    "Storing the Factor Coding and DOE results Data Frames"
   ]
  },
  {
   "cell_type": "code",
   "execution_count": null,
   "metadata": {},
   "outputs": [],
   "source": [
    "inputs_df.to_pickle(\"./Data/TEST_B_DOE_code.gz\", compression=\"gzip\")\n",
    "multi_final_fitness_res.to_pickle(\"./Data/TEST_B_DOE_data.gz\", compression=\"gzip\")"
   ]
  },
  {
   "cell_type": "code",
   "execution_count": null,
   "metadata": {},
   "outputs": [],
   "source": []
  }
 ],
 "metadata": {
  "jupytext": {
   "encoding": "# -*- coding: utf-8 -*-",
   "formats": "ipynb,scripts//py:percent"
  },
  "kernelspec": {
   "display_name": "Python [conda env:thesis] *",
   "language": "python",
   "name": "conda-env-thesis-py"
  },
  "language_info": {
   "codemirror_mode": {
    "name": "ipython",
    "version": 3
   },
   "file_extension": ".py",
   "mimetype": "text/x-python",
   "name": "python",
   "nbconvert_exporter": "python",
   "pygments_lexer": "ipython3",
   "version": "3.6.7"
  }
 },
 "nbformat": 4,
 "nbformat_minor": 2
}
