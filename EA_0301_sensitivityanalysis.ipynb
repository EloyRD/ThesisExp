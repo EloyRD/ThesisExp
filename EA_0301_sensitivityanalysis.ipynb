{
  "metadata": {
    "language_info": {
      "mimetype": "text/x-python",
      "nbconvert_exporter": "python",
      "name": "python",
      "pygments_lexer": "ipython3",
      "version": "3.6.6",
      "file_extension": ".py",
      "codemirror_mode": {
        "version": 3,
        "name": "ipython"
      }
    },
    "kernelspec": {
      "name": "python36",
      "display_name": "Python 3.6",
      "language": "python"
    }
  },
  "nbformat_minor": 2,
  "nbformat": 4,
  "cells": [
    {
      "cell_type": "markdown",
      "source": "# Constructing a simple sensitivity analysis",
      "metadata": {}
    },
    {
      "cell_type": "markdown",
      "source": "# Preliminaries\n## Importing packages",
      "metadata": {}
    },
    {
      "cell_type": "code",
      "source": "import numpy as np\n\n%matplotlib inline\n\nimport seaborn as sns\nsns.set()\nsns.set_style('whitegrid')\nsns.set_context('notebook')\n\nfrom thesis_EAfunc import *\nfrom thesis_visfunc import *",
      "metadata": {
        "trusted": true
      },
      "execution_count": 1,
      "outputs": []
    },
    {
      "cell_type": "code",
      "source": "import datetime\nprint(datetime.datetime.now())",
      "metadata": {
        "trusted": true
      },
      "execution_count": 2,
      "outputs": [
        {
          "text": "2019-04-26 17:01:49.869633\n",
          "name": "stdout",
          "output_type": "stream"
        }
      ]
    },
    {
      "cell_type": "markdown",
      "source": "# Define Landscape",
      "metadata": {}
    },
    {
      "cell_type": "code",
      "source": "#Problem domain\nx_min = -2.5\nx_max = 2.5\ny_min = -2.5\ny_max = 2.5\n\ndomain = (x_min, x_max, y_min, y_max)\n\n#Problem definition\ndef f(x, y):\n    D = 2\n    alpha = 1/8\n    a = np.abs(x ** 2 + y ** 2 - D) ** (alpha * D)\n    b = ( 0.5 * (x ** 2 + y ** 2) + (x + y) ) / D\n        \n    return (a + b + 0.5)\n\n#Testing the minimum\nf(-1,-1)",
      "metadata": {
        "trusted": true
      },
      "execution_count": 3,
      "outputs": [
        {
          "execution_count": 3,
          "output_type": "execute_result",
          "data": {
            "text/plain": "0.0"
          },
          "metadata": {}
        }
      ]
    },
    {
      "cell_type": "markdown",
      "source": "# Running the Evolutionary Algorithm\n2 Experiments -> Each with a 100 runs -> Each with different maximum step for mutation\n## Setting the EA's parameters",
      "metadata": {}
    },
    {
      "cell_type": "code",
      "source": "#starting seed\nnp.random.seed(654321)",
      "metadata": {
        "trusted": true
      },
      "execution_count": 4,
      "outputs": []
    },
    {
      "cell_type": "markdown",
      "source": "## Setting data storage",
      "metadata": {}
    },
    {
      "cell_type": "code",
      "source": "mult_res_cols = ['exp'] + ['mut_s'] + ['run', 'generation', 'fitness_min', 'fitness_max', 'fitness_mean', 'fitness_std']\nmulti_res = pd.DataFrame(columns=mult_res_cols)",
      "metadata": {
        "trusted": true
      },
      "execution_count": 5,
      "outputs": []
    },
    {
      "cell_type": "markdown",
      "source": "## Parameters common to all experiments",
      "metadata": {}
    },
    {
      "cell_type": "code",
      "source": "#Algorithm parameters\n## Number of runs, and generations per run\nrun_n = 50\ngen_f = 40\n\n## Population size\npop_s = 21\n\n## Parent subpopulation's selection method and size\npar_selection = 'Ranking'\npar_s = 7\n\n## Progeny subpopulation's and size\nprog_s = 7\n### Crossover Method\ncrossover = 'None'\n### Mutation method, probability and size\nmutation = 'random_co_dis'\nmut_p = 0.15\n\n## New population selection method\npopulation_new='Ranking'",
      "metadata": {
        "trusted": true
      },
      "execution_count": 6,
      "outputs": []
    },
    {
      "cell_type": "markdown",
      "source": "### First experiment\nMaximum mutation step = 0.5",
      "metadata": {}
    },
    {
      "cell_type": "code",
      "source": "#Algorithm parameters\n##Experiment number\nexp_n = 1\n## Progeny subpopulation's and size\n### Mutation method, probability and size\nmut_s = 0.5",
      "metadata": {
        "trusted": true
      },
      "execution_count": 7,
      "outputs": []
    },
    {
      "cell_type": "code",
      "source": "genera_res, fitness_res = EA_exp(run_n, gen_f, f, domain, pop_s, par_s, prog_s, mut_p, mut_s, par_selection, crossover, mutation, population_new)",
      "metadata": {
        "trusted": true
      },
      "execution_count": 8,
      "outputs": []
    },
    {
      "cell_type": "code",
      "source": "query = (fitness_res['generation']==gen_f)\na = fitness_res[query]\na.insert(0,'mut_s',mut_s)\na.insert(0,'exp',exp_n)\nmulti_res = multi_res.append(a, ignore_index=True)",
      "metadata": {
        "trusted": true
      },
      "execution_count": 9,
      "outputs": []
    },
    {
      "cell_type": "markdown",
      "source": "### Second experiment\nMaximum mutation step = 0.75",
      "metadata": {}
    },
    {
      "cell_type": "code",
      "source": "exp_n += 1\nmut_s = 0.75",
      "metadata": {
        "trusted": true
      },
      "execution_count": 10,
      "outputs": []
    },
    {
      "cell_type": "code",
      "source": "genera_res, fitness_res = EA_exp(run_n, gen_f, f, domain, pop_s, par_s, prog_s, mut_p, mut_s, par_selection, crossover, mutation, population_new)",
      "metadata": {
        "trusted": true
      },
      "execution_count": null,
      "outputs": []
    },
    {
      "cell_type": "code",
      "source": "query = (fitness_res['generation']==gen_f)\na = fitness_res[query]\na.insert(0,'mut_s',mut_s)\na.insert(0,'exp',exp_n)\nmulti_res = multi_res.append(a, ignore_index=True)",
      "metadata": {
        "trusted": true
      },
      "execution_count": 12,
      "outputs": []
    },
    {
      "cell_type": "markdown",
      "source": "### Third experiment\nMaximum mutation step = 0.25",
      "metadata": {}
    },
    {
      "cell_type": "code",
      "source": "exp_n += 1\nmut_s = 0.25",
      "metadata": {
        "trusted": true
      },
      "execution_count": 13,
      "outputs": []
    },
    {
      "cell_type": "code",
      "source": "genera_res, fitness_res = EA_exp(run_n, gen_f, f, domain, pop_s, par_s, prog_s, mut_p, mut_s, par_selection, crossover, mutation, population_new)",
      "metadata": {
        "trusted": true
      },
      "execution_count": 14,
      "outputs": []
    },
    {
      "cell_type": "code",
      "source": "query = (fitness_res['generation']==gen_f)\na = fitness_res[query]\na.insert(0,'mut_s',mut_s)\na.insert(0,'exp',exp_n)\nmulti_res = multi_res.append(a, ignore_index=True)",
      "metadata": {
        "trusted": true
      },
      "execution_count": 15,
      "outputs": []
    },
    {
      "cell_type": "markdown",
      "source": "### Fourth experiment\nMaximum mutation step = 0.15",
      "metadata": {}
    },
    {
      "cell_type": "code",
      "source": "exp_n += 1\nmut_s = 0.15",
      "metadata": {
        "trusted": true
      },
      "execution_count": 16,
      "outputs": []
    },
    {
      "cell_type": "code",
      "source": "genera_res, fitness_res = EA_exp(run_n, gen_f, f, domain, pop_s, par_s, prog_s, mut_p, mut_s, par_selection, crossover, mutation, population_new)",
      "metadata": {
        "trusted": true
      },
      "execution_count": 17,
      "outputs": []
    },
    {
      "cell_type": "code",
      "source": "query = (fitness_res['generation']==gen_f)\na = fitness_res[query]\na.insert(0,'mut_s',mut_s)\na.insert(0,'exp',exp_n)\nmulti_res = multi_res.append(a, ignore_index=True)",
      "metadata": {
        "trusted": true
      },
      "execution_count": 18,
      "outputs": []
    },
    {
      "cell_type": "markdown",
      "source": "### Fifth experiment\nMaximum mutation step = 0.05",
      "metadata": {}
    },
    {
      "cell_type": "code",
      "source": "exp_n += 1\nmut_s = 0.05",
      "metadata": {
        "trusted": true
      },
      "execution_count": 19,
      "outputs": []
    },
    {
      "cell_type": "code",
      "source": "genera_res, fitness_res = EA_exp(run_n, gen_f, f, domain, pop_s, par_s, prog_s, mut_p, mut_s, par_selection, crossover, mutation, population_new)",
      "metadata": {
        "trusted": true
      },
      "execution_count": 20,
      "outputs": []
    },
    {
      "cell_type": "code",
      "source": "query = (fitness_res['generation']==gen_f)\na = fitness_res[query]\na.insert(0,'mut_s',mut_s)\na.insert(0,'exp',exp_n)\nmulti_res = multi_res.append(a, ignore_index=True)",
      "metadata": {
        "trusted": true
      },
      "execution_count": 21,
      "outputs": []
    },
    {
      "cell_type": "code",
      "source": "multi_res.head()",
      "metadata": {
        "trusted": true
      },
      "execution_count": 22,
      "outputs": [
        {
          "execution_count": 22,
          "output_type": "execute_result",
          "data": {
            "text/html": "<div>\n<style scoped>\n    .dataframe tbody tr th:only-of-type {\n        vertical-align: middle;\n    }\n\n    .dataframe tbody tr th {\n        vertical-align: top;\n    }\n\n    .dataframe thead th {\n        text-align: right;\n    }\n</style>\n<table border=\"1\" class=\"dataframe\">\n  <thead>\n    <tr style=\"text-align: right;\">\n      <th></th>\n      <th>exp</th>\n      <th>mut_s</th>\n      <th>run</th>\n      <th>generation</th>\n      <th>fitness_min</th>\n      <th>fitness_max</th>\n      <th>fitness_mean</th>\n      <th>fitness_std</th>\n    </tr>\n  </thead>\n  <tbody>\n    <tr>\n      <th>0</th>\n      <td>1</td>\n      <td>0.5</td>\n      <td>0</td>\n      <td>40</td>\n      <td>0.472505</td>\n      <td>0.619480</td>\n      <td>0.612481</td>\n      <td>0.032073</td>\n    </tr>\n    <tr>\n      <th>1</th>\n      <td>1</td>\n      <td>0.5</td>\n      <td>1</td>\n      <td>40</td>\n      <td>0.472989</td>\n      <td>1.592684</td>\n      <td>1.016668</td>\n      <td>0.405302</td>\n    </tr>\n    <tr>\n      <th>2</th>\n      <td>1</td>\n      <td>0.5</td>\n      <td>2</td>\n      <td>40</td>\n      <td>0.777372</td>\n      <td>0.777372</td>\n      <td>0.777372</td>\n      <td>0.000000</td>\n    </tr>\n    <tr>\n      <th>3</th>\n      <td>1</td>\n      <td>0.5</td>\n      <td>3</td>\n      <td>40</td>\n      <td>0.827534</td>\n      <td>1.006069</td>\n      <td>0.836036</td>\n      <td>0.038959</td>\n    </tr>\n    <tr>\n      <th>4</th>\n      <td>1</td>\n      <td>0.5</td>\n      <td>4</td>\n      <td>40</td>\n      <td>0.957118</td>\n      <td>0.957118</td>\n      <td>0.957118</td>\n      <td>0.000000</td>\n    </tr>\n  </tbody>\n</table>\n</div>",
            "text/plain": "  exp  mut_s run generation  fitness_min  fitness_max  fitness_mean  \\\n0   1    0.5   0         40     0.472505     0.619480      0.612481   \n1   1    0.5   1         40     0.472989     1.592684      1.016668   \n2   1    0.5   2         40     0.777372     0.777372      0.777372   \n3   1    0.5   3         40     0.827534     1.006069      0.836036   \n4   1    0.5   4         40     0.957118     0.957118      0.957118   \n\n   fitness_std  \n0     0.032073  \n1     0.405302  \n2     0.000000  \n3     0.038959  \n4     0.000000  "
          },
          "metadata": {}
        }
      ]
    },
    {
      "cell_type": "code",
      "source": "sns.lmplot(x='mut_s', y='fitness_mean', fit_reg=True, order=3, data=multi_res)\nplt.xlim(0,None)\nplt.ylim(0,None)",
      "metadata": {
        "trusted": true
      },
      "execution_count": 23,
      "outputs": [
        {
          "execution_count": 23,
          "output_type": "execute_result",
          "data": {
            "text/plain": "(0, 1.3672806496558025)"
          },
          "metadata": {}
        },
        {
          "output_type": "display_data",
          "data": {
            "image/png": "[encoded data removed]",
            "text/plain": "<Figure size 360x360 with 1 Axes>"
          },
          "metadata": {
            "needs_background": "light"
          }
        }
      ]
    },
    {
      "cell_type": "code",
      "source": "print(datetime.datetime.now())",
      "metadata": {
        "trusted": true
      },
      "execution_count": 24,
      "outputs": [
        {
          "text": "2019-04-26 17:10:32.511248\n",
          "name": "stdout",
          "output_type": "stream"
        }
      ]
    }
  ]
}