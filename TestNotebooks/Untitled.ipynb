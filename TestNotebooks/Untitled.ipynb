{
 "cells": [
  {
   "cell_type": "code",
   "execution_count": 3,
   "metadata": {},
   "outputs": [],
   "source": [
    "import itertools as it"
   ]
  },
  {
   "cell_type": "code",
   "execution_count": 17,
   "metadata": {},
   "outputs": [
    {
     "data": {
      "text/plain": [
       "[(20, 3),\n",
       " (20, 0.5),\n",
       " (20, 1),\n",
       " (20, 2),\n",
       " (20, 5),\n",
       " (10, 3),\n",
       " (10, 0.5),\n",
       " (10, 1),\n",
       " (10, 2),\n",
       " (10, 5),\n",
       " (40, 3),\n",
       " (40, 0.5),\n",
       " (40, 1),\n",
       " (40, 2),\n",
       " (40, 5),\n",
       " (80, 3),\n",
       " (80, 0.5),\n",
       " (80, 1),\n",
       " (80, 2),\n",
       " (80, 5),\n",
       " (160, 3),\n",
       " (160, 0.5),\n",
       " (160, 1),\n",
       " (160, 2),\n",
       " (160, 5)]"
      ]
     },
     "execution_count": 17,
     "metadata": {},
     "output_type": "execute_result"
    }
   ],
   "source": [
    "pop_size_lvl = [20, 10, 40, 80, 160]\n",
    "b_ratio_lvl  = [3, 0.5, 1, 2, 5]\n",
    "\n",
    "paring = list(it.product(pop_size_lvl, \n",
    "                          b_ratio_lvl\n",
    "                         )\n",
    "              )\n",
    "\n",
    "paring"
   ]
  },
  {
   "cell_type": "code",
   "execution_count": 19,
   "metadata": {},
   "outputs": [
    {
     "name": "stdout",
     "output_type": "stream",
     "text": [
      "100000\n",
      "2500\n",
      "416\n",
      "416\n",
      "0\n",
      "0\n",
      "0\n",
      "0\n",
      "0\n",
      "0\n",
      "0\n",
      "0\n",
      "0\n",
      "0\n",
      "0\n",
      "0\n",
      "0\n",
      "0\n",
      "0\n",
      "0\n",
      "0\n",
      "0\n",
      "0\n",
      "0\n",
      "0\n"
     ]
    }
   ],
   "source": [
    "a = list(range(vvghfc))\n",
    "\n",
    "(x,y) = paring[-1]\n",
    "sequence = [x + x*y*num for num in a]\n",
    "\n",
    "intersect = set(sequence)\n",
    "\n",
    "for (x,y) in paring:\n",
    "    print(len(intersect))\n",
    "    sequence = [x + x*y*num for num in a]\n",
    "    intersect = intersect & set(sequence)"
   ]
  },
  {
   "cell_type": "code",
   "execution_count": null,
   "metadata": {},
   "outputs": [],
   "source": []
  }
 ],
 "metadata": {
  "kernelspec": {
   "display_name": "Python 3",
   "language": "python",
   "name": "python3"
  },
  "language_info": {
   "codemirror_mode": {
    "name": "ipython",
    "version": 3
   },
   "file_extension": ".py",
   "mimetype": "text/x-python",
   "name": "python",
   "nbconvert_exporter": "python",
   "pygments_lexer": "ipython3",
   "version": "3.7.3"
  }
 },
 "nbformat": 4,
 "nbformat_minor": 2
}
